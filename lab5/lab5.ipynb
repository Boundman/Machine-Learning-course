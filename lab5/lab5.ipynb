{
  "nbformat": 4,
  "nbformat_minor": 0,
  "metadata": {
    "colab": {
      "name": "lab5.ipynb",
      "provenance": []
    },
    "kernelspec": {
      "name": "python3",
      "display_name": "Python 3"
    },
    "accelerator": "GPU"
  },
  "cells": [
    {
      "cell_type": "code",
      "metadata": {
        "id": "IyeQCQJZW7yn",
        "colab_type": "code",
        "outputId": "fa515f50-b94d-44c9-dd5c-f7f56115a696",
        "colab": {
          "base_uri": "https://localhost:8080/",
          "height": 215
        }
      },
      "source": [
        "import pandas as pd\n",
        "import numpy as np\n",
        "import io\n",
        "import requests\n",
        "from sklearn.impute import SimpleImputer\n",
        "\n",
        "\n",
        "# mushrooms dataset\n",
        "url = \"https://www.wolframcloud.com/obj/d0c0084e-0b60-46db-a4d9-beb33412905e\"\n",
        "s = requests.get(url).content\n",
        "data = pd.read_csv(io.StringIO(s.decode('utf-8')))\n",
        "data.head()"
      ],
      "execution_count": 1,
      "outputs": [
        {
          "output_type": "execute_result",
          "data": {
            "text/html": [
              "<div>\n",
              "<style scoped>\n",
              "    .dataframe tbody tr th:only-of-type {\n",
              "        vertical-align: middle;\n",
              "    }\n",
              "\n",
              "    .dataframe tbody tr th {\n",
              "        vertical-align: top;\n",
              "    }\n",
              "\n",
              "    .dataframe thead th {\n",
              "        text-align: right;\n",
              "    }\n",
              "</style>\n",
              "<table border=\"1\" class=\"dataframe\">\n",
              "  <thead>\n",
              "    <tr style=\"text-align: right;\">\n",
              "      <th></th>\n",
              "      <th>CapShape</th>\n",
              "      <th>CapSurface</th>\n",
              "      <th>CapColor</th>\n",
              "      <th>Bruises</th>\n",
              "      <th>Odor</th>\n",
              "      <th>GillAttachment</th>\n",
              "      <th>GillSpacing</th>\n",
              "      <th>GillSize</th>\n",
              "      <th>GillColor</th>\n",
              "      <th>StalkShape</th>\n",
              "      <th>StalkRoot</th>\n",
              "      <th>StalkSurfaceAboveRing</th>\n",
              "      <th>StalkSurfaceBelowRing</th>\n",
              "      <th>StalkColorAboveRing</th>\n",
              "      <th>StalkColorBelowRing</th>\n",
              "      <th>VeilType</th>\n",
              "      <th>VeilColor</th>\n",
              "      <th>RingNumber</th>\n",
              "      <th>RingType</th>\n",
              "      <th>SporePrintColor</th>\n",
              "      <th>Population</th>\n",
              "      <th>Habitat</th>\n",
              "      <th>Class</th>\n",
              "    </tr>\n",
              "  </thead>\n",
              "  <tbody>\n",
              "    <tr>\n",
              "      <th>0</th>\n",
              "      <td>convex</td>\n",
              "      <td>smooth</td>\n",
              "      <td>brown</td>\n",
              "      <td>True</td>\n",
              "      <td>pungent</td>\n",
              "      <td>free</td>\n",
              "      <td>close</td>\n",
              "      <td>narrow</td>\n",
              "      <td>black</td>\n",
              "      <td>enlarging</td>\n",
              "      <td>equal</td>\n",
              "      <td>smooth</td>\n",
              "      <td>smooth</td>\n",
              "      <td>white</td>\n",
              "      <td>white</td>\n",
              "      <td>partial</td>\n",
              "      <td>white</td>\n",
              "      <td>1</td>\n",
              "      <td>pendant</td>\n",
              "      <td>black</td>\n",
              "      <td>scattered</td>\n",
              "      <td>urban</td>\n",
              "      <td>poisonous</td>\n",
              "    </tr>\n",
              "    <tr>\n",
              "      <th>1</th>\n",
              "      <td>convex</td>\n",
              "      <td>smooth</td>\n",
              "      <td>yellow</td>\n",
              "      <td>True</td>\n",
              "      <td>almond</td>\n",
              "      <td>free</td>\n",
              "      <td>close</td>\n",
              "      <td>broad</td>\n",
              "      <td>black</td>\n",
              "      <td>enlarging</td>\n",
              "      <td>club</td>\n",
              "      <td>smooth</td>\n",
              "      <td>smooth</td>\n",
              "      <td>white</td>\n",
              "      <td>white</td>\n",
              "      <td>partial</td>\n",
              "      <td>white</td>\n",
              "      <td>1</td>\n",
              "      <td>pendant</td>\n",
              "      <td>brown</td>\n",
              "      <td>numerous</td>\n",
              "      <td>grasses</td>\n",
              "      <td>edible</td>\n",
              "    </tr>\n",
              "    <tr>\n",
              "      <th>2</th>\n",
              "      <td>bell</td>\n",
              "      <td>smooth</td>\n",
              "      <td>white</td>\n",
              "      <td>True</td>\n",
              "      <td>anise</td>\n",
              "      <td>free</td>\n",
              "      <td>close</td>\n",
              "      <td>broad</td>\n",
              "      <td>brown</td>\n",
              "      <td>enlarging</td>\n",
              "      <td>club</td>\n",
              "      <td>smooth</td>\n",
              "      <td>smooth</td>\n",
              "      <td>white</td>\n",
              "      <td>white</td>\n",
              "      <td>partial</td>\n",
              "      <td>white</td>\n",
              "      <td>1</td>\n",
              "      <td>pendant</td>\n",
              "      <td>brown</td>\n",
              "      <td>numerous</td>\n",
              "      <td>meadows</td>\n",
              "      <td>edible</td>\n",
              "    </tr>\n",
              "    <tr>\n",
              "      <th>3</th>\n",
              "      <td>convex</td>\n",
              "      <td>scaly</td>\n",
              "      <td>white</td>\n",
              "      <td>True</td>\n",
              "      <td>pungent</td>\n",
              "      <td>free</td>\n",
              "      <td>close</td>\n",
              "      <td>narrow</td>\n",
              "      <td>brown</td>\n",
              "      <td>enlarging</td>\n",
              "      <td>equal</td>\n",
              "      <td>smooth</td>\n",
              "      <td>smooth</td>\n",
              "      <td>white</td>\n",
              "      <td>white</td>\n",
              "      <td>partial</td>\n",
              "      <td>white</td>\n",
              "      <td>1</td>\n",
              "      <td>pendant</td>\n",
              "      <td>black</td>\n",
              "      <td>scattered</td>\n",
              "      <td>urban</td>\n",
              "      <td>poisonous</td>\n",
              "    </tr>\n",
              "    <tr>\n",
              "      <th>4</th>\n",
              "      <td>convex</td>\n",
              "      <td>smooth</td>\n",
              "      <td>gray</td>\n",
              "      <td>False</td>\n",
              "      <td>none</td>\n",
              "      <td>free</td>\n",
              "      <td>crowded</td>\n",
              "      <td>broad</td>\n",
              "      <td>black</td>\n",
              "      <td>tapering</td>\n",
              "      <td>equal</td>\n",
              "      <td>smooth</td>\n",
              "      <td>smooth</td>\n",
              "      <td>white</td>\n",
              "      <td>white</td>\n",
              "      <td>partial</td>\n",
              "      <td>white</td>\n",
              "      <td>1</td>\n",
              "      <td>evanescent</td>\n",
              "      <td>brown</td>\n",
              "      <td>abundant</td>\n",
              "      <td>grasses</td>\n",
              "      <td>edible</td>\n",
              "    </tr>\n",
              "  </tbody>\n",
              "</table>\n",
              "</div>"
            ],
            "text/plain": [
              "  CapShape CapSurface CapColor  ...  Population  Habitat      Class\n",
              "0   convex     smooth    brown  ...   scattered    urban  poisonous\n",
              "1   convex     smooth   yellow  ...    numerous  grasses     edible\n",
              "2     bell     smooth    white  ...    numerous  meadows     edible\n",
              "3   convex      scaly    white  ...   scattered    urban  poisonous\n",
              "4   convex     smooth     gray  ...    abundant  grasses     edible\n",
              "\n",
              "[5 rows x 23 columns]"
            ]
          },
          "metadata": {
            "tags": []
          },
          "execution_count": 1
        }
      ]
    },
    {
      "cell_type": "markdown",
      "metadata": {
        "id": "U_4-uTN5nVJW",
        "colab_type": "text"
      },
      "source": [
        "**Подготовка набора данных**\n",
        "\n",
        "**Dataset preparation**"
      ]
    },
    {
      "cell_type": "code",
      "metadata": {
        "id": "G_LQdK5M4f2Q",
        "colab_type": "code",
        "outputId": "1f132d66-252d-4b5f-f1de-c8e52c215208",
        "colab": {
          "base_uri": "https://localhost:8080/",
          "height": 521
        }
      },
      "source": [
        "rows, columns = data.shape\n",
        "print('rows = {}; columns = {}'.format(rows, columns), '\\n\\n')\n",
        "\n",
        "# go through each dataset column and check unique values to find empty one (like NaN or Missing[])\n",
        "for col in data.columns:\n",
        "  print('{}: {}'.format(col, data[col].unique()))"
      ],
      "execution_count": 2,
      "outputs": [
        {
          "output_type": "stream",
          "text": [
            "rows = 8124; columns = 23 \n",
            "\n",
            "\n",
            "CapShape: ['convex' 'bell' 'sunken' 'flat' 'knobbed' 'conical']\n",
            "CapSurface: ['smooth' 'scaly' 'fibrous' 'grooves']\n",
            "CapColor: ['brown' 'yellow' 'white' 'gray' 'red' 'pink' 'buff' 'purple' 'cinnamon'\n",
            " 'green']\n",
            "Bruises: [ True False]\n",
            "Odor: ['pungent' 'almond' 'anise' 'none' 'foul' 'creosote' 'fishy' 'spicy'\n",
            " 'musty']\n",
            "GillAttachment: ['free' 'attached']\n",
            "GillSpacing: ['close' 'crowded']\n",
            "GillSize: ['narrow' 'broad']\n",
            "GillColor: ['black' 'brown' 'gray' 'pink' 'white' 'chocolate' 'purple' 'red' 'buff'\n",
            " 'green' 'yellow' 'orange']\n",
            "StalkShape: ['enlarging' 'tapering']\n",
            "StalkRoot: ['equal' 'club' 'bulbous' 'rooted' 'Missing[]']\n",
            "StalkSurfaceAboveRing: ['smooth' 'fibrous' 'silky' 'scaly']\n",
            "StalkSurfaceBelowRing: ['smooth' 'fibrous' 'scaly' 'silky']\n",
            "StalkColorAboveRing: ['white' 'gray' 'pink' 'brown' 'buff' 'red' 'orange' 'cinnamon' 'yellow']\n",
            "StalkColorBelowRing: ['white' 'pink' 'gray' 'buff' 'brown' 'red' 'yellow' 'orange' 'cinnamon']\n",
            "VeilType: ['partial']\n",
            "VeilColor: ['white' 'brown' 'orange' 'yellow']\n",
            "RingNumber: [1 2 0]\n",
            "RingType: ['pendant' 'evanescent' 'large' 'flaring' 'none']\n",
            "SporePrintColor: ['black' 'brown' 'purple' 'chocolate' 'white' 'green' 'orange' 'yellow'\n",
            " 'buff']\n",
            "Population: ['scattered' 'numerous' 'abundant' 'several' 'solitary' 'clustered']\n",
            "Habitat: ['urban' 'grasses' 'meadows' 'woods' 'paths' 'waste' 'leaves']\n",
            "Class: ['poisonous' 'edible']\n"
          ],
          "name": "stdout"
        }
      ]
    },
    {
      "cell_type": "code",
      "metadata": {
        "id": "wcYkr6_-55Mm",
        "colab_type": "code",
        "outputId": "cf80cead-7ca0-4790-e7e3-9a2254c5d413",
        "colab": {
          "base_uri": "https://localhost:8080/",
          "height": 87
        }
      },
      "source": [
        "\"\"\"\n",
        "on initial viewing it seems that we have single column\n",
        "with absence of values in rows: this column is StalkRoot and\n",
        "absence of values is indicated like Missing[]\n",
        "\"\"\"\n",
        "\n",
        "# Take a look at columns more precisely to ensure that this column is single with absence of values\n",
        "for col in data.columns:\n",
        "    # Missing[] amount \n",
        "    temp_null_count = data[data[col] == 'Missing[]'].shape[0]\n",
        "    dt = str(data[col].dtype)\n",
        "    if temp_null_count>0 and (dt=='object'):\n",
        "        temp_perc = round((temp_null_count / rows) * 100.0, 2)\n",
        "        print('Column {}. Data type {}. amount of Missing[] values {}, {}%.'.format(col, dt, temp_null_count, temp_perc))"
      ],
      "execution_count": 3,
      "outputs": [
        {
          "output_type": "stream",
          "text": [
            "Column StalkRoot. Data type object. amount of Missing[] values 2480, 30.53%.\n"
          ],
          "name": "stdout"
        },
        {
          "output_type": "stream",
          "text": [
            "/usr/local/lib/python3.6/dist-packages/pandas/core/ops/array_ops.py:253: FutureWarning: elementwise comparison failed; returning scalar instead, but in the future will perform elementwise comparison\n",
            "  res_values = method(rvalues)\n"
          ],
          "name": "stderr"
        }
      ]
    },
    {
      "cell_type": "code",
      "metadata": {
        "id": "Nd0RgpwY9Bmp",
        "colab_type": "code",
        "outputId": "96d0fbae-f563-4c9a-c10b-f3c9e152b0bd",
        "colab": {
          "base_uri": "https://localhost:8080/",
          "height": 34
        }
      },
      "source": [
        "data['StalkRoot'].unique()"
      ],
      "execution_count": 4,
      "outputs": [
        {
          "output_type": "execute_result",
          "data": {
            "text/plain": [
              "array(['equal', 'club', 'bulbous', 'rooted', 'Missing[]'], dtype=object)"
            ]
          },
          "metadata": {
            "tags": []
          },
          "execution_count": 4
        }
      ]
    },
    {
      "cell_type": "code",
      "metadata": {
        "id": "kqverQqQJ96T",
        "colab_type": "code",
        "outputId": "7922c56f-6708-4ea7-f7fb-fb333d939473",
        "colab": {
          "base_uri": "https://localhost:8080/",
          "height": 34
        }
      },
      "source": [
        "# impute data with most frequent values\n",
        "imputation = SimpleImputer(missing_values='Missing[]', strategy='most_frequent')\n",
        "data_imputed = imputation.fit_transform(data[['StalkRoot']])\n",
        "np.unique(data_imputed)"
      ],
      "execution_count": 5,
      "outputs": [
        {
          "output_type": "execute_result",
          "data": {
            "text/plain": [
              "array(['bulbous', 'club', 'equal', 'rooted'], dtype=object)"
            ]
          },
          "metadata": {
            "tags": []
          },
          "execution_count": 5
        }
      ]
    },
    {
      "cell_type": "code",
      "metadata": {
        "id": "9IseBjsnAhEn",
        "colab_type": "code",
        "outputId": "85667649-76bb-457c-f46e-d111ec2faede",
        "colab": {
          "base_uri": "https://localhost:8080/",
          "height": 118
        }
      },
      "source": [
        "# put imputed data in our dataset\n",
        "for i in range(rows):\n",
        "  data['StalkRoot'][i] = data_imputed[i][0]\n",
        "data['StalkRoot'].unique()"
      ],
      "execution_count": 6,
      "outputs": [
        {
          "output_type": "stream",
          "text": [
            "/usr/local/lib/python3.6/dist-packages/ipykernel_launcher.py:3: SettingWithCopyWarning: \n",
            "A value is trying to be set on a copy of a slice from a DataFrame\n",
            "\n",
            "See the caveats in the documentation: https://pandas.pydata.org/pandas-docs/stable/user_guide/indexing.html#returning-a-view-versus-a-copy\n",
            "  This is separate from the ipykernel package so we can avoid doing imports until\n"
          ],
          "name": "stderr"
        },
        {
          "output_type": "execute_result",
          "data": {
            "text/plain": [
              "array(['equal', 'club', 'bulbous', 'rooted'], dtype=object)"
            ]
          },
          "metadata": {
            "tags": []
          },
          "execution_count": 6
        }
      ]
    },
    {
      "cell_type": "code",
      "metadata": {
        "id": "bYCvblsfwVci",
        "colab_type": "code",
        "outputId": "ecf5ee5f-30f0-47b2-d33e-96e48650b017",
        "colab": {
          "base_uri": "https://localhost:8080/",
          "height": 403
        }
      },
      "source": [
        "# now we`ll transform categorical columns to columns with values in [0, 1]\n",
        "object_columns = []\n",
        "\n",
        "# initially, find amount of unique values for each column\n",
        "# and add categorical columns to object_columns\n",
        "for column in data.columns:\n",
        "    dt = str(data[column].dtype)\n",
        "    amount_unique = len(pd.unique(data[column]))\n",
        "    print('{}: {}, {}'.format(column, amount_unique, dt))\n",
        "    if dt == 'object':\n",
        "        object_columns.append({'column': column, 'amount': amount_unique})"
      ],
      "execution_count": 7,
      "outputs": [
        {
          "output_type": "stream",
          "text": [
            "CapShape: 6, object\n",
            "CapSurface: 4, object\n",
            "CapColor: 10, object\n",
            "Bruises: 2, bool\n",
            "Odor: 9, object\n",
            "GillAttachment: 2, object\n",
            "GillSpacing: 2, object\n",
            "GillSize: 2, object\n",
            "GillColor: 12, object\n",
            "StalkShape: 2, object\n",
            "StalkRoot: 4, object\n",
            "StalkSurfaceAboveRing: 4, object\n",
            "StalkSurfaceBelowRing: 4, object\n",
            "StalkColorAboveRing: 9, object\n",
            "StalkColorBelowRing: 9, object\n",
            "VeilType: 1, object\n",
            "VeilColor: 4, object\n",
            "RingNumber: 3, int64\n",
            "RingType: 5, object\n",
            "SporePrintColor: 9, object\n",
            "Population: 6, object\n",
            "Habitat: 7, object\n",
            "Class: 2, object\n"
          ],
          "name": "stdout"
        }
      ]
    },
    {
      "cell_type": "code",
      "metadata": {
        "id": "62dDXKj_Q_sk",
        "colab_type": "code",
        "colab": {}
      },
      "source": [
        "from sklearn.preprocessing import OneHotEncoder\n",
        "ohe = OneHotEncoder()"
      ],
      "execution_count": 0,
      "outputs": []
    },
    {
      "cell_type": "code",
      "metadata": {
        "id": "M9aggnKvX43O",
        "colab_type": "code",
        "colab": {}
      },
      "source": [
        "\"\"\"\n",
        "after oneHot encoding for single value we`ll have something like this [0.0, 1.0, 0.0, 0.0, ...]\n",
        "but we need to have just a number - so this function will normalize it with next formula:\n",
        "norm_val = (N - i) / N, where\n",
        "N - amount of unique values for our column\n",
        "i - index of 1.0 in values [0.0, 1.0, 0.0, 0.0, ...] before normalizing\n",
        "so for example if we`ll have 10 different values - then in normalized view it will variating\n",
        "from 0.1 (if index = 9) to 1.0 (if index = 0)\n",
        "\"\"\"\n",
        "def from_bytes_to_num(col_in_arr, uniquie_amount):\n",
        "    normalized_col = []\n",
        "    for value in col_in_arr:\n",
        "        normalized_value = (uniquie_amount - np.where(value == 1.0)[0][0]) / uniquie_amount\n",
        "        normalized_col.append(float(\"{0:.4f}\".format(normalized_value))) # digits after float point\n",
        "    return normalized_col\n",
        "\n",
        "\n",
        "normalized_data = []\n",
        "for col in object_columns:\n",
        "    uniquie_amount = col['amount']\n",
        "    col_name = col['column']\n",
        "\n",
        "    #encode with oneHot\n",
        "    column_after_encoding = ohe.fit_transform(data[[col_name]])\n",
        "\n",
        "    #fetch it to array\n",
        "    col_in_arr = column_after_encoding.toarray()\n",
        "\n",
        "    #normilizing column values\n",
        "    normalized_col = from_bytes_to_num(col_in_arr, uniquie_amount)\n",
        "\n",
        "    normalized_data.append({'column': col_name, 'data': normalized_col})"
      ],
      "execution_count": 0,
      "outputs": []
    },
    {
      "cell_type": "code",
      "metadata": {
        "id": "G3ocT86Gom1x",
        "colab_type": "code",
        "outputId": "fafcf3e7-bc49-4fe2-dff6-98de73f6d4a2",
        "colab": {
          "base_uri": "https://localhost:8080/",
          "height": 422
        }
      },
      "source": [
        "#set normalized values for general dataset\n",
        "for col in normalized_data:\n",
        "    col_in_dataFrame = pd.DataFrame(data={col['column']: col['data']})\n",
        "    data[col['column']] = col_in_dataFrame\n",
        "\n",
        "data"
      ],
      "execution_count": 10,
      "outputs": [
        {
          "output_type": "execute_result",
          "data": {
            "text/html": [
              "<div>\n",
              "<style scoped>\n",
              "    .dataframe tbody tr th:only-of-type {\n",
              "        vertical-align: middle;\n",
              "    }\n",
              "\n",
              "    .dataframe tbody tr th {\n",
              "        vertical-align: top;\n",
              "    }\n",
              "\n",
              "    .dataframe thead th {\n",
              "        text-align: right;\n",
              "    }\n",
              "</style>\n",
              "<table border=\"1\" class=\"dataframe\">\n",
              "  <thead>\n",
              "    <tr style=\"text-align: right;\">\n",
              "      <th></th>\n",
              "      <th>CapShape</th>\n",
              "      <th>CapSurface</th>\n",
              "      <th>CapColor</th>\n",
              "      <th>Bruises</th>\n",
              "      <th>Odor</th>\n",
              "      <th>GillAttachment</th>\n",
              "      <th>GillSpacing</th>\n",
              "      <th>GillSize</th>\n",
              "      <th>GillColor</th>\n",
              "      <th>StalkShape</th>\n",
              "      <th>StalkRoot</th>\n",
              "      <th>StalkSurfaceAboveRing</th>\n",
              "      <th>StalkSurfaceBelowRing</th>\n",
              "      <th>StalkColorAboveRing</th>\n",
              "      <th>StalkColorBelowRing</th>\n",
              "      <th>VeilType</th>\n",
              "      <th>VeilColor</th>\n",
              "      <th>RingNumber</th>\n",
              "      <th>RingType</th>\n",
              "      <th>SporePrintColor</th>\n",
              "      <th>Population</th>\n",
              "      <th>Habitat</th>\n",
              "      <th>Class</th>\n",
              "    </tr>\n",
              "  </thead>\n",
              "  <tbody>\n",
              "    <tr>\n",
              "      <th>0</th>\n",
              "      <td>0.6667</td>\n",
              "      <td>0.25</td>\n",
              "      <td>1.0</td>\n",
              "      <td>True</td>\n",
              "      <td>0.2222</td>\n",
              "      <td>0.5</td>\n",
              "      <td>1.0</td>\n",
              "      <td>0.5</td>\n",
              "      <td>1.0000</td>\n",
              "      <td>1.0</td>\n",
              "      <td>0.50</td>\n",
              "      <td>0.25</td>\n",
              "      <td>0.25</td>\n",
              "      <td>0.2222</td>\n",
              "      <td>0.2222</td>\n",
              "      <td>1.0</td>\n",
              "      <td>0.50</td>\n",
              "      <td>1</td>\n",
              "      <td>0.2</td>\n",
              "      <td>1.0000</td>\n",
              "      <td>0.5000</td>\n",
              "      <td>0.4286</td>\n",
              "      <td>0.5</td>\n",
              "    </tr>\n",
              "    <tr>\n",
              "      <th>1</th>\n",
              "      <td>0.6667</td>\n",
              "      <td>0.25</td>\n",
              "      <td>0.1</td>\n",
              "      <td>True</td>\n",
              "      <td>1.0000</td>\n",
              "      <td>0.5</td>\n",
              "      <td>1.0</td>\n",
              "      <td>1.0</td>\n",
              "      <td>1.0000</td>\n",
              "      <td>1.0</td>\n",
              "      <td>0.75</td>\n",
              "      <td>0.25</td>\n",
              "      <td>0.25</td>\n",
              "      <td>0.2222</td>\n",
              "      <td>0.2222</td>\n",
              "      <td>1.0</td>\n",
              "      <td>0.50</td>\n",
              "      <td>1</td>\n",
              "      <td>0.2</td>\n",
              "      <td>0.8889</td>\n",
              "      <td>0.6667</td>\n",
              "      <td>1.0000</td>\n",
              "      <td>1.0</td>\n",
              "    </tr>\n",
              "    <tr>\n",
              "      <th>2</th>\n",
              "      <td>1.0000</td>\n",
              "      <td>0.25</td>\n",
              "      <td>0.2</td>\n",
              "      <td>True</td>\n",
              "      <td>0.8889</td>\n",
              "      <td>0.5</td>\n",
              "      <td>1.0</td>\n",
              "      <td>1.0</td>\n",
              "      <td>0.9167</td>\n",
              "      <td>1.0</td>\n",
              "      <td>0.75</td>\n",
              "      <td>0.25</td>\n",
              "      <td>0.25</td>\n",
              "      <td>0.2222</td>\n",
              "      <td>0.2222</td>\n",
              "      <td>1.0</td>\n",
              "      <td>0.50</td>\n",
              "      <td>1</td>\n",
              "      <td>0.2</td>\n",
              "      <td>0.8889</td>\n",
              "      <td>0.6667</td>\n",
              "      <td>0.7143</td>\n",
              "      <td>1.0</td>\n",
              "    </tr>\n",
              "    <tr>\n",
              "      <th>3</th>\n",
              "      <td>0.6667</td>\n",
              "      <td>0.50</td>\n",
              "      <td>0.2</td>\n",
              "      <td>True</td>\n",
              "      <td>0.2222</td>\n",
              "      <td>0.5</td>\n",
              "      <td>1.0</td>\n",
              "      <td>0.5</td>\n",
              "      <td>0.9167</td>\n",
              "      <td>1.0</td>\n",
              "      <td>0.50</td>\n",
              "      <td>0.25</td>\n",
              "      <td>0.25</td>\n",
              "      <td>0.2222</td>\n",
              "      <td>0.2222</td>\n",
              "      <td>1.0</td>\n",
              "      <td>0.50</td>\n",
              "      <td>1</td>\n",
              "      <td>0.2</td>\n",
              "      <td>1.0000</td>\n",
              "      <td>0.5000</td>\n",
              "      <td>0.4286</td>\n",
              "      <td>0.5</td>\n",
              "    </tr>\n",
              "    <tr>\n",
              "      <th>4</th>\n",
              "      <td>0.6667</td>\n",
              "      <td>0.25</td>\n",
              "      <td>0.7</td>\n",
              "      <td>False</td>\n",
              "      <td>0.3333</td>\n",
              "      <td>0.5</td>\n",
              "      <td>0.5</td>\n",
              "      <td>1.0</td>\n",
              "      <td>1.0000</td>\n",
              "      <td>0.5</td>\n",
              "      <td>0.50</td>\n",
              "      <td>0.25</td>\n",
              "      <td>0.25</td>\n",
              "      <td>0.2222</td>\n",
              "      <td>0.2222</td>\n",
              "      <td>1.0</td>\n",
              "      <td>0.50</td>\n",
              "      <td>1</td>\n",
              "      <td>1.0</td>\n",
              "      <td>0.8889</td>\n",
              "      <td>1.0000</td>\n",
              "      <td>1.0000</td>\n",
              "      <td>1.0</td>\n",
              "    </tr>\n",
              "    <tr>\n",
              "      <th>...</th>\n",
              "      <td>...</td>\n",
              "      <td>...</td>\n",
              "      <td>...</td>\n",
              "      <td>...</td>\n",
              "      <td>...</td>\n",
              "      <td>...</td>\n",
              "      <td>...</td>\n",
              "      <td>...</td>\n",
              "      <td>...</td>\n",
              "      <td>...</td>\n",
              "      <td>...</td>\n",
              "      <td>...</td>\n",
              "      <td>...</td>\n",
              "      <td>...</td>\n",
              "      <td>...</td>\n",
              "      <td>...</td>\n",
              "      <td>...</td>\n",
              "      <td>...</td>\n",
              "      <td>...</td>\n",
              "      <td>...</td>\n",
              "      <td>...</td>\n",
              "      <td>...</td>\n",
              "      <td>...</td>\n",
              "    </tr>\n",
              "    <tr>\n",
              "      <th>8119</th>\n",
              "      <td>0.3333</td>\n",
              "      <td>0.25</td>\n",
              "      <td>1.0</td>\n",
              "      <td>False</td>\n",
              "      <td>0.3333</td>\n",
              "      <td>1.0</td>\n",
              "      <td>1.0</td>\n",
              "      <td>1.0</td>\n",
              "      <td>0.0833</td>\n",
              "      <td>1.0</td>\n",
              "      <td>1.00</td>\n",
              "      <td>0.25</td>\n",
              "      <td>0.25</td>\n",
              "      <td>0.5556</td>\n",
              "      <td>0.5556</td>\n",
              "      <td>1.0</td>\n",
              "      <td>0.75</td>\n",
              "      <td>1</td>\n",
              "      <td>0.2</td>\n",
              "      <td>0.7778</td>\n",
              "      <td>0.8333</td>\n",
              "      <td>0.8571</td>\n",
              "      <td>1.0</td>\n",
              "    </tr>\n",
              "    <tr>\n",
              "      <th>8120</th>\n",
              "      <td>0.6667</td>\n",
              "      <td>0.25</td>\n",
              "      <td>1.0</td>\n",
              "      <td>False</td>\n",
              "      <td>0.3333</td>\n",
              "      <td>1.0</td>\n",
              "      <td>1.0</td>\n",
              "      <td>1.0</td>\n",
              "      <td>0.0833</td>\n",
              "      <td>1.0</td>\n",
              "      <td>1.00</td>\n",
              "      <td>0.25</td>\n",
              "      <td>0.25</td>\n",
              "      <td>0.5556</td>\n",
              "      <td>0.5556</td>\n",
              "      <td>1.0</td>\n",
              "      <td>1.00</td>\n",
              "      <td>1</td>\n",
              "      <td>0.2</td>\n",
              "      <td>0.7778</td>\n",
              "      <td>0.3333</td>\n",
              "      <td>0.8571</td>\n",
              "      <td>1.0</td>\n",
              "    </tr>\n",
              "    <tr>\n",
              "      <th>8121</th>\n",
              "      <td>0.5000</td>\n",
              "      <td>0.25</td>\n",
              "      <td>1.0</td>\n",
              "      <td>False</td>\n",
              "      <td>0.3333</td>\n",
              "      <td>1.0</td>\n",
              "      <td>1.0</td>\n",
              "      <td>1.0</td>\n",
              "      <td>0.9167</td>\n",
              "      <td>1.0</td>\n",
              "      <td>1.00</td>\n",
              "      <td>0.25</td>\n",
              "      <td>0.25</td>\n",
              "      <td>0.5556</td>\n",
              "      <td>0.5556</td>\n",
              "      <td>1.0</td>\n",
              "      <td>0.75</td>\n",
              "      <td>1</td>\n",
              "      <td>0.2</td>\n",
              "      <td>0.7778</td>\n",
              "      <td>0.8333</td>\n",
              "      <td>0.8571</td>\n",
              "      <td>1.0</td>\n",
              "    </tr>\n",
              "    <tr>\n",
              "      <th>8122</th>\n",
              "      <td>0.3333</td>\n",
              "      <td>0.50</td>\n",
              "      <td>1.0</td>\n",
              "      <td>False</td>\n",
              "      <td>0.6667</td>\n",
              "      <td>0.5</td>\n",
              "      <td>1.0</td>\n",
              "      <td>0.5</td>\n",
              "      <td>0.8333</td>\n",
              "      <td>0.5</td>\n",
              "      <td>1.00</td>\n",
              "      <td>0.25</td>\n",
              "      <td>0.50</td>\n",
              "      <td>0.2222</td>\n",
              "      <td>0.2222</td>\n",
              "      <td>1.0</td>\n",
              "      <td>0.50</td>\n",
              "      <td>1</td>\n",
              "      <td>1.0</td>\n",
              "      <td>0.2222</td>\n",
              "      <td>0.3333</td>\n",
              "      <td>0.8571</td>\n",
              "      <td>0.5</td>\n",
              "    </tr>\n",
              "    <tr>\n",
              "      <th>8123</th>\n",
              "      <td>0.6667</td>\n",
              "      <td>0.25</td>\n",
              "      <td>1.0</td>\n",
              "      <td>False</td>\n",
              "      <td>0.3333</td>\n",
              "      <td>1.0</td>\n",
              "      <td>1.0</td>\n",
              "      <td>1.0</td>\n",
              "      <td>0.0833</td>\n",
              "      <td>1.0</td>\n",
              "      <td>1.00</td>\n",
              "      <td>0.25</td>\n",
              "      <td>0.25</td>\n",
              "      <td>0.5556</td>\n",
              "      <td>0.5556</td>\n",
              "      <td>1.0</td>\n",
              "      <td>0.75</td>\n",
              "      <td>1</td>\n",
              "      <td>0.2</td>\n",
              "      <td>0.4444</td>\n",
              "      <td>0.8333</td>\n",
              "      <td>0.8571</td>\n",
              "      <td>1.0</td>\n",
              "    </tr>\n",
              "  </tbody>\n",
              "</table>\n",
              "<p>8124 rows × 23 columns</p>\n",
              "</div>"
            ],
            "text/plain": [
              "      CapShape  CapSurface  CapColor  ...  Population  Habitat  Class\n",
              "0       0.6667        0.25       1.0  ...      0.5000   0.4286    0.5\n",
              "1       0.6667        0.25       0.1  ...      0.6667   1.0000    1.0\n",
              "2       1.0000        0.25       0.2  ...      0.6667   0.7143    1.0\n",
              "3       0.6667        0.50       0.2  ...      0.5000   0.4286    0.5\n",
              "4       0.6667        0.25       0.7  ...      1.0000   1.0000    1.0\n",
              "...        ...         ...       ...  ...         ...      ...    ...\n",
              "8119    0.3333        0.25       1.0  ...      0.8333   0.8571    1.0\n",
              "8120    0.6667        0.25       1.0  ...      0.3333   0.8571    1.0\n",
              "8121    0.5000        0.25       1.0  ...      0.8333   0.8571    1.0\n",
              "8122    0.3333        0.50       1.0  ...      0.3333   0.8571    0.5\n",
              "8123    0.6667        0.25       1.0  ...      0.8333   0.8571    1.0\n",
              "\n",
              "[8124 rows x 23 columns]"
            ]
          },
          "metadata": {
            "tags": []
          },
          "execution_count": 10
        }
      ]
    },
    {
      "cell_type": "markdown",
      "metadata": {
        "id": "LA80aEqwUyiS",
        "colab_type": "text"
      },
      "source": [
        "**Разделение данных**\n",
        "\n",
        "**Data splitting**"
      ]
    },
    {
      "cell_type": "code",
      "metadata": {
        "id": "dbxZrdB6rfGs",
        "colab_type": "code",
        "outputId": "035f82e0-4961-4d45-8905-52c18919ec3a",
        "colab": {
          "base_uri": "https://localhost:8080/",
          "height": 269
        }
      },
      "source": [
        "from sklearn.preprocessing import StandardScaler\n",
        "from sklearn.model_selection import cross_val_score, train_test_split\n",
        "\n",
        "dcopy = data.copy()\n",
        "\n",
        "X = dcopy.drop(\"Class\", axis=1)\n",
        "y = dcopy[\"Class\"]\n",
        "print(X.head(), \"\\n\")\n",
        "print(y.head())"
      ],
      "execution_count": 11,
      "outputs": [
        {
          "output_type": "stream",
          "text": [
            "   CapShape  CapSurface  CapColor  ...  SporePrintColor  Population  Habitat\n",
            "0    0.6667        0.25       1.0  ...           1.0000      0.5000   0.4286\n",
            "1    0.6667        0.25       0.1  ...           0.8889      0.6667   1.0000\n",
            "2    1.0000        0.25       0.2  ...           0.8889      0.6667   0.7143\n",
            "3    0.6667        0.50       0.2  ...           1.0000      0.5000   0.4286\n",
            "4    0.6667        0.25       0.7  ...           0.8889      1.0000   1.0000\n",
            "\n",
            "[5 rows x 22 columns] \n",
            "\n",
            "0    0.5\n",
            "1    1.0\n",
            "2    1.0\n",
            "3    0.5\n",
            "4    1.0\n",
            "Name: Class, dtype: float64\n"
          ],
          "name": "stdout"
        }
      ]
    },
    {
      "cell_type": "code",
      "metadata": {
        "id": "sxfAjwPaV4Zs",
        "colab_type": "code",
        "colab": {
          "base_uri": "https://localhost:8080/",
          "height": 84
        },
        "outputId": "cf17e559-42a7-4ba9-c301-49ed0398bd3d"
      },
      "source": [
        "# divide train and test selections\n",
        "X_train, X_test, y_train, y_test = train_test_split(X, y,\n",
        "                            test_size=0.25, random_state=1)\n",
        "print(X_train.shape)\n",
        "print(X_test.shape)\n",
        "print(y_train.shape)\n",
        "print(y_test.shape)"
      ],
      "execution_count": 12,
      "outputs": [
        {
          "output_type": "stream",
          "text": [
            "(6093, 22)\n",
            "(2031, 22)\n",
            "(6093,)\n",
            "(2031,)\n"
          ],
          "name": "stdout"
        }
      ]
    },
    {
      "cell_type": "markdown",
      "metadata": {
        "id": "l_g5PEopBm38",
        "colab_type": "text"
      },
      "source": [
        "**Обучение моделей**\n",
        "\n",
        "**Models training**"
      ]
    },
    {
      "cell_type": "code",
      "metadata": {
        "id": "Wk7obtL7Bxxz",
        "colab_type": "code",
        "colab": {}
      },
      "source": [
        "# checking metricks of the model\n",
        "def test_model(model):\n",
        "    print(\"mean_absolute_error:\",\n",
        "          mean_absolute_error(y_test, model.predict(X_test)))\n",
        "    print(\"median_absolute_error:\",\n",
        "          median_absolute_error(y_test, model.predict(X_test)))\n",
        "    print(\"r2_score:\",\n",
        "          r2_score(y_test, model.predict(X_test)))"
      ],
      "execution_count": 0,
      "outputs": []
    },
    {
      "cell_type": "code",
      "metadata": {
        "id": "uWMcnrjpYWXk",
        "colab_type": "code",
        "colab": {}
      },
      "source": [
        "from sklearn.neighbors import KNeighborsRegressor\n",
        "from sklearn.metrics import mean_absolute_error\n",
        "from sklearn.metrics import median_absolute_error, r2_score\n",
        "\n",
        "def test_model(model):\n",
        "    print(\"mean_absolute_error:\",\n",
        "          mean_absolute_error(y_test, model.predict(X_test)))\n",
        "    print(\"median_absolute_error:\",\n",
        "          median_absolute_error(y_test, model.predict(X_test)))\n",
        "    print(\"r2_score:\",\n",
        "          r2_score(y_test, model.predict(X_test)))"
      ],
      "execution_count": 0,
      "outputs": []
    },
    {
      "cell_type": "markdown",
      "metadata": {
        "id": "qcSzhO9EPNF1",
        "colab_type": "text"
      },
      "source": [
        "**Линейная модель — Lasso**\n",
        "\n",
        "**Linear model — Lasso**"
      ]
    },
    {
      "cell_type": "code",
      "metadata": {
        "id": "Zim6JUGRc8ee",
        "colab_type": "code",
        "outputId": "2c1214ff-b877-4200-83a5-2f073ce3128c",
        "colab": {
          "base_uri": "https://localhost:8080/",
          "height": 67
        }
      },
      "source": [
        "from sklearn.linear_model import Lasso, LinearRegression\n",
        "\n",
        "\n",
        "las_1 = Lasso(alpha=1.0)\n",
        "las_1.fit(X_train, y_train)\n",
        "test_model(las_1)"
      ],
      "execution_count": 26,
      "outputs": [
        {
          "output_type": "stream",
          "text": [
            "mean_absolute_error: 0.24994854496806154\n",
            "median_absolute_error: 0.2383883144592155\n",
            "r2_score: -0.0017653308163576575\n"
          ],
          "name": "stdout"
        }
      ]
    },
    {
      "cell_type": "markdown",
      "metadata": {
        "id": "uyCXfuLidkxT",
        "colab_type": "text"
      },
      "source": [
        "**SVM**"
      ]
    },
    {
      "cell_type": "code",
      "metadata": {
        "id": "HMiZmkAQdD3p",
        "colab_type": "code",
        "outputId": "ebd8a7f9-9982-43f5-e5de-310489c2c68e",
        "colab": {
          "base_uri": "https://localhost:8080/",
          "height": 67
        }
      },
      "source": [
        "from sklearn.svm import NuSVR\n",
        "\n",
        "\n",
        "nusvr_05 = NuSVR(nu=0.5, gamma='scale')\n",
        "nusvr_05.fit(X_train, y_train)\n",
        "test_model(nusvr_05)"
      ],
      "execution_count": 94,
      "outputs": [
        {
          "output_type": "stream",
          "text": [
            "mean_absolute_error: 0.000534966386468839\n",
            "median_absolute_error: 0.00015048447756371708\n",
            "r2_score: 0.9999126628428283\n"
          ],
          "name": "stdout"
        }
      ]
    },
    {
      "cell_type": "markdown",
      "metadata": {
        "id": "fMzMZfxTVmok",
        "colab_type": "text"
      },
      "source": [
        "**Дерево решений**\n",
        "\n",
        "**Decision tree**"
      ]
    },
    {
      "cell_type": "code",
      "metadata": {
        "id": "TCIUWQgfeBdD",
        "colab_type": "code",
        "outputId": "4c62928e-c9a4-45f2-9941-9e03ae848470",
        "colab": {
          "base_uri": "https://localhost:8080/",
          "height": 67
        }
      },
      "source": [
        "from sklearn.tree import DecisionTreeRegressor\n",
        "\n",
        "\n",
        "dt_6 = DecisionTreeRegressor(max_depth=6)\n",
        "dt_6.fit(X_train, y_train)\n",
        "test_model(dt_6)"
      ],
      "execution_count": 47,
      "outputs": [
        {
          "output_type": "stream",
          "text": [
            "mean_absolute_error: 0.0\n",
            "median_absolute_error: 0.0\n",
            "r2_score: 1.0\n"
          ],
          "name": "stdout"
        }
      ]
    },
    {
      "cell_type": "code",
      "metadata": {
        "id": "PtDBWfAhWhZ_",
        "colab_type": "code",
        "colab": {
          "base_uri": "https://localhost:8080/",
          "height": 101
        },
        "outputId": "fd2f01fd-21eb-42bb-cb9b-7498f889c94a"
      },
      "source": [
        "def stat_tree(estimator):\n",
        "    n_nodes = estimator.tree_.node_count\n",
        "    children_left = estimator.tree_.children_left\n",
        "    children_right = estimator.tree_.children_right\n",
        "\n",
        "    node_depth = np.zeros(shape=n_nodes, dtype=np.int64)\n",
        "    is_leaves = np.zeros(shape=n_nodes, dtype=bool)\n",
        "    stack = [(0, -1)]  # seed is the root node id and its parent depth\n",
        "    while len(stack) > 0:\n",
        "        node_id, parent_depth = stack.pop()\n",
        "        node_depth[node_id] = parent_depth + 1\n",
        "\n",
        "        # If we have a test node\n",
        "        if (children_left[node_id] != children_right[node_id]):\n",
        "            stack.append((children_left[node_id], parent_depth + 1))\n",
        "            stack.append((children_right[node_id], parent_depth + 1))\n",
        "        else:\n",
        "            is_leaves[node_id] = True\n",
        "\n",
        "    print(\"Всего узлов:\", n_nodes)\n",
        "    print(\"Листовых узлов:\", sum(is_leaves))\n",
        "    print(\"Глубина дерева:\", max(node_depth))\n",
        "    print(\"Минимальная глубина листьев дерева:\", min(node_depth[is_leaves]))\n",
        "    print(\"Средняя глубина листьев дерева:\", node_depth[is_leaves].mean())\n",
        "\n",
        "# Structure of decision tree we got\n",
        "stat_tree(dt_6)"
      ],
      "execution_count": 48,
      "outputs": [
        {
          "output_type": "stream",
          "text": [
            "Всего узлов: 27\n",
            "Листовых узлов: 14\n",
            "Глубина дерева: 6\n",
            "Минимальная глубина листьев дерева: 2\n",
            "Средняя глубина листьев дерева: 4.357142857142857\n"
          ],
          "name": "stdout"
        }
      ]
    },
    {
      "cell_type": "markdown",
      "metadata": {
        "id": "mQZ5acj8eaz4",
        "colab_type": "text"
      },
      "source": [
        "**Подбор гиперпараметра $K$**\n",
        "\n",
        "**Selection of hyperparameter $K$**"
      ]
    },
    {
      "cell_type": "markdown",
      "metadata": {
        "id": "P7TQS8F9XLb6",
        "colab_type": "text"
      },
      "source": [
        "**Lasso**"
      ]
    },
    {
      "cell_type": "code",
      "metadata": {
        "id": "kRrPER_veULk",
        "colab_type": "code",
        "outputId": "cb03ca03-f265-41d1-857c-16d8478c6135",
        "colab": {
          "base_uri": "https://localhost:8080/",
          "height": 218
        }
      },
      "source": [
        "param_range = np.arange(0.0, 0.1, 0.001)\n",
        "tuned_parameters = [{'alpha': param_range}]\n",
        "tuned_parameters"
      ],
      "execution_count": 82,
      "outputs": [
        {
          "output_type": "execute_result",
          "data": {
            "text/plain": [
              "[{'alpha': array([0.   , 0.001, 0.002, 0.003, 0.004, 0.005, 0.006, 0.007, 0.008,\n",
              "         0.009, 0.01 , 0.011, 0.012, 0.013, 0.014, 0.015, 0.016, 0.017,\n",
              "         0.018, 0.019, 0.02 , 0.021, 0.022, 0.023, 0.024, 0.025, 0.026,\n",
              "         0.027, 0.028, 0.029, 0.03 , 0.031, 0.032, 0.033, 0.034, 0.035,\n",
              "         0.036, 0.037, 0.038, 0.039, 0.04 , 0.041, 0.042, 0.043, 0.044,\n",
              "         0.045, 0.046, 0.047, 0.048, 0.049, 0.05 , 0.051, 0.052, 0.053,\n",
              "         0.054, 0.055, 0.056, 0.057, 0.058, 0.059, 0.06 , 0.061, 0.062,\n",
              "         0.063, 0.064, 0.065, 0.066, 0.067, 0.068, 0.069, 0.07 , 0.071,\n",
              "         0.072, 0.073, 0.074, 0.075, 0.076, 0.077, 0.078, 0.079, 0.08 ,\n",
              "         0.081, 0.082, 0.083, 0.084, 0.085, 0.086, 0.087, 0.088, 0.089,\n",
              "         0.09 , 0.091, 0.092, 0.093, 0.094, 0.095, 0.096, 0.097, 0.098,\n",
              "         0.099])}]"
            ]
          },
          "metadata": {
            "tags": []
          },
          "execution_count": 82
        }
      ]
    },
    {
      "cell_type": "code",
      "metadata": {
        "id": "8KayNfSzegDa",
        "colab_type": "code",
        "outputId": "89088755-7694-4215-81e0-37b727ee2df4",
        "colab": {
          "base_uri": "https://localhost:8080/",
          "height": 188
        }
      },
      "source": [
        "from sklearn.model_selection import GridSearchCV\n",
        "from sklearn.model_selection import ShuffleSplit\n",
        "\n",
        "\n",
        "gs = GridSearchCV(Lasso(), tuned_parameters,\n",
        "                  cv=ShuffleSplit(n_splits=10), scoring=\"r2\",\n",
        "                  return_train_score=True, n_jobs=-1)\n",
        "gs.fit(X, y)\n",
        "gs.best_estimator_"
      ],
      "execution_count": 83,
      "outputs": [
        {
          "output_type": "stream",
          "text": [
            "/usr/local/lib/python3.6/dist-packages/sklearn/model_selection/_search.py:739: UserWarning: With alpha=0, this algorithm does not converge well. You are advised to use the LinearRegression estimator\n",
            "  self.best_estimator_.fit(X, y, **fit_params)\n",
            "/usr/local/lib/python3.6/dist-packages/sklearn/linear_model/_coordinate_descent.py:476: UserWarning: Coordinate descent with no regularization may lead to unexpected results and is discouraged.\n",
            "  positive)\n",
            "/usr/local/lib/python3.6/dist-packages/sklearn/linear_model/_coordinate_descent.py:476: ConvergenceWarning: Objective did not converge. You might want to increase the number of iterations. Duality gap: 63.69040267838188, tolerance: 0.05070940423436683\n",
            "  positive)\n"
          ],
          "name": "stderr"
        },
        {
          "output_type": "execute_result",
          "data": {
            "text/plain": [
              "Lasso(alpha=0.0, copy_X=True, fit_intercept=True, max_iter=1000,\n",
              "      normalize=False, positive=False, precompute=False, random_state=None,\n",
              "      selection='cyclic', tol=0.0001, warm_start=False)"
            ]
          },
          "metadata": {
            "tags": []
          },
          "execution_count": 83
        }
      ]
    },
    {
      "cell_type": "code",
      "metadata": {
        "id": "qosq3cy6e1h4",
        "colab_type": "code",
        "outputId": "55fbace4-dd98-405b-a540-25950f83f401",
        "colab": {
          "base_uri": "https://localhost:8080/",
          "height": 265
        }
      },
      "source": [
        "import matplotlib.pyplot as plt\n",
        "from sklearn.model_selection import learning_curve, validation_curve\n",
        "\n",
        "plt.plot(param_range, gs.cv_results_[\"mean_train_score\"]);"
      ],
      "execution_count": 84,
      "outputs": [
        {
          "output_type": "display_data",
          "data": {
            "image/png": "[encoded data removed]",
            "text/plain": [
              "<Figure size 432x288 with 1 Axes>"
            ]
          },
          "metadata": {
            "tags": [],
            "needs_background": "light"
          }
        }
      ]
    },
    {
      "cell_type": "code",
      "metadata": {
        "id": "eZCAIVC4fuN6",
        "colab_type": "code",
        "outputId": "31ee1df9-a15f-4184-fce0-05d719ebfa11",
        "colab": {
          "base_uri": "https://localhost:8080/",
          "height": 265
        }
      },
      "source": [
        "plt.plot(param_range, gs.cv_results_[\"mean_test_score\"]);"
      ],
      "execution_count": 85,
      "outputs": [
        {
          "output_type": "display_data",
          "data": {
            "image/png": "[encoded data removed]",
            "text/plain": [
              "<Figure size 432x288 with 1 Axes>"
            ]
          },
          "metadata": {
            "tags": [],
            "needs_background": "light"
          }
        }
      ]
    },
    {
      "cell_type": "code",
      "metadata": {
        "id": "4YYCIG2Nf0Av",
        "colab_type": "code",
        "outputId": "8b79bb54-7447-4d5f-c7bd-763ba62ec073",
        "colab": {
          "base_uri": "https://localhost:8080/",
          "height": 67
        }
      },
      "source": [
        "reg = LinearRegression()\n",
        "reg.fit(X_train, y_train)\n",
        "test_model(reg)"
      ],
      "execution_count": 86,
      "outputs": [
        {
          "output_type": "stream",
          "text": [
            "mean_absolute_error: 0.08340159869364022\n",
            "median_absolute_error: 0.05722169623926676\n",
            "r2_score: 0.7608112307370376\n"
          ],
          "name": "stdout"
        }
      ]
    },
    {
      "cell_type": "markdown",
      "metadata": {
        "id": "JnYjJUGgafGj",
        "colab_type": "text"
      },
      "source": [
        "**SVM**"
      ]
    },
    {
      "cell_type": "code",
      "metadata": {
        "id": "FAVMfV1Ef2Lv",
        "colab_type": "code",
        "colab": {
          "base_uri": "https://localhost:8080/",
          "height": 34
        },
        "outputId": "1a87e7cf-81fb-467a-dab6-6184ac26128b"
      },
      "source": [
        "param_range = np.arange(0.0, 1.0, 0.1)\n",
        "tuned_parameters = [{'nu': param_range}]\n",
        "tuned_parameters"
      ],
      "execution_count": 95,
      "outputs": [
        {
          "output_type": "execute_result",
          "data": {
            "text/plain": [
              "[{'nu': array([0. , 0.1, 0.2, 0.3, 0.4, 0.5, 0.6, 0.7, 0.8, 0.9])}]"
            ]
          },
          "metadata": {
            "tags": []
          },
          "execution_count": 95
        }
      ]
    },
    {
      "cell_type": "code",
      "metadata": {
        "id": "rllpBd0_f5zF",
        "colab_type": "code",
        "outputId": "55f66775-e203-45ae-c89c-c5ea0fba082d",
        "colab": {
          "base_uri": "https://localhost:8080/",
          "height": 104
        }
      },
      "source": [
        "gs = GridSearchCV(NuSVR(gamma='scale'), tuned_parameters,\n",
        "                  cv=ShuffleSplit(n_splits=10), scoring=\"r2\",\n",
        "                  return_train_score=True, n_jobs=-1)\n",
        "gs.fit(X, y)\n",
        "gs.best_estimator_"
      ],
      "execution_count": 96,
      "outputs": [
        {
          "output_type": "stream",
          "text": [
            "/usr/local/lib/python3.6/dist-packages/joblib/externals/loky/process_executor.py:706: UserWarning: A worker stopped while some jobs were given to the executor. This can be caused by a too short worker timeout or by a memory leak.\n",
            "  \"timeout or by a memory leak.\", UserWarning\n"
          ],
          "name": "stderr"
        },
        {
          "output_type": "execute_result",
          "data": {
            "text/plain": [
              "NuSVR(C=1.0, cache_size=200, coef0=0.0, degree=3, gamma='scale', kernel='rbf',\n",
              "      max_iter=-1, nu=0.2, shrinking=True, tol=0.001, verbose=False)"
            ]
          },
          "metadata": {
            "tags": []
          },
          "execution_count": 96
        }
      ]
    },
    {
      "cell_type": "code",
      "metadata": {
        "id": "L0mig0T1f8na",
        "colab_type": "code",
        "colab": {
          "base_uri": "https://localhost:8080/",
          "height": 276
        },
        "outputId": "2a093c6b-e4f7-43f1-d978-a402832a7c24"
      },
      "source": [
        "plt.plot(param_range, gs.cv_results_[\"mean_train_score\"]);"
      ],
      "execution_count": 97,
      "outputs": [
        {
          "output_type": "display_data",
          "data": {
            "image/png": "[encoded data removed]",
            "text/plain": [
              "<Figure size 432x288 with 1 Axes>"
            ]
          },
          "metadata": {
            "tags": [],
            "needs_background": "light"
          }
        }
      ]
    },
    {
      "cell_type": "code",
      "metadata": {
        "id": "c_XhTJzBf-xE",
        "colab_type": "code",
        "outputId": "044d6d38-e305-46a2-fb45-7298d613e9eb",
        "colab": {
          "base_uri": "https://localhost:8080/",
          "height": 265
        }
      },
      "source": [
        "plt.plot(param_range, gs.cv_results_[\"mean_test_score\"]);"
      ],
      "execution_count": 98,
      "outputs": [
        {
          "output_type": "display_data",
          "data": {
            "image/png": "[encoded data removed]",
            "text/plain": [
              "<Figure size 432x288 with 1 Axes>"
            ]
          },
          "metadata": {
            "tags": [],
            "needs_background": "light"
          }
        }
      ]
    },
    {
      "cell_type": "markdown",
      "metadata": {
        "id": "lI2cVnCWbPWg",
        "colab_type": "text"
      },
      "source": [
        "**Decision tree**"
      ]
    },
    {
      "cell_type": "code",
      "metadata": {
        "id": "5AygEM6-xoYH",
        "colab_type": "code",
        "colab": {
          "base_uri": "https://localhost:8080/",
          "height": 34
        },
        "outputId": "616f84a5-af8c-4096-d4c9-ddb01625c9c7"
      },
      "source": [
        "param_range = np.arange(1, 17, 1)\n",
        "tuned_parameters = [{'max_depth': param_range}]\n",
        "tuned_parameters"
      ],
      "execution_count": 103,
      "outputs": [
        {
          "output_type": "execute_result",
          "data": {
            "text/plain": [
              "[{'max_depth': array([ 1,  2,  3,  4,  5,  6,  7,  8,  9, 10, 11, 12, 13, 14, 15, 16])}]"
            ]
          },
          "metadata": {
            "tags": []
          },
          "execution_count": 103
        }
      ]
    },
    {
      "cell_type": "code",
      "metadata": {
        "id": "77FEKHfGx-Tm",
        "colab_type": "code",
        "colab": {
          "base_uri": "https://localhost:8080/",
          "height": 118
        },
        "outputId": "67594b1c-b2e2-44b5-d591-25749ec0b33a"
      },
      "source": [
        "gs = GridSearchCV(DecisionTreeRegressor(), tuned_parameters,\n",
        "                  cv=ShuffleSplit(n_splits=10), scoring=\"r2\",\n",
        "                  return_train_score=True, n_jobs=-1)\n",
        "gs.fit(X, y)\n",
        "gs.best_estimator_"
      ],
      "execution_count": 104,
      "outputs": [
        {
          "output_type": "execute_result",
          "data": {
            "text/plain": [
              "DecisionTreeRegressor(ccp_alpha=0.0, criterion='mse', max_depth=7,\n",
              "                      max_features=None, max_leaf_nodes=None,\n",
              "                      min_impurity_decrease=0.0, min_impurity_split=None,\n",
              "                      min_samples_leaf=1, min_samples_split=2,\n",
              "                      min_weight_fraction_leaf=0.0, presort='deprecated',\n",
              "                      random_state=None, splitter='best')"
            ]
          },
          "metadata": {
            "tags": []
          },
          "execution_count": 104
        }
      ]
    },
    {
      "cell_type": "code",
      "metadata": {
        "id": "d6slYe0xyAnO",
        "colab_type": "code",
        "colab": {
          "base_uri": "https://localhost:8080/",
          "height": 265
        },
        "outputId": "184b411b-41cb-446a-ffa4-7fd19758e482"
      },
      "source": [
        "plt.plot(param_range, gs.cv_results_[\"mean_train_score\"]);"
      ],
      "execution_count": 105,
      "outputs": [
        {
          "output_type": "display_data",
          "data": {
            "image/png": "[encoded data removed]",
            "text/plain": [
              "<Figure size 432x288 with 1 Axes>"
            ]
          },
          "metadata": {
            "tags": [],
            "needs_background": "light"
          }
        }
      ]
    },
    {
      "cell_type": "code",
      "metadata": {
        "id": "EFocVRGNyFmZ",
        "colab_type": "code",
        "colab": {
          "base_uri": "https://localhost:8080/",
          "height": 265
        },
        "outputId": "c2520354-2a8c-4253-c189-28ea2a83e085"
      },
      "source": [
        "plt.plot(param_range, gs.cv_results_[\"mean_test_score\"]);"
      ],
      "execution_count": 106,
      "outputs": [
        {
          "output_type": "display_data",
          "data": {
            "image/png": "[encoded data removed]",
            "text/plain": [
              "<Figure size 432x288 with 1 Axes>"
            ]
          },
          "metadata": {
            "tags": [],
            "needs_background": "light"
          }
        }
      ]
    },
    {
      "cell_type": "code",
      "metadata": {
        "id": "Yo-WhjSUyHUF",
        "colab_type": "code",
        "colab": {
          "base_uri": "https://localhost:8080/",
          "height": 34
        },
        "outputId": "31557e84-6f72-486d-9651-67ad15c5be0e"
      },
      "source": [
        "param_range = np.arange(1, 9, 1)\n",
        "tuned_parameters = [{'max_depth': param_range}]\n",
        "tuned_parameters"
      ],
      "execution_count": 111,
      "outputs": [
        {
          "output_type": "execute_result",
          "data": {
            "text/plain": [
              "[{'max_depth': array([1, 2, 3, 4, 5, 6, 7, 8])}]"
            ]
          },
          "metadata": {
            "tags": []
          },
          "execution_count": 111
        }
      ]
    },
    {
      "cell_type": "code",
      "metadata": {
        "id": "ZXZYlDvzyMur",
        "colab_type": "code",
        "colab": {
          "base_uri": "https://localhost:8080/",
          "height": 118
        },
        "outputId": "ce68f1f9-31bc-4ddb-ead6-457897938ade"
      },
      "source": [
        "gs = GridSearchCV(DecisionTreeRegressor(), tuned_parameters,\n",
        "                  cv=ShuffleSplit(n_splits=10), scoring=\"r2\",\n",
        "                  return_train_score=True, n_jobs=-1)\n",
        "gs.fit(X, y)\n",
        "gs.best_estimator_"
      ],
      "execution_count": 112,
      "outputs": [
        {
          "output_type": "execute_result",
          "data": {
            "text/plain": [
              "DecisionTreeRegressor(ccp_alpha=0.0, criterion='mse', max_depth=6,\n",
              "                      max_features=None, max_leaf_nodes=None,\n",
              "                      min_impurity_decrease=0.0, min_impurity_split=None,\n",
              "                      min_samples_leaf=1, min_samples_split=2,\n",
              "                      min_weight_fraction_leaf=0.0, presort='deprecated',\n",
              "                      random_state=None, splitter='best')"
            ]
          },
          "metadata": {
            "tags": []
          },
          "execution_count": 112
        }
      ]
    },
    {
      "cell_type": "code",
      "metadata": {
        "id": "Q32wOGZpyOtY",
        "colab_type": "code",
        "colab": {
          "base_uri": "https://localhost:8080/",
          "height": 265
        },
        "outputId": "65046d82-f500-4e57-bcd1-67627e3685f5"
      },
      "source": [
        "plt.plot(param_range, gs.cv_results_[\"mean_train_score\"]);"
      ],
      "execution_count": 113,
      "outputs": [
        {
          "output_type": "display_data",
          "data": {
            "image/png": "[encoded data removed]",
            "text/plain": [
              "<Figure size 432x288 with 1 Axes>"
            ]
          },
          "metadata": {
            "tags": [],
            "needs_background": "light"
          }
        }
      ]
    },
    {
      "cell_type": "code",
      "metadata": {
        "id": "25FiNqF-yQER",
        "colab_type": "code",
        "colab": {
          "base_uri": "https://localhost:8080/",
          "height": 265
        },
        "outputId": "5099abc5-dc54-4764-8f86-586c68c3ac43"
      },
      "source": [
        "plt.plot(param_range, gs.cv_results_[\"mean_test_score\"]);"
      ],
      "execution_count": 114,
      "outputs": [
        {
          "output_type": "display_data",
          "data": {
            "image/png": "[encoded data removed]",
            "text/plain": [
              "<Figure size 432x288 with 1 Axes>"
            ]
          },
          "metadata": {
            "tags": [],
            "needs_background": "light"
          }
        }
      ]
    },
    {
      "cell_type": "code",
      "metadata": {
        "id": "OtAkAtgbyS0k",
        "colab_type": "code",
        "colab": {}
      },
      "source": [
        ""
      ],
      "execution_count": 0,
      "outputs": []
    }
  ]
}