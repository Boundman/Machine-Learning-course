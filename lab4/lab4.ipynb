{
  "nbformat": 4,
  "nbformat_minor": 0,
  "metadata": {
    "colab": {
      "name": "lab4.ipynb",
      "provenance": []
    },
    "kernelspec": {
      "name": "python3",
      "display_name": "Python 3"
    },
    "accelerator": "GPU"
  },
  "cells": [
    {
      "cell_type": "code",
      "metadata": {
        "id": "IyeQCQJZW7yn",
        "colab_type": "code",
        "outputId": "72e26118-4223-4266-b492-3046ac6ed696",
        "colab": {
          "base_uri": "https://localhost:8080/",
          "height": 215
        }
      },
      "source": [
        "import pandas as pd\n",
        "import numpy as np\n",
        "import io\n",
        "import requests\n",
        "from sklearn.impute import SimpleImputer\n",
        "\n",
        "\n",
        "# mushrooms dataset\n",
        "url = \"https://www.wolframcloud.com/obj/d0c0084e-0b60-46db-a4d9-beb33412905e\"\n",
        "s = requests.get(url).content\n",
        "data = pd.read_csv(io.StringIO(s.decode('utf-8')))\n",
        "data.head()"
      ],
      "execution_count": 133,
      "outputs": [
        {
          "output_type": "execute_result",
          "data": {
            "text/html": [
              "<div>\n",
              "<style scoped>\n",
              "    .dataframe tbody tr th:only-of-type {\n",
              "        vertical-align: middle;\n",
              "    }\n",
              "\n",
              "    .dataframe tbody tr th {\n",
              "        vertical-align: top;\n",
              "    }\n",
              "\n",
              "    .dataframe thead th {\n",
              "        text-align: right;\n",
              "    }\n",
              "</style>\n",
              "<table border=\"1\" class=\"dataframe\">\n",
              "  <thead>\n",
              "    <tr style=\"text-align: right;\">\n",
              "      <th></th>\n",
              "      <th>CapShape</th>\n",
              "      <th>CapSurface</th>\n",
              "      <th>CapColor</th>\n",
              "      <th>Bruises</th>\n",
              "      <th>Odor</th>\n",
              "      <th>GillAttachment</th>\n",
              "      <th>GillSpacing</th>\n",
              "      <th>GillSize</th>\n",
              "      <th>GillColor</th>\n",
              "      <th>StalkShape</th>\n",
              "      <th>StalkRoot</th>\n",
              "      <th>StalkSurfaceAboveRing</th>\n",
              "      <th>StalkSurfaceBelowRing</th>\n",
              "      <th>StalkColorAboveRing</th>\n",
              "      <th>StalkColorBelowRing</th>\n",
              "      <th>VeilType</th>\n",
              "      <th>VeilColor</th>\n",
              "      <th>RingNumber</th>\n",
              "      <th>RingType</th>\n",
              "      <th>SporePrintColor</th>\n",
              "      <th>Population</th>\n",
              "      <th>Habitat</th>\n",
              "      <th>Class</th>\n",
              "    </tr>\n",
              "  </thead>\n",
              "  <tbody>\n",
              "    <tr>\n",
              "      <th>0</th>\n",
              "      <td>convex</td>\n",
              "      <td>smooth</td>\n",
              "      <td>brown</td>\n",
              "      <td>True</td>\n",
              "      <td>pungent</td>\n",
              "      <td>free</td>\n",
              "      <td>close</td>\n",
              "      <td>narrow</td>\n",
              "      <td>black</td>\n",
              "      <td>enlarging</td>\n",
              "      <td>equal</td>\n",
              "      <td>smooth</td>\n",
              "      <td>smooth</td>\n",
              "      <td>white</td>\n",
              "      <td>white</td>\n",
              "      <td>partial</td>\n",
              "      <td>white</td>\n",
              "      <td>1</td>\n",
              "      <td>pendant</td>\n",
              "      <td>black</td>\n",
              "      <td>scattered</td>\n",
              "      <td>urban</td>\n",
              "      <td>poisonous</td>\n",
              "    </tr>\n",
              "    <tr>\n",
              "      <th>1</th>\n",
              "      <td>convex</td>\n",
              "      <td>smooth</td>\n",
              "      <td>yellow</td>\n",
              "      <td>True</td>\n",
              "      <td>almond</td>\n",
              "      <td>free</td>\n",
              "      <td>close</td>\n",
              "      <td>broad</td>\n",
              "      <td>black</td>\n",
              "      <td>enlarging</td>\n",
              "      <td>club</td>\n",
              "      <td>smooth</td>\n",
              "      <td>smooth</td>\n",
              "      <td>white</td>\n",
              "      <td>white</td>\n",
              "      <td>partial</td>\n",
              "      <td>white</td>\n",
              "      <td>1</td>\n",
              "      <td>pendant</td>\n",
              "      <td>brown</td>\n",
              "      <td>numerous</td>\n",
              "      <td>grasses</td>\n",
              "      <td>edible</td>\n",
              "    </tr>\n",
              "    <tr>\n",
              "      <th>2</th>\n",
              "      <td>bell</td>\n",
              "      <td>smooth</td>\n",
              "      <td>white</td>\n",
              "      <td>True</td>\n",
              "      <td>anise</td>\n",
              "      <td>free</td>\n",
              "      <td>close</td>\n",
              "      <td>broad</td>\n",
              "      <td>brown</td>\n",
              "      <td>enlarging</td>\n",
              "      <td>club</td>\n",
              "      <td>smooth</td>\n",
              "      <td>smooth</td>\n",
              "      <td>white</td>\n",
              "      <td>white</td>\n",
              "      <td>partial</td>\n",
              "      <td>white</td>\n",
              "      <td>1</td>\n",
              "      <td>pendant</td>\n",
              "      <td>brown</td>\n",
              "      <td>numerous</td>\n",
              "      <td>meadows</td>\n",
              "      <td>edible</td>\n",
              "    </tr>\n",
              "    <tr>\n",
              "      <th>3</th>\n",
              "      <td>convex</td>\n",
              "      <td>scaly</td>\n",
              "      <td>white</td>\n",
              "      <td>True</td>\n",
              "      <td>pungent</td>\n",
              "      <td>free</td>\n",
              "      <td>close</td>\n",
              "      <td>narrow</td>\n",
              "      <td>brown</td>\n",
              "      <td>enlarging</td>\n",
              "      <td>equal</td>\n",
              "      <td>smooth</td>\n",
              "      <td>smooth</td>\n",
              "      <td>white</td>\n",
              "      <td>white</td>\n",
              "      <td>partial</td>\n",
              "      <td>white</td>\n",
              "      <td>1</td>\n",
              "      <td>pendant</td>\n",
              "      <td>black</td>\n",
              "      <td>scattered</td>\n",
              "      <td>urban</td>\n",
              "      <td>poisonous</td>\n",
              "    </tr>\n",
              "    <tr>\n",
              "      <th>4</th>\n",
              "      <td>convex</td>\n",
              "      <td>smooth</td>\n",
              "      <td>gray</td>\n",
              "      <td>False</td>\n",
              "      <td>none</td>\n",
              "      <td>free</td>\n",
              "      <td>crowded</td>\n",
              "      <td>broad</td>\n",
              "      <td>black</td>\n",
              "      <td>tapering</td>\n",
              "      <td>equal</td>\n",
              "      <td>smooth</td>\n",
              "      <td>smooth</td>\n",
              "      <td>white</td>\n",
              "      <td>white</td>\n",
              "      <td>partial</td>\n",
              "      <td>white</td>\n",
              "      <td>1</td>\n",
              "      <td>evanescent</td>\n",
              "      <td>brown</td>\n",
              "      <td>abundant</td>\n",
              "      <td>grasses</td>\n",
              "      <td>edible</td>\n",
              "    </tr>\n",
              "  </tbody>\n",
              "</table>\n",
              "</div>"
            ],
            "text/plain": [
              "  CapShape CapSurface CapColor  ...  Population  Habitat      Class\n",
              "0   convex     smooth    brown  ...   scattered    urban  poisonous\n",
              "1   convex     smooth   yellow  ...    numerous  grasses     edible\n",
              "2     bell     smooth    white  ...    numerous  meadows     edible\n",
              "3   convex      scaly    white  ...   scattered    urban  poisonous\n",
              "4   convex     smooth     gray  ...    abundant  grasses     edible\n",
              "\n",
              "[5 rows x 23 columns]"
            ]
          },
          "metadata": {
            "tags": []
          },
          "execution_count": 133
        }
      ]
    },
    {
      "cell_type": "markdown",
      "metadata": {
        "id": "U_4-uTN5nVJW",
        "colab_type": "text"
      },
      "source": [
        "**Подготовка набора данных**\n",
        "\n",
        "**Dataset preparation**"
      ]
    },
    {
      "cell_type": "code",
      "metadata": {
        "id": "G_LQdK5M4f2Q",
        "colab_type": "code",
        "outputId": "987abcd7-ac13-467b-cb49-f766d91a4cf5",
        "colab": {
          "base_uri": "https://localhost:8080/",
          "height": 521
        }
      },
      "source": [
        "rows, columns = data.shape\n",
        "print('rows = {}; columns = {}'.format(rows, columns), '\\n\\n')\n",
        "\n",
        "# go through each dataset column and check unique values to find empty one (like NaN or Missing[])\n",
        "for col in data.columns:\n",
        "  print('{}: {}'.format(col, data[col].unique()))"
      ],
      "execution_count": 134,
      "outputs": [
        {
          "output_type": "stream",
          "text": [
            "rows = 8124; columns = 23 \n",
            "\n",
            "\n",
            "CapShape: ['convex' 'bell' 'sunken' 'flat' 'knobbed' 'conical']\n",
            "CapSurface: ['smooth' 'scaly' 'fibrous' 'grooves']\n",
            "CapColor: ['brown' 'yellow' 'white' 'gray' 'red' 'pink' 'buff' 'purple' 'cinnamon'\n",
            " 'green']\n",
            "Bruises: [ True False]\n",
            "Odor: ['pungent' 'almond' 'anise' 'none' 'foul' 'creosote' 'fishy' 'spicy'\n",
            " 'musty']\n",
            "GillAttachment: ['free' 'attached']\n",
            "GillSpacing: ['close' 'crowded']\n",
            "GillSize: ['narrow' 'broad']\n",
            "GillColor: ['black' 'brown' 'gray' 'pink' 'white' 'chocolate' 'purple' 'red' 'buff'\n",
            " 'green' 'yellow' 'orange']\n",
            "StalkShape: ['enlarging' 'tapering']\n",
            "StalkRoot: ['equal' 'club' 'bulbous' 'rooted' 'Missing[]']\n",
            "StalkSurfaceAboveRing: ['smooth' 'fibrous' 'silky' 'scaly']\n",
            "StalkSurfaceBelowRing: ['smooth' 'fibrous' 'scaly' 'silky']\n",
            "StalkColorAboveRing: ['white' 'gray' 'pink' 'brown' 'buff' 'red' 'orange' 'cinnamon' 'yellow']\n",
            "StalkColorBelowRing: ['white' 'pink' 'gray' 'buff' 'brown' 'red' 'yellow' 'orange' 'cinnamon']\n",
            "VeilType: ['partial']\n",
            "VeilColor: ['white' 'brown' 'orange' 'yellow']\n",
            "RingNumber: [1 2 0]\n",
            "RingType: ['pendant' 'evanescent' 'large' 'flaring' 'none']\n",
            "SporePrintColor: ['black' 'brown' 'purple' 'chocolate' 'white' 'green' 'orange' 'yellow'\n",
            " 'buff']\n",
            "Population: ['scattered' 'numerous' 'abundant' 'several' 'solitary' 'clustered']\n",
            "Habitat: ['urban' 'grasses' 'meadows' 'woods' 'paths' 'waste' 'leaves']\n",
            "Class: ['poisonous' 'edible']\n"
          ],
          "name": "stdout"
        }
      ]
    },
    {
      "cell_type": "code",
      "metadata": {
        "id": "wcYkr6_-55Mm",
        "colab_type": "code",
        "outputId": "a33f7e9b-5674-41e3-d29e-cb5266e53156",
        "colab": {
          "base_uri": "https://localhost:8080/",
          "height": 87
        }
      },
      "source": [
        "\"\"\"\n",
        "on initial viewing it seems that we have single column\n",
        "with absence of values in rows: this column is StalkRoot and\n",
        "absence of values is indicated like Missing[]\n",
        "\"\"\"\n",
        "\n",
        "# Take a look at columns more precisely to ensure that this column is single with absence of values\n",
        "for col in data.columns:\n",
        "    # Missing[] amount \n",
        "    temp_null_count = data[data[col] == 'Missing[]'].shape[0]\n",
        "    dt = str(data[col].dtype)\n",
        "    if temp_null_count>0 and (dt=='object'):\n",
        "        temp_perc = round((temp_null_count / rows) * 100.0, 2)\n",
        "        print('Column {}. Data type {}. amount of Missing[] values {}, {}%.'.format(col, dt, temp_null_count, temp_perc))"
      ],
      "execution_count": 135,
      "outputs": [
        {
          "output_type": "stream",
          "text": [
            "Column StalkRoot. Data type object. amount of Missing[] values 2480, 30.53%.\n"
          ],
          "name": "stdout"
        },
        {
          "output_type": "stream",
          "text": [
            "/usr/local/lib/python3.6/dist-packages/pandas/core/ops/array_ops.py:253: FutureWarning: elementwise comparison failed; returning scalar instead, but in the future will perform elementwise comparison\n",
            "  res_values = method(rvalues)\n"
          ],
          "name": "stderr"
        }
      ]
    },
    {
      "cell_type": "code",
      "metadata": {
        "id": "Nd0RgpwY9Bmp",
        "colab_type": "code",
        "outputId": "90674c5c-a6e7-4a0e-ab94-5e1f3475fcc4",
        "colab": {
          "base_uri": "https://localhost:8080/",
          "height": 34
        }
      },
      "source": [
        "data['StalkRoot'].unique()"
      ],
      "execution_count": 136,
      "outputs": [
        {
          "output_type": "execute_result",
          "data": {
            "text/plain": [
              "array(['equal', 'club', 'bulbous', 'rooted', 'Missing[]'], dtype=object)"
            ]
          },
          "metadata": {
            "tags": []
          },
          "execution_count": 136
        }
      ]
    },
    {
      "cell_type": "code",
      "metadata": {
        "id": "kqverQqQJ96T",
        "colab_type": "code",
        "outputId": "0d52dc49-72d2-4460-f6e9-b83876e919ad",
        "colab": {
          "base_uri": "https://localhost:8080/",
          "height": 34
        }
      },
      "source": [
        "# impute data with most frequent values\n",
        "imputation = SimpleImputer(missing_values='Missing[]', strategy='most_frequent')\n",
        "data_imputed = imputation.fit_transform(data[['StalkRoot']])\n",
        "np.unique(data_imputed)"
      ],
      "execution_count": 137,
      "outputs": [
        {
          "output_type": "execute_result",
          "data": {
            "text/plain": [
              "array(['bulbous', 'club', 'equal', 'rooted'], dtype=object)"
            ]
          },
          "metadata": {
            "tags": []
          },
          "execution_count": 137
        }
      ]
    },
    {
      "cell_type": "code",
      "metadata": {
        "id": "9IseBjsnAhEn",
        "colab_type": "code",
        "outputId": "ab2399ed-076c-4b35-cb8a-0f1043bb9e18",
        "colab": {
          "base_uri": "https://localhost:8080/",
          "height": 118
        }
      },
      "source": [
        "# put imputed data in our dataset\n",
        "for i in range(rows):\n",
        "  data['StalkRoot'][i] = data_imputed[i][0]\n",
        "data['StalkRoot'].unique()"
      ],
      "execution_count": 138,
      "outputs": [
        {
          "output_type": "stream",
          "text": [
            "/usr/local/lib/python3.6/dist-packages/ipykernel_launcher.py:2: SettingWithCopyWarning: \n",
            "A value is trying to be set on a copy of a slice from a DataFrame\n",
            "\n",
            "See the caveats in the documentation: https://pandas.pydata.org/pandas-docs/stable/user_guide/indexing.html#returning-a-view-versus-a-copy\n",
            "  \n"
          ],
          "name": "stderr"
        },
        {
          "output_type": "execute_result",
          "data": {
            "text/plain": [
              "array(['equal', 'club', 'bulbous', 'rooted'], dtype=object)"
            ]
          },
          "metadata": {
            "tags": []
          },
          "execution_count": 138
        }
      ]
    },
    {
      "cell_type": "code",
      "metadata": {
        "id": "bYCvblsfwVci",
        "colab_type": "code",
        "outputId": "f5523372-3ad6-4249-9b4c-4d8530ce57ea",
        "colab": {
          "base_uri": "https://localhost:8080/",
          "height": 403
        }
      },
      "source": [
        "# now we`ll transform categorical columns to columns with values in [0, 1]\n",
        "object_columns = []\n",
        "\n",
        "# initially, find amount of unique values for each column\n",
        "# and add categorical columns to object_columns\n",
        "for column in data.columns:\n",
        "    dt = str(data[column].dtype)\n",
        "    amount_unique = len(pd.unique(data[column]))\n",
        "    print('{}: {}, {}'.format(column, amount_unique, dt))\n",
        "    if dt == 'object':\n",
        "        object_columns.append({'column': column, 'amount': amount_unique})"
      ],
      "execution_count": 139,
      "outputs": [
        {
          "output_type": "stream",
          "text": [
            "CapShape: 6, object\n",
            "CapSurface: 4, object\n",
            "CapColor: 10, object\n",
            "Bruises: 2, bool\n",
            "Odor: 9, object\n",
            "GillAttachment: 2, object\n",
            "GillSpacing: 2, object\n",
            "GillSize: 2, object\n",
            "GillColor: 12, object\n",
            "StalkShape: 2, object\n",
            "StalkRoot: 4, object\n",
            "StalkSurfaceAboveRing: 4, object\n",
            "StalkSurfaceBelowRing: 4, object\n",
            "StalkColorAboveRing: 9, object\n",
            "StalkColorBelowRing: 9, object\n",
            "VeilType: 1, object\n",
            "VeilColor: 4, object\n",
            "RingNumber: 3, int64\n",
            "RingType: 5, object\n",
            "SporePrintColor: 9, object\n",
            "Population: 6, object\n",
            "Habitat: 7, object\n",
            "Class: 2, object\n"
          ],
          "name": "stdout"
        }
      ]
    },
    {
      "cell_type": "code",
      "metadata": {
        "id": "62dDXKj_Q_sk",
        "colab_type": "code",
        "colab": {}
      },
      "source": [
        "from sklearn.preprocessing import OneHotEncoder\n",
        "ohe = OneHotEncoder()"
      ],
      "execution_count": 0,
      "outputs": []
    },
    {
      "cell_type": "code",
      "metadata": {
        "id": "M9aggnKvX43O",
        "colab_type": "code",
        "colab": {}
      },
      "source": [
        "\"\"\"\n",
        "after oneHot encoding for single value we`ll have something like this [0.0, 1.0, 0.0, 0.0, ...]\n",
        "but we need to have just a number - so this function will normalize it with next formula:\n",
        "norm_val = (N - i) / N, where\n",
        "N - amount of unique values for our column\n",
        "i - index of 1.0 in values [0.0, 1.0, 0.0, 0.0, ...] before normalizing\n",
        "so for example if we`ll have 10 different values - then in normalized view it will variating\n",
        "from 0.1 (if index = 9) to 1.0 (if index = 0)\n",
        "\"\"\"\n",
        "def from_bytes_to_num(col_in_arr, uniquie_amount):\n",
        "    normalized_col = []\n",
        "    for value in col_in_arr:\n",
        "        normalized_value = (uniquie_amount - np.where(value == 1.0)[0][0]) / uniquie_amount\n",
        "        normalized_col.append(float(\"{0:.4f}\".format(normalized_value))) # digits after float point\n",
        "    return normalized_col\n",
        "\n",
        "\n",
        "normalized_data = []\n",
        "for col in object_columns:\n",
        "    uniquie_amount = col['amount']\n",
        "    col_name = col['column']\n",
        "\n",
        "    #encode with oneHot\n",
        "    column_after_encoding = ohe.fit_transform(data[[col_name]])\n",
        "\n",
        "    #fetch it to array\n",
        "    col_in_arr = column_after_encoding.toarray()\n",
        "\n",
        "    #normilizing column values\n",
        "    normalized_col = from_bytes_to_num(col_in_arr, uniquie_amount)\n",
        "\n",
        "    normalized_data.append({'column': col_name, 'data': normalized_col})"
      ],
      "execution_count": 0,
      "outputs": []
    },
    {
      "cell_type": "code",
      "metadata": {
        "id": "G3ocT86Gom1x",
        "colab_type": "code",
        "outputId": "0ea37b63-38e3-42ab-acb2-42505c13055a",
        "colab": {
          "base_uri": "https://localhost:8080/",
          "height": 422
        }
      },
      "source": [
        "#set normalized values for general dataset\n",
        "for col in normalized_data:\n",
        "    col_in_dataFrame = pd.DataFrame(data={col['column']: col['data']})\n",
        "    data[col['column']] = col_in_dataFrame\n",
        "\n",
        "data"
      ],
      "execution_count": 142,
      "outputs": [
        {
          "output_type": "execute_result",
          "data": {
            "text/html": [
              "<div>\n",
              "<style scoped>\n",
              "    .dataframe tbody tr th:only-of-type {\n",
              "        vertical-align: middle;\n",
              "    }\n",
              "\n",
              "    .dataframe tbody tr th {\n",
              "        vertical-align: top;\n",
              "    }\n",
              "\n",
              "    .dataframe thead th {\n",
              "        text-align: right;\n",
              "    }\n",
              "</style>\n",
              "<table border=\"1\" class=\"dataframe\">\n",
              "  <thead>\n",
              "    <tr style=\"text-align: right;\">\n",
              "      <th></th>\n",
              "      <th>CapShape</th>\n",
              "      <th>CapSurface</th>\n",
              "      <th>CapColor</th>\n",
              "      <th>Bruises</th>\n",
              "      <th>Odor</th>\n",
              "      <th>GillAttachment</th>\n",
              "      <th>GillSpacing</th>\n",
              "      <th>GillSize</th>\n",
              "      <th>GillColor</th>\n",
              "      <th>StalkShape</th>\n",
              "      <th>StalkRoot</th>\n",
              "      <th>StalkSurfaceAboveRing</th>\n",
              "      <th>StalkSurfaceBelowRing</th>\n",
              "      <th>StalkColorAboveRing</th>\n",
              "      <th>StalkColorBelowRing</th>\n",
              "      <th>VeilType</th>\n",
              "      <th>VeilColor</th>\n",
              "      <th>RingNumber</th>\n",
              "      <th>RingType</th>\n",
              "      <th>SporePrintColor</th>\n",
              "      <th>Population</th>\n",
              "      <th>Habitat</th>\n",
              "      <th>Class</th>\n",
              "    </tr>\n",
              "  </thead>\n",
              "  <tbody>\n",
              "    <tr>\n",
              "      <th>0</th>\n",
              "      <td>0.6667</td>\n",
              "      <td>0.25</td>\n",
              "      <td>1.0</td>\n",
              "      <td>True</td>\n",
              "      <td>0.2222</td>\n",
              "      <td>0.5</td>\n",
              "      <td>1.0</td>\n",
              "      <td>0.5</td>\n",
              "      <td>1.0000</td>\n",
              "      <td>1.0</td>\n",
              "      <td>0.50</td>\n",
              "      <td>0.25</td>\n",
              "      <td>0.25</td>\n",
              "      <td>0.2222</td>\n",
              "      <td>0.2222</td>\n",
              "      <td>1.0</td>\n",
              "      <td>0.50</td>\n",
              "      <td>1</td>\n",
              "      <td>0.2</td>\n",
              "      <td>1.0000</td>\n",
              "      <td>0.5000</td>\n",
              "      <td>0.4286</td>\n",
              "      <td>0.5</td>\n",
              "    </tr>\n",
              "    <tr>\n",
              "      <th>1</th>\n",
              "      <td>0.6667</td>\n",
              "      <td>0.25</td>\n",
              "      <td>0.1</td>\n",
              "      <td>True</td>\n",
              "      <td>1.0000</td>\n",
              "      <td>0.5</td>\n",
              "      <td>1.0</td>\n",
              "      <td>1.0</td>\n",
              "      <td>1.0000</td>\n",
              "      <td>1.0</td>\n",
              "      <td>0.75</td>\n",
              "      <td>0.25</td>\n",
              "      <td>0.25</td>\n",
              "      <td>0.2222</td>\n",
              "      <td>0.2222</td>\n",
              "      <td>1.0</td>\n",
              "      <td>0.50</td>\n",
              "      <td>1</td>\n",
              "      <td>0.2</td>\n",
              "      <td>0.8889</td>\n",
              "      <td>0.6667</td>\n",
              "      <td>1.0000</td>\n",
              "      <td>1.0</td>\n",
              "    </tr>\n",
              "    <tr>\n",
              "      <th>2</th>\n",
              "      <td>1.0000</td>\n",
              "      <td>0.25</td>\n",
              "      <td>0.2</td>\n",
              "      <td>True</td>\n",
              "      <td>0.8889</td>\n",
              "      <td>0.5</td>\n",
              "      <td>1.0</td>\n",
              "      <td>1.0</td>\n",
              "      <td>0.9167</td>\n",
              "      <td>1.0</td>\n",
              "      <td>0.75</td>\n",
              "      <td>0.25</td>\n",
              "      <td>0.25</td>\n",
              "      <td>0.2222</td>\n",
              "      <td>0.2222</td>\n",
              "      <td>1.0</td>\n",
              "      <td>0.50</td>\n",
              "      <td>1</td>\n",
              "      <td>0.2</td>\n",
              "      <td>0.8889</td>\n",
              "      <td>0.6667</td>\n",
              "      <td>0.7143</td>\n",
              "      <td>1.0</td>\n",
              "    </tr>\n",
              "    <tr>\n",
              "      <th>3</th>\n",
              "      <td>0.6667</td>\n",
              "      <td>0.50</td>\n",
              "      <td>0.2</td>\n",
              "      <td>True</td>\n",
              "      <td>0.2222</td>\n",
              "      <td>0.5</td>\n",
              "      <td>1.0</td>\n",
              "      <td>0.5</td>\n",
              "      <td>0.9167</td>\n",
              "      <td>1.0</td>\n",
              "      <td>0.50</td>\n",
              "      <td>0.25</td>\n",
              "      <td>0.25</td>\n",
              "      <td>0.2222</td>\n",
              "      <td>0.2222</td>\n",
              "      <td>1.0</td>\n",
              "      <td>0.50</td>\n",
              "      <td>1</td>\n",
              "      <td>0.2</td>\n",
              "      <td>1.0000</td>\n",
              "      <td>0.5000</td>\n",
              "      <td>0.4286</td>\n",
              "      <td>0.5</td>\n",
              "    </tr>\n",
              "    <tr>\n",
              "      <th>4</th>\n",
              "      <td>0.6667</td>\n",
              "      <td>0.25</td>\n",
              "      <td>0.7</td>\n",
              "      <td>False</td>\n",
              "      <td>0.3333</td>\n",
              "      <td>0.5</td>\n",
              "      <td>0.5</td>\n",
              "      <td>1.0</td>\n",
              "      <td>1.0000</td>\n",
              "      <td>0.5</td>\n",
              "      <td>0.50</td>\n",
              "      <td>0.25</td>\n",
              "      <td>0.25</td>\n",
              "      <td>0.2222</td>\n",
              "      <td>0.2222</td>\n",
              "      <td>1.0</td>\n",
              "      <td>0.50</td>\n",
              "      <td>1</td>\n",
              "      <td>1.0</td>\n",
              "      <td>0.8889</td>\n",
              "      <td>1.0000</td>\n",
              "      <td>1.0000</td>\n",
              "      <td>1.0</td>\n",
              "    </tr>\n",
              "    <tr>\n",
              "      <th>...</th>\n",
              "      <td>...</td>\n",
              "      <td>...</td>\n",
              "      <td>...</td>\n",
              "      <td>...</td>\n",
              "      <td>...</td>\n",
              "      <td>...</td>\n",
              "      <td>...</td>\n",
              "      <td>...</td>\n",
              "      <td>...</td>\n",
              "      <td>...</td>\n",
              "      <td>...</td>\n",
              "      <td>...</td>\n",
              "      <td>...</td>\n",
              "      <td>...</td>\n",
              "      <td>...</td>\n",
              "      <td>...</td>\n",
              "      <td>...</td>\n",
              "      <td>...</td>\n",
              "      <td>...</td>\n",
              "      <td>...</td>\n",
              "      <td>...</td>\n",
              "      <td>...</td>\n",
              "      <td>...</td>\n",
              "    </tr>\n",
              "    <tr>\n",
              "      <th>8119</th>\n",
              "      <td>0.3333</td>\n",
              "      <td>0.25</td>\n",
              "      <td>1.0</td>\n",
              "      <td>False</td>\n",
              "      <td>0.3333</td>\n",
              "      <td>1.0</td>\n",
              "      <td>1.0</td>\n",
              "      <td>1.0</td>\n",
              "      <td>0.0833</td>\n",
              "      <td>1.0</td>\n",
              "      <td>1.00</td>\n",
              "      <td>0.25</td>\n",
              "      <td>0.25</td>\n",
              "      <td>0.5556</td>\n",
              "      <td>0.5556</td>\n",
              "      <td>1.0</td>\n",
              "      <td>0.75</td>\n",
              "      <td>1</td>\n",
              "      <td>0.2</td>\n",
              "      <td>0.7778</td>\n",
              "      <td>0.8333</td>\n",
              "      <td>0.8571</td>\n",
              "      <td>1.0</td>\n",
              "    </tr>\n",
              "    <tr>\n",
              "      <th>8120</th>\n",
              "      <td>0.6667</td>\n",
              "      <td>0.25</td>\n",
              "      <td>1.0</td>\n",
              "      <td>False</td>\n",
              "      <td>0.3333</td>\n",
              "      <td>1.0</td>\n",
              "      <td>1.0</td>\n",
              "      <td>1.0</td>\n",
              "      <td>0.0833</td>\n",
              "      <td>1.0</td>\n",
              "      <td>1.00</td>\n",
              "      <td>0.25</td>\n",
              "      <td>0.25</td>\n",
              "      <td>0.5556</td>\n",
              "      <td>0.5556</td>\n",
              "      <td>1.0</td>\n",
              "      <td>1.00</td>\n",
              "      <td>1</td>\n",
              "      <td>0.2</td>\n",
              "      <td>0.7778</td>\n",
              "      <td>0.3333</td>\n",
              "      <td>0.8571</td>\n",
              "      <td>1.0</td>\n",
              "    </tr>\n",
              "    <tr>\n",
              "      <th>8121</th>\n",
              "      <td>0.5000</td>\n",
              "      <td>0.25</td>\n",
              "      <td>1.0</td>\n",
              "      <td>False</td>\n",
              "      <td>0.3333</td>\n",
              "      <td>1.0</td>\n",
              "      <td>1.0</td>\n",
              "      <td>1.0</td>\n",
              "      <td>0.9167</td>\n",
              "      <td>1.0</td>\n",
              "      <td>1.00</td>\n",
              "      <td>0.25</td>\n",
              "      <td>0.25</td>\n",
              "      <td>0.5556</td>\n",
              "      <td>0.5556</td>\n",
              "      <td>1.0</td>\n",
              "      <td>0.75</td>\n",
              "      <td>1</td>\n",
              "      <td>0.2</td>\n",
              "      <td>0.7778</td>\n",
              "      <td>0.8333</td>\n",
              "      <td>0.8571</td>\n",
              "      <td>1.0</td>\n",
              "    </tr>\n",
              "    <tr>\n",
              "      <th>8122</th>\n",
              "      <td>0.3333</td>\n",
              "      <td>0.50</td>\n",
              "      <td>1.0</td>\n",
              "      <td>False</td>\n",
              "      <td>0.6667</td>\n",
              "      <td>0.5</td>\n",
              "      <td>1.0</td>\n",
              "      <td>0.5</td>\n",
              "      <td>0.8333</td>\n",
              "      <td>0.5</td>\n",
              "      <td>1.00</td>\n",
              "      <td>0.25</td>\n",
              "      <td>0.50</td>\n",
              "      <td>0.2222</td>\n",
              "      <td>0.2222</td>\n",
              "      <td>1.0</td>\n",
              "      <td>0.50</td>\n",
              "      <td>1</td>\n",
              "      <td>1.0</td>\n",
              "      <td>0.2222</td>\n",
              "      <td>0.3333</td>\n",
              "      <td>0.8571</td>\n",
              "      <td>0.5</td>\n",
              "    </tr>\n",
              "    <tr>\n",
              "      <th>8123</th>\n",
              "      <td>0.6667</td>\n",
              "      <td>0.25</td>\n",
              "      <td>1.0</td>\n",
              "      <td>False</td>\n",
              "      <td>0.3333</td>\n",
              "      <td>1.0</td>\n",
              "      <td>1.0</td>\n",
              "      <td>1.0</td>\n",
              "      <td>0.0833</td>\n",
              "      <td>1.0</td>\n",
              "      <td>1.00</td>\n",
              "      <td>0.25</td>\n",
              "      <td>0.25</td>\n",
              "      <td>0.5556</td>\n",
              "      <td>0.5556</td>\n",
              "      <td>1.0</td>\n",
              "      <td>0.75</td>\n",
              "      <td>1</td>\n",
              "      <td>0.2</td>\n",
              "      <td>0.4444</td>\n",
              "      <td>0.8333</td>\n",
              "      <td>0.8571</td>\n",
              "      <td>1.0</td>\n",
              "    </tr>\n",
              "  </tbody>\n",
              "</table>\n",
              "<p>8124 rows × 23 columns</p>\n",
              "</div>"
            ],
            "text/plain": [
              "      CapShape  CapSurface  CapColor  ...  Population  Habitat  Class\n",
              "0       0.6667        0.25       1.0  ...      0.5000   0.4286    0.5\n",
              "1       0.6667        0.25       0.1  ...      0.6667   1.0000    1.0\n",
              "2       1.0000        0.25       0.2  ...      0.6667   0.7143    1.0\n",
              "3       0.6667        0.50       0.2  ...      0.5000   0.4286    0.5\n",
              "4       0.6667        0.25       0.7  ...      1.0000   1.0000    1.0\n",
              "...        ...         ...       ...  ...         ...      ...    ...\n",
              "8119    0.3333        0.25       1.0  ...      0.8333   0.8571    1.0\n",
              "8120    0.6667        0.25       1.0  ...      0.3333   0.8571    1.0\n",
              "8121    0.5000        0.25       1.0  ...      0.8333   0.8571    1.0\n",
              "8122    0.3333        0.50       1.0  ...      0.3333   0.8571    0.5\n",
              "8123    0.6667        0.25       1.0  ...      0.8333   0.8571    1.0\n",
              "\n",
              "[8124 rows x 23 columns]"
            ]
          },
          "metadata": {
            "tags": []
          },
          "execution_count": 142
        }
      ]
    },
    {
      "cell_type": "markdown",
      "metadata": {
        "id": "LA80aEqwUyiS",
        "colab_type": "text"
      },
      "source": [
        "**Разделение данных**\n",
        "\n",
        "**Data splitting**"
      ]
    },
    {
      "cell_type": "code",
      "metadata": {
        "id": "dbxZrdB6rfGs",
        "colab_type": "code",
        "outputId": "b8243ee1-72cf-4672-ed07-b853fa7919b5",
        "colab": {
          "base_uri": "https://localhost:8080/",
          "height": 269
        }
      },
      "source": [
        "from sklearn.preprocessing import StandardScaler\n",
        "from sklearn.model_selection import cross_val_score, train_test_split\n",
        "\n",
        "dcopy = data.copy()\n",
        "\n",
        "X = dcopy.drop(\"Class\", axis=1)\n",
        "y = dcopy[\"Class\"]\n",
        "print(X.head(), \"\\n\")\n",
        "print(y.head())"
      ],
      "execution_count": 143,
      "outputs": [
        {
          "output_type": "stream",
          "text": [
            "   CapShape  CapSurface  CapColor  ...  SporePrintColor  Population  Habitat\n",
            "0    0.6667        0.25       1.0  ...           1.0000      0.5000   0.4286\n",
            "1    0.6667        0.25       0.1  ...           0.8889      0.6667   1.0000\n",
            "2    1.0000        0.25       0.2  ...           0.8889      0.6667   0.7143\n",
            "3    0.6667        0.50       0.2  ...           1.0000      0.5000   0.4286\n",
            "4    0.6667        0.25       0.7  ...           0.8889      1.0000   1.0000\n",
            "\n",
            "[5 rows x 22 columns] \n",
            "\n",
            "0    0.5\n",
            "1    1.0\n",
            "2    1.0\n",
            "3    0.5\n",
            "4    1.0\n",
            "Name: Class, dtype: float64\n"
          ],
          "name": "stdout"
        }
      ]
    },
    {
      "cell_type": "code",
      "metadata": {
        "id": "sxfAjwPaV4Zs",
        "colab_type": "code",
        "colab": {}
      },
      "source": [
        "columns = X.columns\n",
        "scaler = StandardScaler()\n",
        "X = scaler.fit_transform(X)"
      ],
      "execution_count": 0,
      "outputs": []
    },
    {
      "cell_type": "code",
      "metadata": {
        "id": "Xg8xwyiYW4L9",
        "colab_type": "code",
        "outputId": "dbf96b1e-432e-4971-a594-fcfb7d4f2fc6",
        "colab": {
          "base_uri": "https://localhost:8080/",
          "height": 84
        }
      },
      "source": [
        "# divide train and test selections\n",
        "X_train, X_test, y_train, y_test = train_test_split(X, y,\n",
        "                            test_size=0.25, random_state=1)\n",
        "print(X_train.shape)\n",
        "print(X_test.shape)\n",
        "print(y_train.shape)\n",
        "print(y_test.shape)"
      ],
      "execution_count": 145,
      "outputs": [
        {
          "output_type": "stream",
          "text": [
            "(6093, 22)\n",
            "(2031, 22)\n",
            "(6093,)\n",
            "(2031,)\n"
          ],
          "name": "stdout"
        }
      ]
    },
    {
      "cell_type": "markdown",
      "metadata": {
        "id": "cJujlmQHcl4o",
        "colab_type": "text"
      },
      "source": [
        "**Модель ближайших соседей для произвольно заданного гиперпараметра $K$**\n",
        "\n",
        "**Nearest neighbor model for an arbitrary given hyperparameter $K$**"
      ]
    },
    {
      "cell_type": "code",
      "metadata": {
        "id": "uWMcnrjpYWXk",
        "colab_type": "code",
        "colab": {}
      },
      "source": [
        "from sklearn.neighbors import KNeighborsRegressor\n",
        "from sklearn.metrics import mean_absolute_error\n",
        "from sklearn.metrics import median_absolute_error, r2_score\n",
        "\n",
        "def test_model(model):\n",
        "    print(\"mean_absolute_error:\",\n",
        "          mean_absolute_error(y_test, model.predict(X_test)))\n",
        "    print(\"median_absolute_error:\",\n",
        "          median_absolute_error(y_test, model.predict(X_test)))\n",
        "    print(\"r2_score:\",\n",
        "          r2_score(y_test, model.predict(X_test)))"
      ],
      "execution_count": 0,
      "outputs": []
    },
    {
      "cell_type": "code",
      "metadata": {
        "id": "Zim6JUGRc8ee",
        "colab_type": "code",
        "outputId": "b48f75bc-c6fc-4643-f916-e490a0aeb370",
        "colab": {
          "base_uri": "https://localhost:8080/",
          "height": 67
        }
      },
      "source": [
        "reg_15 = KNeighborsRegressor(n_neighbors=15)\n",
        "reg_15.fit(X_train, y_train)"
      ],
      "execution_count": 147,
      "outputs": [
        {
          "output_type": "execute_result",
          "data": {
            "text/plain": [
              "KNeighborsRegressor(algorithm='auto', leaf_size=30, metric='minkowski',\n",
              "                    metric_params=None, n_jobs=None, n_neighbors=15, p=2,\n",
              "                    weights='uniform')"
            ]
          },
          "metadata": {
            "tags": []
          },
          "execution_count": 147
        }
      ]
    },
    {
      "cell_type": "code",
      "metadata": {
        "id": "L7fH5xW-dAs3",
        "colab_type": "code",
        "outputId": "a3740dfe-90b5-49e6-d0ba-bc042662ad35",
        "colab": {
          "base_uri": "https://localhost:8080/",
          "height": 67
        }
      },
      "source": [
        "test_model(reg_15)"
      ],
      "execution_count": 148,
      "outputs": [
        {
          "output_type": "stream",
          "text": [
            "mean_absolute_error: 0.00218283275890366\n",
            "median_absolute_error: 0.0\n",
            "r2_score: 0.9921832263403219\n"
          ],
          "name": "stdout"
        }
      ]
    },
    {
      "cell_type": "markdown",
      "metadata": {
        "id": "uyCXfuLidkxT",
        "colab_type": "text"
      },
      "source": [
        "**Использование кросс-валидации**\n",
        "\n",
        "**Using cross validation**"
      ]
    },
    {
      "cell_type": "code",
      "metadata": {
        "id": "HMiZmkAQdD3p",
        "colab_type": "code",
        "outputId": "5dc79166-b5c4-4a3d-cd9a-2a49abaf990f",
        "colab": {
          "base_uri": "https://localhost:8080/",
          "height": 67
        }
      },
      "source": [
        "from sklearn.model_selection import KFold, RepeatedKFold, ShuffleSplit\n",
        "\n",
        "scores = cross_val_score(KNeighborsRegressor(n_neighbors=15), X, y,\n",
        "                         cv=KFold(n_splits=10), scoring=\"r2\")\n",
        "print(scores)\n",
        "print(scores.mean(), \"±\", scores.std())"
      ],
      "execution_count": 149,
      "outputs": [
        {
          "output_type": "stream",
          "text": [
            "[0.9973447  1.         1.         1.         1.         0.99432662\n",
            " 0.88597886 0.98065168 0.9964011  0.95745946]\n",
            "0.9812162420110482 ± 0.03421807954746192\n"
          ],
          "name": "stdout"
        }
      ]
    },
    {
      "cell_type": "code",
      "metadata": {
        "id": "TCIUWQgfeBdD",
        "colab_type": "code",
        "outputId": "da305f1c-335c-4fe9-c444-4e8d7798579e",
        "colab": {
          "base_uri": "https://localhost:8080/",
          "height": 67
        }
      },
      "source": [
        "scores = cross_val_score(KNeighborsRegressor(n_neighbors=15), X, y,\n",
        "                         cv=RepeatedKFold(n_splits=5, n_repeats=2),\n",
        "                         scoring=\"r2\")\n",
        "print(scores)\n",
        "print(scores.mean(), \"±\", scores.std())"
      ],
      "execution_count": 150,
      "outputs": [
        {
          "output_type": "stream",
          "text": [
            "[0.99423453 0.99658153 0.99644782 0.9954995  0.99693324 0.9961005\n",
            " 0.99626767 0.99451314 0.9945565  0.99599151]\n",
            "0.9957125930439743 ± 0.0009125396963525019\n"
          ],
          "name": "stdout"
        }
      ]
    },
    {
      "cell_type": "code",
      "metadata": {
        "id": "7FvDo2pHePkz",
        "colab_type": "code",
        "outputId": "f2b75e67-12af-4994-d97f-0f2d34f432fb",
        "colab": {
          "base_uri": "https://localhost:8080/",
          "height": 67
        }
      },
      "source": [
        "scores = cross_val_score(KNeighborsRegressor(n_neighbors=15), X, y,\n",
        "                         cv=ShuffleSplit(n_splits=10), scoring=\"r2\")\n",
        "print(scores)\n",
        "print(scores.mean(), \"±\", scores.std())"
      ],
      "execution_count": 151,
      "outputs": [
        {
          "output_type": "stream",
          "text": [
            "[0.99704793 0.99424454 0.99973745 0.99222284 0.99758438 0.99687133\n",
            " 0.99314695 0.99492516 0.99365927 0.99584219]\n",
            "0.995528203082066 ± 0.002196769232138002\n"
          ],
          "name": "stdout"
        }
      ]
    },
    {
      "cell_type": "markdown",
      "metadata": {
        "id": "mQZ5acj8eaz4",
        "colab_type": "text"
      },
      "source": [
        "**Подбор гиперпараметра $K$**\n",
        "\n",
        "**Selection of hyperparameter $K$**"
      ]
    },
    {
      "cell_type": "code",
      "metadata": {
        "id": "kRrPER_veULk",
        "colab_type": "code",
        "outputId": "82f415dc-9853-4aff-d433-edb34ec7054d",
        "colab": {
          "base_uri": "https://localhost:8080/",
          "height": 34
        }
      },
      "source": [
        "from sklearn.model_selection import GridSearchCV\n",
        "\n",
        "n_range = np.array(range(1, 25, 2))\n",
        "tuned_parameters = [{'n_neighbors': n_range}]\n",
        "n_range"
      ],
      "execution_count": 152,
      "outputs": [
        {
          "output_type": "execute_result",
          "data": {
            "text/plain": [
              "array([ 1,  3,  5,  7,  9, 11, 13, 15, 17, 19, 21, 23])"
            ]
          },
          "metadata": {
            "tags": []
          },
          "execution_count": 152
        }
      ]
    },
    {
      "cell_type": "code",
      "metadata": {
        "id": "8KayNfSzegDa",
        "colab_type": "code",
        "outputId": "12b2c967-4721-48cd-a56f-747611c97c08",
        "colab": {
          "base_uri": "https://localhost:8080/",
          "height": 34
        }
      },
      "source": [
        "gs = GridSearchCV(KNeighborsRegressor(), tuned_parameters,\n",
        "                  cv=ShuffleSplit(n_splits=10), scoring=\"r2\",\n",
        "                  return_train_score=True, n_jobs=-1)\n",
        "gs.fit(X, y)\n",
        "gs.best_params_"
      ],
      "execution_count": 153,
      "outputs": [
        {
          "output_type": "execute_result",
          "data": {
            "text/plain": [
              "{'n_neighbors': 1}"
            ]
          },
          "metadata": {
            "tags": []
          },
          "execution_count": 153
        }
      ]
    },
    {
      "cell_type": "code",
      "metadata": {
        "id": "qosq3cy6e1h4",
        "colab_type": "code",
        "outputId": "da6c5025-9a34-400c-838a-5088b09bd281",
        "colab": {
          "base_uri": "https://localhost:8080/",
          "height": 282
        }
      },
      "source": [
        "import matplotlib.pyplot as plt\n",
        "from sklearn.model_selection import learning_curve, validation_curve\n",
        "\n",
        "plt.plot(n_range, gs.cv_results_[\"mean_train_score\"])"
      ],
      "execution_count": 154,
      "outputs": [
        {
          "output_type": "execute_result",
          "data": {
            "text/plain": [
              "[<matplotlib.lines.Line2D at 0x7f3340de8c50>]"
            ]
          },
          "metadata": {
            "tags": []
          },
          "execution_count": 154
        },
        {
          "output_type": "display_data",
          "data": {
            "image/png": "[encoded data removed]",
            "text/plain": [
              "<Figure size 432x288 with 1 Axes>"
            ]
          },
          "metadata": {
            "tags": [],
            "needs_background": "light"
          }
        }
      ]
    },
    {
      "cell_type": "code",
      "metadata": {
        "id": "eZCAIVC4fuN6",
        "colab_type": "code",
        "outputId": "ffa9e340-d317-40a8-f74b-e2bd90df095e",
        "colab": {
          "base_uri": "https://localhost:8080/",
          "height": 282
        }
      },
      "source": [
        "plt.plot(n_range, gs.cv_results_[\"mean_test_score\"])"
      ],
      "execution_count": 155,
      "outputs": [
        {
          "output_type": "execute_result",
          "data": {
            "text/plain": [
              "[<matplotlib.lines.Line2D at 0x7f333ef6e780>]"
            ]
          },
          "metadata": {
            "tags": []
          },
          "execution_count": 155
        },
        {
          "output_type": "display_data",
          "data": {
            "image/png": "[encoded data removed]",
            "text/plain": [
              "<Figure size 432x288 with 1 Axes>"
            ]
          },
          "metadata": {
            "tags": [],
            "needs_background": "light"
          }
        }
      ]
    },
    {
      "cell_type": "code",
      "metadata": {
        "id": "4YYCIG2Nf0Av",
        "colab_type": "code",
        "outputId": "aec31a83-2350-4683-8c66-39e1e88e61a3",
        "colab": {
          "base_uri": "https://localhost:8080/",
          "height": 67
        }
      },
      "source": [
        "reg = KNeighborsRegressor(**gs.best_params_)\n",
        "reg.fit(X_train, y_train)\n",
        "test_model(reg)"
      ],
      "execution_count": 156,
      "outputs": [
        {
          "output_type": "stream",
          "text": [
            "mean_absolute_error: 0.0\n",
            "median_absolute_error: 0.0\n",
            "r2_score: 1.0\n"
          ],
          "name": "stdout"
        }
      ]
    },
    {
      "cell_type": "code",
      "metadata": {
        "id": "FAVMfV1Ef2Lv",
        "colab_type": "code",
        "colab": {}
      },
      "source": [
        "# train curve\n",
        "def plot_learning_curve(estimator, title, X, y, ylim=None, cv=None):\n",
        "    train_sizes=np.linspace(.1, 1.0, 5)\n",
        "\n",
        "    plt.figure()\n",
        "    plt.title(title)\n",
        "    if ylim is not None:\n",
        "        plt.ylim(*ylim)\n",
        "    plt.xlabel(\"Training examples\")\n",
        "    plt.ylabel(\"Score\")\n",
        "    train_sizes, train_scores, test_scores = learning_curve(\n",
        "        estimator, X, y, cv=cv, n_jobs=-1, train_sizes=train_sizes)\n",
        "    train_scores_mean = np.mean(train_scores, axis=1)\n",
        "    train_scores_std = np.std(train_scores, axis=1)\n",
        "    test_scores_mean = np.mean(test_scores, axis=1)\n",
        "    test_scores_std = np.std(test_scores, axis=1)\n",
        "    plt.grid()\n",
        "\n",
        "    plt.fill_between(train_sizes, train_scores_mean - train_scores_std,\n",
        "                     train_scores_mean + train_scores_std, alpha=0.1,\n",
        "                     color=\"r\")\n",
        "    plt.fill_between(train_sizes, test_scores_mean - test_scores_std,\n",
        "                     test_scores_mean + test_scores_std, alpha=0.1,\n",
        "                     color=\"g\")\n",
        "    plt.plot(train_sizes, train_scores_mean, 'o-', color=\"r\",\n",
        "             label=\"Training score\")\n",
        "    plt.plot(train_sizes, test_scores_mean, 'o-', color=\"g\",\n",
        "             label=\"Cross-validation score\")\n",
        "\n",
        "    plt.legend(loc=\"best\")\n",
        "    return plt"
      ],
      "execution_count": 0,
      "outputs": []
    },
    {
      "cell_type": "code",
      "metadata": {
        "id": "rllpBd0_f5zF",
        "colab_type": "code",
        "outputId": "d03069dc-cb1d-46ef-82d8-7a7bd0ede15b",
        "colab": {
          "base_uri": "https://localhost:8080/",
          "height": 312
        }
      },
      "source": [
        "plot_learning_curve(reg, str(gs.best_params_), X, y,\n",
        "                    cv=ShuffleSplit(n_splits=10))"
      ],
      "execution_count": 158,
      "outputs": [
        {
          "output_type": "execute_result",
          "data": {
            "text/plain": [
              "<module 'matplotlib.pyplot' from '/usr/local/lib/python3.6/dist-packages/matplotlib/pyplot.py'>"
            ]
          },
          "metadata": {
            "tags": []
          },
          "execution_count": 158
        },
        {
          "output_type": "display_data",
          "data": {
            "image/png": "[encoded data removed]",
            "text/plain": [
              "<Figure size 432x288 with 1 Axes>"
            ]
          },
          "metadata": {
            "tags": [],
            "needs_background": "light"
          }
        }
      ]
    },
    {
      "cell_type": "code",
      "metadata": {
        "id": "L0mig0T1f8na",
        "colab_type": "code",
        "colab": {}
      },
      "source": [
        "# validation curve\n",
        "def plot_validation_curve(estimator, title, X, y, \n",
        "                          param_name, param_range, cv, \n",
        "                          scoring=\"accuracy\"):\n",
        "                                                   \n",
        "    train_scores, test_scores = validation_curve(\n",
        "        estimator, X, y, param_name=param_name,\n",
        "        param_range=param_range,\n",
        "        cv=cv, scoring=scoring, n_jobs=-1)\n",
        "    train_scores_mean = np.mean(train_scores, axis=1)\n",
        "    train_scores_std = np.std(train_scores, axis=1)\n",
        "    test_scores_mean = np.mean(test_scores, axis=1)\n",
        "    test_scores_std = np.std(test_scores, axis=1)\n",
        "\n",
        "    plt.title(title)\n",
        "    plt.xlabel(param_name)\n",
        "    plt.ylabel(\"Score\")\n",
        "    plt.ylim(0.0, 1.1)\n",
        "    lw = 2\n",
        "    plt.plot(param_range, train_scores_mean, label=\"Training score\",\n",
        "                 color=\"darkorange\", lw=lw)\n",
        "    plt.fill_between(param_range, train_scores_mean - train_scores_std,\n",
        "                     train_scores_mean + train_scores_std, alpha=0.2,\n",
        "                     color=\"darkorange\", lw=lw)\n",
        "    plt.plot(param_range, test_scores_mean,\n",
        "                 label=\"Cross-validation score\",\n",
        "                 color=\"navy\", lw=lw)\n",
        "    plt.fill_between(param_range, test_scores_mean - test_scores_std,\n",
        "                     test_scores_mean + test_scores_std, alpha=0.2,\n",
        "                     color=\"navy\", lw=lw)\n",
        "    plt.legend(loc=\"best\")\n",
        "    return plt"
      ],
      "execution_count": 0,
      "outputs": []
    },
    {
      "cell_type": "code",
      "metadata": {
        "id": "c_XhTJzBf-xE",
        "colab_type": "code",
        "outputId": "b3bdc58e-b83d-4e91-9630-c4ca148a286b",
        "colab": {
          "base_uri": "https://localhost:8080/",
          "height": 313
        }
      },
      "source": [
        "plot_validation_curve(KNeighborsRegressor(), \"knn\", X, y, \n",
        "                      param_name=\"n_neighbors\", param_range=n_range, \n",
        "                      cv=ShuffleSplit(n_splits=10), scoring=\"r2\")"
      ],
      "execution_count": 160,
      "outputs": [
        {
          "output_type": "execute_result",
          "data": {
            "text/plain": [
              "<module 'matplotlib.pyplot' from '/usr/local/lib/python3.6/dist-packages/matplotlib/pyplot.py'>"
            ]
          },
          "metadata": {
            "tags": []
          },
          "execution_count": 160
        },
        {
          "output_type": "display_data",
          "data": {
            "image/png": "[encoded data removed]",
            "text/plain": [
              "<Figure size 432x288 with 1 Axes>"
            ]
          },
          "metadata": {
            "tags": [],
            "needs_background": "light"
          }
        }
      ]
    },
    {
      "cell_type": "code",
      "metadata": {
        "id": "7YMDBrc1l8FE",
        "colab_type": "code",
        "colab": {}
      },
      "source": [
        ""
      ],
      "execution_count": 0,
      "outputs": []
    }
  ]
}