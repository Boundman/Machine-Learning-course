{
 "cells": [
  {
   "cell_type": "code",
   "execution_count": null,
   "metadata": {},
   "outputs": [],
   "source": [
    "Part 1"
   ]
  },
  {
   "cell_type": "markdown",
   "metadata": {},
   "source": [
    "age: continuous.\n",
    "\n",
    "workclass: Private, Self-emp-not-inc, Self-emp-inc, Federal-gov, Local-gov, State-gov, Without-pay, Never-worked.\n",
    "fnlwgt: continuous.\n",
    "\n",
    "education: Bachelors, Some-college, 11th, HS-grad, Prof-school, Assoc-acdm, Assoc-voc, 9th, 7th-8th, 12th, Masters, 1st-4th, 10th, Doctorate, 5th-6th, Preschool.\n",
    "\n",
    "education-num: continuous.\n",
    "\n",
    "marital-status: Married-civ-spouse, Divorced, Never-married, Separated, Widowed, Married-spouse-absent, Married-AF-spouse.\n",
    "\n",
    "occupation: Tech-support, Craft-repair, Other-service, Sales, Exec-managerial, Prof-specialty, Handlers-cleaners, Machine-op-inspct, Adm-clerical, Farming-fishing, Transport-moving, Priv-house-serv, Protective-serv, Armed-Forces.\n",
    "\n",
    "relationship: Wife, Own-child, Husband, Not-in-family, Other-relative, Unmarried.\n",
    "\n",
    "race: White, Asian-Pac-Islander, Amer-Indian-Eskimo, Other, Black.\n",
    "\n",
    "sex: Female, Male.\n",
    "\n",
    "capital-gain: continuous.\n",
    "\n",
    "capital-loss: continuous.\n",
    "\n",
    "hours-per-week: continuous.\n",
    "\n",
    "native-country: United-States, Cambodia, England, Puerto-Rico, Canada, Germany, Outlying-US(Guam-USVI-etc), India, Japan, Greece, South, China, Cuba, Iran, Honduras, Philippines, Italy, Poland, Jamaica, Vietnam, Mexico, Portugal, Ireland, France, Dominican-Republic, Laos, Ecuador, Taiwan, Haiti, Columbia, Hungary, Guatemala, Nicaragua, Scotland, Thailand, Yugoslavia, El-Salvador, Trinadad&Tobago, Peru, Hong, Holand-Netherlands.\n",
    "\n",
    "salary: >50K,<=50K"
   ]
  },
  {
   "cell_type": "code",
   "execution_count": 2,
   "metadata": {},
   "outputs": [],
   "source": [
    "import numpy as np\n",
    "import pandas as pd"
   ]
  },
  {
   "cell_type": "code",
   "execution_count": 3,
   "metadata": {},
   "outputs": [
    {
     "data": {
      "text/html": [
       "<div>\n",
       "<style scoped>\n",
       "    .dataframe tbody tr th:only-of-type {\n",
       "        vertical-align: middle;\n",
       "    }\n",
       "\n",
       "    .dataframe tbody tr th {\n",
       "        vertical-align: top;\n",
       "    }\n",
       "\n",
       "    .dataframe thead th {\n",
       "        text-align: right;\n",
       "    }\n",
       "</style>\n",
       "<table border=\"1\" class=\"dataframe\">\n",
       "  <thead>\n",
       "    <tr style=\"text-align: right;\">\n",
       "      <th></th>\n",
       "      <th>age</th>\n",
       "      <th>workclass</th>\n",
       "      <th>fnlwgt</th>\n",
       "      <th>education</th>\n",
       "      <th>education-num</th>\n",
       "      <th>marital-status</th>\n",
       "      <th>occupation</th>\n",
       "      <th>relationship</th>\n",
       "      <th>race</th>\n",
       "      <th>sex</th>\n",
       "      <th>capital-gain</th>\n",
       "      <th>capital-loss</th>\n",
       "      <th>hours-per-week</th>\n",
       "      <th>native-country</th>\n",
       "      <th>salary</th>\n",
       "    </tr>\n",
       "  </thead>\n",
       "  <tbody>\n",
       "    <tr>\n",
       "      <th>0</th>\n",
       "      <td>39</td>\n",
       "      <td>State-gov</td>\n",
       "      <td>77516</td>\n",
       "      <td>Bachelors</td>\n",
       "      <td>13</td>\n",
       "      <td>Never-married</td>\n",
       "      <td>Adm-clerical</td>\n",
       "      <td>Not-in-family</td>\n",
       "      <td>White</td>\n",
       "      <td>Male</td>\n",
       "      <td>2174</td>\n",
       "      <td>0</td>\n",
       "      <td>40</td>\n",
       "      <td>United-States</td>\n",
       "      <td>&lt;=50K</td>\n",
       "    </tr>\n",
       "    <tr>\n",
       "      <th>1</th>\n",
       "      <td>50</td>\n",
       "      <td>Self-emp-not-inc</td>\n",
       "      <td>83311</td>\n",
       "      <td>Bachelors</td>\n",
       "      <td>13</td>\n",
       "      <td>Married-civ-spouse</td>\n",
       "      <td>Exec-managerial</td>\n",
       "      <td>Husband</td>\n",
       "      <td>White</td>\n",
       "      <td>Male</td>\n",
       "      <td>0</td>\n",
       "      <td>0</td>\n",
       "      <td>13</td>\n",
       "      <td>United-States</td>\n",
       "      <td>&lt;=50K</td>\n",
       "    </tr>\n",
       "    <tr>\n",
       "      <th>2</th>\n",
       "      <td>38</td>\n",
       "      <td>Private</td>\n",
       "      <td>215646</td>\n",
       "      <td>HS-grad</td>\n",
       "      <td>9</td>\n",
       "      <td>Divorced</td>\n",
       "      <td>Handlers-cleaners</td>\n",
       "      <td>Not-in-family</td>\n",
       "      <td>White</td>\n",
       "      <td>Male</td>\n",
       "      <td>0</td>\n",
       "      <td>0</td>\n",
       "      <td>40</td>\n",
       "      <td>United-States</td>\n",
       "      <td>&lt;=50K</td>\n",
       "    </tr>\n",
       "    <tr>\n",
       "      <th>3</th>\n",
       "      <td>53</td>\n",
       "      <td>Private</td>\n",
       "      <td>234721</td>\n",
       "      <td>11th</td>\n",
       "      <td>7</td>\n",
       "      <td>Married-civ-spouse</td>\n",
       "      <td>Handlers-cleaners</td>\n",
       "      <td>Husband</td>\n",
       "      <td>Black</td>\n",
       "      <td>Male</td>\n",
       "      <td>0</td>\n",
       "      <td>0</td>\n",
       "      <td>40</td>\n",
       "      <td>United-States</td>\n",
       "      <td>&lt;=50K</td>\n",
       "    </tr>\n",
       "    <tr>\n",
       "      <th>4</th>\n",
       "      <td>28</td>\n",
       "      <td>Private</td>\n",
       "      <td>338409</td>\n",
       "      <td>Bachelors</td>\n",
       "      <td>13</td>\n",
       "      <td>Married-civ-spouse</td>\n",
       "      <td>Prof-specialty</td>\n",
       "      <td>Wife</td>\n",
       "      <td>Black</td>\n",
       "      <td>Female</td>\n",
       "      <td>0</td>\n",
       "      <td>0</td>\n",
       "      <td>40</td>\n",
       "      <td>Cuba</td>\n",
       "      <td>&lt;=50K</td>\n",
       "    </tr>\n",
       "  </tbody>\n",
       "</table>\n",
       "</div>"
      ],
      "text/plain": [
       "   age         workclass  fnlwgt  education  education-num  \\\n",
       "0   39         State-gov   77516  Bachelors             13   \n",
       "1   50  Self-emp-not-inc   83311  Bachelors             13   \n",
       "2   38           Private  215646    HS-grad              9   \n",
       "3   53           Private  234721       11th              7   \n",
       "4   28           Private  338409  Bachelors             13   \n",
       "\n",
       "       marital-status         occupation   relationship   race     sex  \\\n",
       "0       Never-married       Adm-clerical  Not-in-family  White    Male   \n",
       "1  Married-civ-spouse    Exec-managerial        Husband  White    Male   \n",
       "2            Divorced  Handlers-cleaners  Not-in-family  White    Male   \n",
       "3  Married-civ-spouse  Handlers-cleaners        Husband  Black    Male   \n",
       "4  Married-civ-spouse     Prof-specialty           Wife  Black  Female   \n",
       "\n",
       "   capital-gain  capital-loss  hours-per-week native-country salary  \n",
       "0          2174             0              40  United-States  <=50K  \n",
       "1             0             0              13  United-States  <=50K  \n",
       "2             0             0              40  United-States  <=50K  \n",
       "3             0             0              40  United-States  <=50K  \n",
       "4             0             0              40           Cuba  <=50K  "
      ]
     },
     "execution_count": 3,
     "metadata": {},
     "output_type": "execute_result"
    }
   ],
   "source": [
    "data = pd.read_csv('adult.data.csv')\n",
    "data.head()"
   ]
  },
  {
   "cell_type": "markdown",
   "metadata": {},
   "source": [
    "1. How many men and women (sex feature) are represented in this dataset?"
   ]
  },
  {
   "cell_type": "code",
   "execution_count": 4,
   "metadata": {},
   "outputs": [
    {
     "name": "stdout",
     "output_type": "stream",
     "text": [
      "32561 <-- all\n",
      "21790 <-- male\n",
      "10771 <-- female\n"
     ]
    }
   ],
   "source": [
    "print('{} <-- all'.format(data['sex'].shape[0]))\n",
    "print('{} <-- male'.format(data[data['sex'] == 'Male'].shape[0]))\n",
    "print('{} <-- female'.format(data[data['sex'] == 'Female'].shape[0]))"
   ]
  },
  {
   "cell_type": "markdown",
   "metadata": {},
   "source": [
    "2. What is the average age (age feature) of women?"
   ]
  },
  {
   "cell_type": "code",
   "execution_count": 5,
   "metadata": {},
   "outputs": [
    {
     "data": {
      "text/plain": [
       "36.85823043357163"
      ]
     },
     "execution_count": 5,
     "metadata": {},
     "output_type": "execute_result"
    }
   ],
   "source": [
    "data[data['sex'] == 'Female']['age'].mean()"
   ]
  },
  {
   "cell_type": "markdown",
   "metadata": {},
   "source": [
    "3. What is the percentage of German citizens (native-country feature)?"
   ]
  },
  {
   "cell_type": "code",
   "execution_count": 6,
   "metadata": {},
   "outputs": [
    {
     "data": {
      "text/plain": [
       "0.42074874850281013"
      ]
     },
     "execution_count": 6,
     "metadata": {},
     "output_type": "execute_result"
    }
   ],
   "source": [
    "data[data['native-country'] == 'Germany'].shape[0] / data.shape[0] * 100"
   ]
  },
  {
   "cell_type": "markdown",
   "metadata": {},
   "source": [
    "4-5. What are the mean and standard deviation of age for those who earn more than 50K per year (salary feature) and those who earn less than 50K per year?"
   ]
  },
  {
   "cell_type": "code",
   "execution_count": 7,
   "metadata": {},
   "outputs": [
    {
     "name": "stdout",
     "output_type": "stream",
     "text": [
      "More 50K: mean = 44.24984058155847; std = 10.519027719851826\n",
      "Less 50K: mean = 36.78373786407767; std = 14.02008849082488\n"
     ]
    }
   ],
   "source": [
    "more_50_salary_aged = data[data['salary'] == '>50K']['age']\n",
    "less_50_salary_aged = data[data['salary'] == '<=50K']['age']\n",
    "print('More 50K: mean = {}; std = {}'.format(more_50_salary_aged.mean(), more_50_salary_aged.std()))\n",
    "print('Less 50K: mean = {}; std = {}'.format(less_50_salary_aged.mean(), less_50_salary_aged.std()))"
   ]
  },
  {
   "cell_type": "markdown",
   "metadata": {},
   "source": [
    "6. Is it true that people who earn more than 50K have at least high school education? (education – Bachelors, Prof-school, Assoc-acdm, Assoc-voc, Masters or Doctorate feature)"
   ]
  },
  {
   "cell_type": "code",
   "execution_count": 8,
   "metadata": {},
   "outputs": [
    {
     "name": "stdout",
     "output_type": "stream",
     "text": [
      "only with high education? False\n"
     ]
    }
   ],
   "source": [
    "high_school = ['Bachelors', 'Prof-school', 'Assoc-acdm', 'Assoc-voc', 'Masters', 'Doctorate']\n",
    "actual_education = data[data['salary'] == '>50K']['education'].unique()\n",
    "not_high = [edu for edu in actual_education if edu not in high_school]\n",
    "print('only with high education? {}'.format(not_high == []))"
   ]
  },
  {
   "cell_type": "markdown",
   "metadata": {},
   "source": [
    "7. Display age statistics for each race (race feature) and each gender (sex feature). Use groupby() and describe(). Find the maximum age of men of Amer-Indian-Eskimo race."
   ]
  },
  {
   "cell_type": "code",
   "execution_count": 9,
   "metadata": {},
   "outputs": [
    {
     "data": {
      "text/html": [
       "<div>\n",
       "<style scoped>\n",
       "    .dataframe tbody tr th:only-of-type {\n",
       "        vertical-align: middle;\n",
       "    }\n",
       "\n",
       "    .dataframe tbody tr th {\n",
       "        vertical-align: top;\n",
       "    }\n",
       "\n",
       "    .dataframe thead th {\n",
       "        text-align: right;\n",
       "    }\n",
       "</style>\n",
       "<table border=\"1\" class=\"dataframe\">\n",
       "  <thead>\n",
       "    <tr style=\"text-align: right;\">\n",
       "      <th></th>\n",
       "      <th>count</th>\n",
       "      <th>mean</th>\n",
       "      <th>std</th>\n",
       "      <th>min</th>\n",
       "      <th>25%</th>\n",
       "      <th>50%</th>\n",
       "      <th>75%</th>\n",
       "      <th>max</th>\n",
       "    </tr>\n",
       "    <tr>\n",
       "      <th>sex</th>\n",
       "      <th></th>\n",
       "      <th></th>\n",
       "      <th></th>\n",
       "      <th></th>\n",
       "      <th></th>\n",
       "      <th></th>\n",
       "      <th></th>\n",
       "      <th></th>\n",
       "    </tr>\n",
       "  </thead>\n",
       "  <tbody>\n",
       "    <tr>\n",
       "      <th>Female</th>\n",
       "      <td>10771.0</td>\n",
       "      <td>36.858230</td>\n",
       "      <td>14.013697</td>\n",
       "      <td>17.0</td>\n",
       "      <td>25.0</td>\n",
       "      <td>35.0</td>\n",
       "      <td>46.0</td>\n",
       "      <td>90.0</td>\n",
       "    </tr>\n",
       "    <tr>\n",
       "      <th>Male</th>\n",
       "      <td>21790.0</td>\n",
       "      <td>39.433547</td>\n",
       "      <td>13.370630</td>\n",
       "      <td>17.0</td>\n",
       "      <td>29.0</td>\n",
       "      <td>38.0</td>\n",
       "      <td>48.0</td>\n",
       "      <td>90.0</td>\n",
       "    </tr>\n",
       "  </tbody>\n",
       "</table>\n",
       "</div>"
      ],
      "text/plain": [
       "          count       mean        std   min   25%   50%   75%   max\n",
       "sex                                                                \n",
       "Female  10771.0  36.858230  14.013697  17.0  25.0  35.0  46.0  90.0\n",
       "Male    21790.0  39.433547  13.370630  17.0  29.0  38.0  48.0  90.0"
      ]
     },
     "execution_count": 9,
     "metadata": {},
     "output_type": "execute_result"
    }
   ],
   "source": [
    "data.groupby('sex')['age'].describe()"
   ]
  },
  {
   "cell_type": "code",
   "execution_count": 10,
   "metadata": {},
   "outputs": [
    {
     "data": {
      "text/html": [
       "<div>\n",
       "<style scoped>\n",
       "    .dataframe tbody tr th:only-of-type {\n",
       "        vertical-align: middle;\n",
       "    }\n",
       "\n",
       "    .dataframe tbody tr th {\n",
       "        vertical-align: top;\n",
       "    }\n",
       "\n",
       "    .dataframe thead th {\n",
       "        text-align: right;\n",
       "    }\n",
       "</style>\n",
       "<table border=\"1\" class=\"dataframe\">\n",
       "  <thead>\n",
       "    <tr style=\"text-align: right;\">\n",
       "      <th></th>\n",
       "      <th>count</th>\n",
       "      <th>mean</th>\n",
       "      <th>std</th>\n",
       "      <th>min</th>\n",
       "      <th>25%</th>\n",
       "      <th>50%</th>\n",
       "      <th>75%</th>\n",
       "      <th>max</th>\n",
       "    </tr>\n",
       "    <tr>\n",
       "      <th>race</th>\n",
       "      <th></th>\n",
       "      <th></th>\n",
       "      <th></th>\n",
       "      <th></th>\n",
       "      <th></th>\n",
       "      <th></th>\n",
       "      <th></th>\n",
       "      <th></th>\n",
       "    </tr>\n",
       "  </thead>\n",
       "  <tbody>\n",
       "    <tr>\n",
       "      <th>Amer-Indian-Eskimo</th>\n",
       "      <td>311.0</td>\n",
       "      <td>37.173633</td>\n",
       "      <td>12.447130</td>\n",
       "      <td>17.0</td>\n",
       "      <td>28.0</td>\n",
       "      <td>35.0</td>\n",
       "      <td>45.5</td>\n",
       "      <td>82.0</td>\n",
       "    </tr>\n",
       "    <tr>\n",
       "      <th>Asian-Pac-Islander</th>\n",
       "      <td>1039.0</td>\n",
       "      <td>37.746872</td>\n",
       "      <td>12.825133</td>\n",
       "      <td>17.0</td>\n",
       "      <td>28.0</td>\n",
       "      <td>36.0</td>\n",
       "      <td>45.0</td>\n",
       "      <td>90.0</td>\n",
       "    </tr>\n",
       "    <tr>\n",
       "      <th>Black</th>\n",
       "      <td>3124.0</td>\n",
       "      <td>37.767926</td>\n",
       "      <td>12.759290</td>\n",
       "      <td>17.0</td>\n",
       "      <td>28.0</td>\n",
       "      <td>36.0</td>\n",
       "      <td>46.0</td>\n",
       "      <td>90.0</td>\n",
       "    </tr>\n",
       "    <tr>\n",
       "      <th>Other</th>\n",
       "      <td>271.0</td>\n",
       "      <td>33.457565</td>\n",
       "      <td>11.538865</td>\n",
       "      <td>17.0</td>\n",
       "      <td>25.0</td>\n",
       "      <td>31.0</td>\n",
       "      <td>41.0</td>\n",
       "      <td>77.0</td>\n",
       "    </tr>\n",
       "    <tr>\n",
       "      <th>White</th>\n",
       "      <td>27816.0</td>\n",
       "      <td>38.769881</td>\n",
       "      <td>13.782306</td>\n",
       "      <td>17.0</td>\n",
       "      <td>28.0</td>\n",
       "      <td>37.0</td>\n",
       "      <td>48.0</td>\n",
       "      <td>90.0</td>\n",
       "    </tr>\n",
       "  </tbody>\n",
       "</table>\n",
       "</div>"
      ],
      "text/plain": [
       "                      count       mean        std   min   25%   50%   75%  \\\n",
       "race                                                                        \n",
       "Amer-Indian-Eskimo    311.0  37.173633  12.447130  17.0  28.0  35.0  45.5   \n",
       "Asian-Pac-Islander   1039.0  37.746872  12.825133  17.0  28.0  36.0  45.0   \n",
       "Black                3124.0  37.767926  12.759290  17.0  28.0  36.0  46.0   \n",
       "Other                 271.0  33.457565  11.538865  17.0  25.0  31.0  41.0   \n",
       "White               27816.0  38.769881  13.782306  17.0  28.0  37.0  48.0   \n",
       "\n",
       "                     max  \n",
       "race                      \n",
       "Amer-Indian-Eskimo  82.0  \n",
       "Asian-Pac-Islander  90.0  \n",
       "Black               90.0  \n",
       "Other               77.0  \n",
       "White               90.0  "
      ]
     },
     "execution_count": 10,
     "metadata": {},
     "output_type": "execute_result"
    }
   ],
   "source": [
    "data.groupby('race')['age'].describe()"
   ]
  },
  {
   "cell_type": "code",
   "execution_count": 30,
   "metadata": {},
   "outputs": [
    {
     "data": {
      "text/plain": [
       "82"
      ]
     },
     "execution_count": 30,
     "metadata": {},
     "output_type": "execute_result"
    }
   ],
   "source": [
    "data.loc[(data['race'] == 'Amer-Indian-Eskimo') & (data['sex'] == 'Male')]['age'].max()"
   ]
  },
  {
   "cell_type": "markdown",
   "metadata": {},
   "source": [
    "8. Among whom is the proportion of those who earn a lot (>50K) greater: married or single men (marital-status feature)? Consider as married those who have a marital-status starting with Married (Married-civ-spouse, Married-spouse-absent or Married-AF-spouse), the rest are considered bachelors."
   ]
  },
  {
   "cell_type": "code",
   "execution_count": 34,
   "metadata": {},
   "outputs": [
    {
     "name": "stdout",
     "output_type": "stream",
     "text": [
      "married amount = 5965; not married = 697\n",
      "married / not married = 8.558106169296988\n"
     ]
    }
   ],
   "source": [
    "married_status = ['Married-civ-spouse', 'Married-spouse-absent', 'Married-AF-spouse']\n",
    "more_50_men = data.loc[(data['salary'] == '>50K') & (data['sex'] == 'Male')]\n",
    "married = more_50_men.loc[(more_50_men['marital-status'].isin(married_status))].shape[0]\n",
    "not_married = more_50_men.shape[0] - married\n",
    "print('married amount = {}; not married = {}'.format(married, not_married))\n",
    "print('married / not married = {}'.format(married/not_married))"
   ]
  },
  {
   "cell_type": "markdown",
   "metadata": {},
   "source": [
    "9. What is the maximum number of hours a person works per week (hours-per-week feature)? How many people work such a number of hours, and what is the percentage of those who earn a lot (>50K) among them?"
   ]
  },
  {
   "cell_type": "code",
   "execution_count": 50,
   "metadata": {},
   "outputs": [
    {
     "name": "stdout",
     "output_type": "stream",
     "text": [
      "max hours per week = 99\n",
      "people with max hours per week = 85\n",
      "% = 29.411764705882355\n"
     ]
    }
   ],
   "source": [
    "max_hours_per_week = data['hours-per-week'].max()\n",
    "people_with_max = data[data['hours-per-week'] == max_hours_per_week]\n",
    "percent = people_with_max[people_with_max['salary'] == '>50K'].shape[0] / people_with_max.shape[0] * 100\n",
    "print('max hours per week = {}'.format(max_hours_per_week))\n",
    "print('people with max hours per week = {}'.format(people_with_max.shape[0]))\n",
    "print('% = {}'.format(percent))"
   ]
  },
  {
   "cell_type": "markdown",
   "metadata": {},
   "source": [
    "10. Count the average time of work (hours-per-week) for those who earn a little and a lot (salary) for each country (native-country). What will these be for Japan?"
   ]
  },
  {
   "cell_type": "code",
   "execution_count": 68,
   "metadata": {},
   "outputs": [
    {
     "name": "stdout",
     "output_type": "stream",
     "text": [
      "country: ?; hours with little salary: 45.54794520547945; hours with big salary 40.16475972540046\n",
      "country: Cambodia; hours with little salary: 40.0; hours with big salary 41.416666666666664\n",
      "country: Canada; hours with little salary: 45.64102564102564; hours with big salary 37.91463414634146\n",
      "country: China; hours with little salary: 38.9; hours with big salary 37.38181818181818\n",
      "country: Columbia; hours with little salary: 50.0; hours with big salary 38.68421052631579\n",
      "country: Cuba; hours with little salary: 42.44; hours with big salary 37.98571428571429\n",
      "country: Dominican-Republic; hours with little salary: 47.0; hours with big salary 42.338235294117645\n",
      "country: Ecuador; hours with little salary: 48.75; hours with big salary 38.041666666666664\n",
      "country: El-Salvador; hours with little salary: 45.0; hours with big salary 36.03092783505155\n",
      "country: England; hours with little salary: 44.53333333333333; hours with big salary 40.483333333333334\n",
      "country: France; hours with little salary: 50.75; hours with big salary 41.05882352941177\n",
      "country: Germany; hours with little salary: 44.97727272727273; hours with big salary 39.13978494623656\n",
      "country: Greece; hours with little salary: 50.625; hours with big salary 41.80952380952381\n",
      "country: Guatemala; hours with little salary: 36.666666666666664; hours with big salary 39.36065573770492\n",
      "country: Haiti; hours with little salary: 42.75; hours with big salary 36.325\n",
      "country: Honduras; hours with little salary: 60.0; hours with big salary 34.333333333333336\n",
      "country: Hong; hours with little salary: 45.0; hours with big salary 39.142857142857146\n",
      "country: Hungary; hours with little salary: 50.0; hours with big salary 31.3\n",
      "country: India; hours with little salary: 46.475; hours with big salary 38.233333333333334\n",
      "country: Iran; hours with little salary: 47.5; hours with big salary 41.44\n",
      "country: Ireland; hours with little salary: 48.0; hours with big salary 40.94736842105263\n",
      "country: Italy; hours with little salary: 45.4; hours with big salary 39.625\n",
      "country: Jamaica; hours with little salary: 41.1; hours with big salary 38.23943661971831\n",
      "country: Japan; hours with little salary: 47.958333333333336; hours with big salary 41.0\n",
      "country: Laos; hours with little salary: 40.0; hours with big salary 40.375\n",
      "country: Mexico; hours with little salary: 46.57575757575758; hours with big salary 40.00327868852459\n",
      "country: Nicaragua; hours with little salary: 37.5; hours with big salary 36.09375\n",
      "country: Peru; hours with little salary: 40.0; hours with big salary 35.06896551724138\n",
      "country: Philippines; hours with little salary: 43.032786885245905; hours with big salary 38.065693430656935\n",
      "country: Poland; hours with little salary: 39.0; hours with big salary 38.166666666666664\n",
      "country: Portugal; hours with little salary: 41.5; hours with big salary 41.93939393939394\n",
      "country: Puerto-Rico; hours with little salary: 39.416666666666664; hours with big salary 38.470588235294116\n",
      "country: Scotland; hours with little salary: 46.666666666666664; hours with big salary 39.44444444444444\n",
      "country: South; hours with little salary: 51.4375; hours with big salary 40.15625\n",
      "country: Taiwan; hours with little salary: 46.8; hours with big salary 33.774193548387096\n",
      "country: Thailand; hours with little salary: 58.333333333333336; hours with big salary 42.86666666666667\n",
      "country: Trinadad&Tobago; hours with little salary: 40.0; hours with big salary 37.05882352941177\n",
      "country: United-States; hours with little salary: 45.50536884674383; hours with big salary 38.79912723305605\n",
      "country: Vietnam; hours with little salary: 39.2; hours with big salary 37.193548387096776\n",
      "country: Yugoslavia; hours with little salary: 49.5; hours with big salary 41.6\n"
     ]
    }
   ],
   "source": [
    "less_50 = data[data['salary'] == '>50K']\n",
    "more_50 = data[data['salary'] == '<=50K']\n",
    "\n",
    "less_50_group = less_50.groupby('native-country')['hours-per-week'].mean()\n",
    "more_50_group = more_50.groupby('native-country')['hours-per-week'].mean()\n",
    "\n",
    "for i in gg.keys():\n",
    "    print('country: {}; hours with little salary: {}; hours with big salary {}'.format(i, less_50_group[i], more_50_group[i]))"
   ]
  },
  {
   "cell_type": "code",
   "execution_count": 69,
   "metadata": {},
   "outputs": [
    {
     "name": "stdout",
     "output_type": "stream",
     "text": [
      "for Japan: hours with little salary: 47.958333333333336; hours with big salary 41.0\n"
     ]
    }
   ],
   "source": [
    "print('for Japan: hours with little salary: {}; hours with big salary {}'.format(less_50_group['Japan'], more_50_group['Japan']))"
   ]
  },
  {
   "cell_type": "markdown",
   "metadata": {},
   "source": [
    "Part 2"
   ]
  },
  {
   "cell_type": "code",
   "execution_count": 1,
   "metadata": {},
   "outputs": [],
   "source": [
    "import pandas as pd\n",
    "import pandasql as ps\n",
    "from datetime import datetime"
   ]
  },
  {
   "cell_type": "code",
   "execution_count": 2,
   "metadata": {},
   "outputs": [
    {
     "name": "stdout",
     "output_type": "stream",
     "text": [
      "  Retail Branding Marketing Name    Device                      Model\n",
      "0             NaN            NaN    AD681H  Smartfren Andromax AD681H\n",
      "1             NaN            NaN     FJL21                      FJL21\n",
      "2             NaN            NaN       T31              Panasonic T31\n",
      "3             NaN            NaN  hws7721g         MediaPad 7 Youth 2\n",
      "4              3Q        OC1020A   OC1020A                    OC1020A\n",
      "\n",
      "   use_id  user_id platform  platform_version     device  use_type_id\n",
      "0   22782    26980      ios              10.2  iPhone7,2            2\n",
      "1   22783    29628  android               6.0    Nexus 5            3\n",
      "2   22784    28473  android               5.1   SM-G903F            1\n",
      "3   22785    15200      ios              10.2  iPhone7,2            3\n",
      "4   22786    28239  android               6.0  ONE E1003            1\n",
      "\n",
      "   outgoing_mins_per_month  outgoing_sms_per_month  monthly_mb  use_id\n",
      "0                    21.97                    4.82     1557.33   22787\n",
      "1                  1710.08                  136.88     7267.55   22788\n",
      "2                  1710.08                  136.88     7267.55   22789\n",
      "3                    94.46                   35.17      519.12   22790\n",
      "4                    71.59                   79.26     1557.33   22792\n"
     ]
    }
   ],
   "source": [
    "android_devices = pd.read_csv('android_devices.csv')\n",
    "user_device = pd.read_csv('user_device.csv')\n",
    "user_usage = pd.read_csv('user_usage.csv')\n",
    "print(android_devices.head())\n",
    "print()\n",
    "print(user_device.head())\n",
    "print()\n",
    "print(user_usage.head())"
   ]
  },
  {
   "cell_type": "code",
   "execution_count": 3,
   "metadata": {},
   "outputs": [],
   "source": [
    "def query_duration_decorator(function_to_decorate):\n",
    "    def qeury_duration(user_usage=None, user_device=None):\n",
    "        start_time = datetime.now()\n",
    "        \n",
    "        if (user_usage is not None and user_device is not None):\n",
    "            print(function_to_decorate(user_usage, user_device).head())\n",
    "        else:\n",
    "            print(function_to_decorate().head())\n",
    "            \n",
    "        end_time = datetime.now()\n",
    "        print('Duration = {}'.format(end_time - start_time))\n",
    "    return qeury_duration\n",
    "\n",
    "#join pandasql\n",
    "@query_duration_decorator\n",
    "def pandasql_join(user_usage, user_device):\n",
    "    join_query_ps = '''\n",
    "            SELECT\n",
    "                *\n",
    "            FROM user_device\n",
    "            INNER JOIN user_usage on user_usage.use_id = user_device.use_id\n",
    "            '''\n",
    "    return ps.sqldf(join_query_ps, locals())\n",
    "\n",
    "#group pandasql\n",
    "@query_duration_decorator\n",
    "def pandasql_group(user_usage, user_device):\n",
    "    group_query_ps = '''\n",
    "            SELECT\n",
    "                user_device.device,\n",
    "                AVG(monthly_mb)\n",
    "            FROM user_device\n",
    "            JOIN user_usage on user_usage.use_id = user_device.use_id\n",
    "            GROUP BY user_device.device\n",
    "            '''\n",
    "    return ps.sqldf(group_query_ps, locals())\n",
    "\n",
    "#join pandas\n",
    "@query_duration_decorator\n",
    "def pandas_join():\n",
    "    return user_device.merge(user_usage, how='inner', on='use_id')\n",
    "\n",
    "#group pandas\n",
    "@query_duration_decorator\n",
    "def pandas_group():\n",
    "    return user_device.merge(user_usage, how='inner', on='use_id').groupby('device').monthly_mb.mean()"
   ]
  },
  {
   "cell_type": "code",
   "execution_count": 4,
   "metadata": {},
   "outputs": [
    {
     "name": "stdout",
     "output_type": "stream",
     "text": [
      "   use_id  user_id platform  platform_version    device  use_type_id  \\\n",
      "0   22787    12921  android               4.3  GT-I9505            1   \n",
      "1   22788    28714  android               6.0  SM-G930F            1   \n",
      "2   22789    28714  android               6.0  SM-G930F            1   \n",
      "3   22790    29592  android               5.1     D2303            1   \n",
      "4   22792    28217  android               5.1  SM-G361F            1   \n",
      "\n",
      "   outgoing_mins_per_month  outgoing_sms_per_month  monthly_mb  use_id  \n",
      "0                    21.97                    4.82     1557.33   22787  \n",
      "1                  1710.08                  136.88     7267.55   22788  \n",
      "2                  1710.08                  136.88     7267.55   22789  \n",
      "3                    94.46                   35.17      519.12   22790  \n",
      "4                    71.59                   79.26     1557.33   22792  \n",
      "Duration = 0:00:00.045000\n"
     ]
    }
   ],
   "source": [
    "pandasql_join(user_usage, user_device)"
   ]
  },
  {
   "cell_type": "code",
   "execution_count": 5,
   "metadata": {},
   "outputs": [
    {
     "name": "stdout",
     "output_type": "stream",
     "text": [
      "  device  AVG(monthly_mb)\n",
      "0  A0001         15573.33\n",
      "1  C6603          1557.33\n",
      "2  D2303           519.12\n",
      "3  D5503          1557.33\n",
      "4  D5803          1557.33\n",
      "Duration = 0:00:00.022035\n"
     ]
    }
   ],
   "source": [
    "pandasql_group(user_usage, user_device)"
   ]
  },
  {
   "cell_type": "code",
   "execution_count": 6,
   "metadata": {},
   "outputs": [
    {
     "name": "stdout",
     "output_type": "stream",
     "text": [
      "   use_id  user_id platform  platform_version    device  use_type_id  \\\n",
      "0   22787    12921  android               4.3  GT-I9505            1   \n",
      "1   22788    28714  android               6.0  SM-G930F            1   \n",
      "2   22789    28714  android               6.0  SM-G930F            1   \n",
      "3   22790    29592  android               5.1     D2303            1   \n",
      "4   22792    28217  android               5.1  SM-G361F            1   \n",
      "\n",
      "   outgoing_mins_per_month  outgoing_sms_per_month  monthly_mb  \n",
      "0                    21.97                    4.82     1557.33  \n",
      "1                  1710.08                  136.88     7267.55  \n",
      "2                  1710.08                  136.88     7267.55  \n",
      "3                    94.46                   35.17      519.12  \n",
      "4                    71.59                   79.26     1557.33  \n",
      "Duration = 0:00:00.018010\n"
     ]
    }
   ],
   "source": [
    "pandas_join()"
   ]
  },
  {
   "cell_type": "code",
   "execution_count": 7,
   "metadata": {},
   "outputs": [
    {
     "name": "stdout",
     "output_type": "stream",
     "text": [
      "device\n",
      "A0001    15573.33\n",
      "C6603     1557.33\n",
      "D2303      519.12\n",
      "D5503     1557.33\n",
      "D5803     1557.33\n",
      "Name: monthly_mb, dtype: float64\n",
      "Duration = 0:00:00.010999\n"
     ]
    }
   ],
   "source": [
    "pandas_group()"
   ]
  },
  {
   "cell_type": "markdown",
   "metadata": {},
   "source": [
    "As we can see queries with pandas faster than with pandasql"
   ]
  },
  {
   "cell_type": "code",
   "execution_count": null,
   "metadata": {},
   "outputs": [],
   "source": []
  }
 ],
 "metadata": {
  "authors": [
   {
    "name": "Бабин Виктор Евгеньевич"
   }
  ],
  "group": "ИУ5-22М",
  "kernelspec": {
   "display_name": "Python 3",
   "language": "python",
   "name": "python3"
  },
  "lab_number": 1,
  "language_info": {
   "codemirror_mode": {
    "name": "ipython",
    "version": 3
   },
   "file_extension": ".py",
   "mimetype": "text/x-python",
   "name": "python",
   "nbconvert_exporter": "python",
   "pygments_lexer": "ipython3",
   "version": "3.6.8"
  },
  "title": "Разведочный анализ данных. Исследование и визуализация данных"
 },
 "nbformat": 4,
 "nbformat_minor": 4
}
