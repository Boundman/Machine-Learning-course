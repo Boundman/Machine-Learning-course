{
  "nbformat": 4,
  "nbformat_minor": 0,
  "metadata": {
    "colab": {
      "name": "lab6.ipynb",
      "provenance": []
    },
    "kernelspec": {
      "name": "python3",
      "display_name": "Python 3"
    },
    "accelerator": "GPU"
  },
  "cells": [
    {
      "cell_type": "code",
      "metadata": {
        "id": "UzX6jn7SSu2A",
        "colab_type": "code",
        "colab": {
          "base_uri": "https://localhost:8080/",
          "height": 215
        },
        "outputId": "a3d30a9e-2a41-4be2-e5bb-fbb98787d5e8"
      },
      "source": [
        "import pandas as pd\n",
        "import numpy as np\n",
        "import io\n",
        "import requests\n",
        "from sklearn.impute import SimpleImputer\n",
        "\n",
        "\n",
        "# mushrooms dataset\n",
        "url = \"https://www.wolframcloud.com/obj/d0c0084e-0b60-46db-a4d9-beb33412905e\"\n",
        "s = requests.get(url).content\n",
        "data = pd.read_csv(io.StringIO(s.decode('utf-8')))\n",
        "data.head()"
      ],
      "execution_count": 1,
      "outputs": [
        {
          "output_type": "execute_result",
          "data": {
            "text/html": [
              "<div>\n",
              "<style scoped>\n",
              "    .dataframe tbody tr th:only-of-type {\n",
              "        vertical-align: middle;\n",
              "    }\n",
              "\n",
              "    .dataframe tbody tr th {\n",
              "        vertical-align: top;\n",
              "    }\n",
              "\n",
              "    .dataframe thead th {\n",
              "        text-align: right;\n",
              "    }\n",
              "</style>\n",
              "<table border=\"1\" class=\"dataframe\">\n",
              "  <thead>\n",
              "    <tr style=\"text-align: right;\">\n",
              "      <th></th>\n",
              "      <th>CapShape</th>\n",
              "      <th>CapSurface</th>\n",
              "      <th>CapColor</th>\n",
              "      <th>Bruises</th>\n",
              "      <th>Odor</th>\n",
              "      <th>GillAttachment</th>\n",
              "      <th>GillSpacing</th>\n",
              "      <th>GillSize</th>\n",
              "      <th>GillColor</th>\n",
              "      <th>StalkShape</th>\n",
              "      <th>StalkRoot</th>\n",
              "      <th>StalkSurfaceAboveRing</th>\n",
              "      <th>StalkSurfaceBelowRing</th>\n",
              "      <th>StalkColorAboveRing</th>\n",
              "      <th>StalkColorBelowRing</th>\n",
              "      <th>VeilType</th>\n",
              "      <th>VeilColor</th>\n",
              "      <th>RingNumber</th>\n",
              "      <th>RingType</th>\n",
              "      <th>SporePrintColor</th>\n",
              "      <th>Population</th>\n",
              "      <th>Habitat</th>\n",
              "      <th>Class</th>\n",
              "    </tr>\n",
              "  </thead>\n",
              "  <tbody>\n",
              "    <tr>\n",
              "      <th>0</th>\n",
              "      <td>convex</td>\n",
              "      <td>smooth</td>\n",
              "      <td>brown</td>\n",
              "      <td>True</td>\n",
              "      <td>pungent</td>\n",
              "      <td>free</td>\n",
              "      <td>close</td>\n",
              "      <td>narrow</td>\n",
              "      <td>black</td>\n",
              "      <td>enlarging</td>\n",
              "      <td>equal</td>\n",
              "      <td>smooth</td>\n",
              "      <td>smooth</td>\n",
              "      <td>white</td>\n",
              "      <td>white</td>\n",
              "      <td>partial</td>\n",
              "      <td>white</td>\n",
              "      <td>1</td>\n",
              "      <td>pendant</td>\n",
              "      <td>black</td>\n",
              "      <td>scattered</td>\n",
              "      <td>urban</td>\n",
              "      <td>poisonous</td>\n",
              "    </tr>\n",
              "    <tr>\n",
              "      <th>1</th>\n",
              "      <td>convex</td>\n",
              "      <td>smooth</td>\n",
              "      <td>yellow</td>\n",
              "      <td>True</td>\n",
              "      <td>almond</td>\n",
              "      <td>free</td>\n",
              "      <td>close</td>\n",
              "      <td>broad</td>\n",
              "      <td>black</td>\n",
              "      <td>enlarging</td>\n",
              "      <td>club</td>\n",
              "      <td>smooth</td>\n",
              "      <td>smooth</td>\n",
              "      <td>white</td>\n",
              "      <td>white</td>\n",
              "      <td>partial</td>\n",
              "      <td>white</td>\n",
              "      <td>1</td>\n",
              "      <td>pendant</td>\n",
              "      <td>brown</td>\n",
              "      <td>numerous</td>\n",
              "      <td>grasses</td>\n",
              "      <td>edible</td>\n",
              "    </tr>\n",
              "    <tr>\n",
              "      <th>2</th>\n",
              "      <td>bell</td>\n",
              "      <td>smooth</td>\n",
              "      <td>white</td>\n",
              "      <td>True</td>\n",
              "      <td>anise</td>\n",
              "      <td>free</td>\n",
              "      <td>close</td>\n",
              "      <td>broad</td>\n",
              "      <td>brown</td>\n",
              "      <td>enlarging</td>\n",
              "      <td>club</td>\n",
              "      <td>smooth</td>\n",
              "      <td>smooth</td>\n",
              "      <td>white</td>\n",
              "      <td>white</td>\n",
              "      <td>partial</td>\n",
              "      <td>white</td>\n",
              "      <td>1</td>\n",
              "      <td>pendant</td>\n",
              "      <td>brown</td>\n",
              "      <td>numerous</td>\n",
              "      <td>meadows</td>\n",
              "      <td>edible</td>\n",
              "    </tr>\n",
              "    <tr>\n",
              "      <th>3</th>\n",
              "      <td>convex</td>\n",
              "      <td>scaly</td>\n",
              "      <td>white</td>\n",
              "      <td>True</td>\n",
              "      <td>pungent</td>\n",
              "      <td>free</td>\n",
              "      <td>close</td>\n",
              "      <td>narrow</td>\n",
              "      <td>brown</td>\n",
              "      <td>enlarging</td>\n",
              "      <td>equal</td>\n",
              "      <td>smooth</td>\n",
              "      <td>smooth</td>\n",
              "      <td>white</td>\n",
              "      <td>white</td>\n",
              "      <td>partial</td>\n",
              "      <td>white</td>\n",
              "      <td>1</td>\n",
              "      <td>pendant</td>\n",
              "      <td>black</td>\n",
              "      <td>scattered</td>\n",
              "      <td>urban</td>\n",
              "      <td>poisonous</td>\n",
              "    </tr>\n",
              "    <tr>\n",
              "      <th>4</th>\n",
              "      <td>convex</td>\n",
              "      <td>smooth</td>\n",
              "      <td>gray</td>\n",
              "      <td>False</td>\n",
              "      <td>none</td>\n",
              "      <td>free</td>\n",
              "      <td>crowded</td>\n",
              "      <td>broad</td>\n",
              "      <td>black</td>\n",
              "      <td>tapering</td>\n",
              "      <td>equal</td>\n",
              "      <td>smooth</td>\n",
              "      <td>smooth</td>\n",
              "      <td>white</td>\n",
              "      <td>white</td>\n",
              "      <td>partial</td>\n",
              "      <td>white</td>\n",
              "      <td>1</td>\n",
              "      <td>evanescent</td>\n",
              "      <td>brown</td>\n",
              "      <td>abundant</td>\n",
              "      <td>grasses</td>\n",
              "      <td>edible</td>\n",
              "    </tr>\n",
              "  </tbody>\n",
              "</table>\n",
              "</div>"
            ],
            "text/plain": [
              "  CapShape CapSurface CapColor  ...  Population  Habitat      Class\n",
              "0   convex     smooth    brown  ...   scattered    urban  poisonous\n",
              "1   convex     smooth   yellow  ...    numerous  grasses     edible\n",
              "2     bell     smooth    white  ...    numerous  meadows     edible\n",
              "3   convex      scaly    white  ...   scattered    urban  poisonous\n",
              "4   convex     smooth     gray  ...    abundant  grasses     edible\n",
              "\n",
              "[5 rows x 23 columns]"
            ]
          },
          "metadata": {
            "tags": []
          },
          "execution_count": 1
        }
      ]
    },
    {
      "cell_type": "markdown",
      "metadata": {
        "id": "ZfXgLaiNS8vu",
        "colab_type": "text"
      },
      "source": [
        "**Подготовка набора данных**\n",
        "\n",
        "**Dataset preparation**"
      ]
    },
    {
      "cell_type": "code",
      "metadata": {
        "id": "e26VUteHTCXt",
        "colab_type": "code",
        "colab": {
          "base_uri": "https://localhost:8080/",
          "height": 521
        },
        "outputId": "a58b04f3-abbe-4c1c-8531-7cdff0fc735a"
      },
      "source": [
        "rows, columns = data.shape\n",
        "print('rows = {}; columns = {}'.format(rows, columns), '\\n\\n')\n",
        "\n",
        "# go through each dataset column and check unique values to find empty one (like NaN or Missing[])\n",
        "for col in data.columns:\n",
        "  print('{}: {}'.format(col, data[col].unique()))"
      ],
      "execution_count": 2,
      "outputs": [
        {
          "output_type": "stream",
          "text": [
            "rows = 8124; columns = 23 \n",
            "\n",
            "\n",
            "CapShape: ['convex' 'bell' 'sunken' 'flat' 'knobbed' 'conical']\n",
            "CapSurface: ['smooth' 'scaly' 'fibrous' 'grooves']\n",
            "CapColor: ['brown' 'yellow' 'white' 'gray' 'red' 'pink' 'buff' 'purple' 'cinnamon'\n",
            " 'green']\n",
            "Bruises: [ True False]\n",
            "Odor: ['pungent' 'almond' 'anise' 'none' 'foul' 'creosote' 'fishy' 'spicy'\n",
            " 'musty']\n",
            "GillAttachment: ['free' 'attached']\n",
            "GillSpacing: ['close' 'crowded']\n",
            "GillSize: ['narrow' 'broad']\n",
            "GillColor: ['black' 'brown' 'gray' 'pink' 'white' 'chocolate' 'purple' 'red' 'buff'\n",
            " 'green' 'yellow' 'orange']\n",
            "StalkShape: ['enlarging' 'tapering']\n",
            "StalkRoot: ['equal' 'club' 'bulbous' 'rooted' 'Missing[]']\n",
            "StalkSurfaceAboveRing: ['smooth' 'fibrous' 'silky' 'scaly']\n",
            "StalkSurfaceBelowRing: ['smooth' 'fibrous' 'scaly' 'silky']\n",
            "StalkColorAboveRing: ['white' 'gray' 'pink' 'brown' 'buff' 'red' 'orange' 'cinnamon' 'yellow']\n",
            "StalkColorBelowRing: ['white' 'pink' 'gray' 'buff' 'brown' 'red' 'yellow' 'orange' 'cinnamon']\n",
            "VeilType: ['partial']\n",
            "VeilColor: ['white' 'brown' 'orange' 'yellow']\n",
            "RingNumber: [1 2 0]\n",
            "RingType: ['pendant' 'evanescent' 'large' 'flaring' 'none']\n",
            "SporePrintColor: ['black' 'brown' 'purple' 'chocolate' 'white' 'green' 'orange' 'yellow'\n",
            " 'buff']\n",
            "Population: ['scattered' 'numerous' 'abundant' 'several' 'solitary' 'clustered']\n",
            "Habitat: ['urban' 'grasses' 'meadows' 'woods' 'paths' 'waste' 'leaves']\n",
            "Class: ['poisonous' 'edible']\n"
          ],
          "name": "stdout"
        }
      ]
    },
    {
      "cell_type": "code",
      "metadata": {
        "id": "JSSXQw0-TFB0",
        "colab_type": "code",
        "colab": {
          "base_uri": "https://localhost:8080/",
          "height": 87
        },
        "outputId": "59588dfc-87d5-4848-95b8-d6aeab47d48f"
      },
      "source": [
        "\"\"\"\n",
        "on initial viewing it seems that we have single column\n",
        "with absence of values in rows: this column is StalkRoot and\n",
        "absence of values is indicated like Missing[]\n",
        "\"\"\"\n",
        "\n",
        "# Take a look at columns more precisely to ensure that this column is single with absence of values\n",
        "for col in data.columns:\n",
        "    # Missing[] amount \n",
        "    temp_null_count = data[data[col] == 'Missing[]'].shape[0]\n",
        "    dt = str(data[col].dtype)\n",
        "    if temp_null_count>0 and (dt=='object'):\n",
        "        temp_perc = round((temp_null_count / rows) * 100.0, 2)\n",
        "        print('Column {}. Data type {}. amount of Missing[] values {}, {}%.'.format(col, dt, temp_null_count, temp_perc))"
      ],
      "execution_count": 3,
      "outputs": [
        {
          "output_type": "stream",
          "text": [
            "Column StalkRoot. Data type object. amount of Missing[] values 2480, 30.53%.\n"
          ],
          "name": "stdout"
        },
        {
          "output_type": "stream",
          "text": [
            "/usr/local/lib/python3.6/dist-packages/pandas/core/ops/array_ops.py:253: FutureWarning: elementwise comparison failed; returning scalar instead, but in the future will perform elementwise comparison\n",
            "  res_values = method(rvalues)\n"
          ],
          "name": "stderr"
        }
      ]
    },
    {
      "cell_type": "code",
      "metadata": {
        "id": "3ZvI1kZ5TFOK",
        "colab_type": "code",
        "colab": {
          "base_uri": "https://localhost:8080/",
          "height": 34
        },
        "outputId": "c407ffd0-6764-418e-c698-b641e673e464"
      },
      "source": [
        "data['StalkRoot'].unique()"
      ],
      "execution_count": 4,
      "outputs": [
        {
          "output_type": "execute_result",
          "data": {
            "text/plain": [
              "array(['equal', 'club', 'bulbous', 'rooted', 'Missing[]'], dtype=object)"
            ]
          },
          "metadata": {
            "tags": []
          },
          "execution_count": 4
        }
      ]
    },
    {
      "cell_type": "code",
      "metadata": {
        "id": "NuIKM9OOTFQz",
        "colab_type": "code",
        "colab": {
          "base_uri": "https://localhost:8080/",
          "height": 34
        },
        "outputId": "d7de5756-bfda-471f-bcef-6808b9d302dd"
      },
      "source": [
        "# impute data with most frequent values\n",
        "imputation = SimpleImputer(missing_values='Missing[]', strategy='most_frequent')\n",
        "data_imputed = imputation.fit_transform(data[['StalkRoot']])\n",
        "np.unique(data_imputed)"
      ],
      "execution_count": 5,
      "outputs": [
        {
          "output_type": "execute_result",
          "data": {
            "text/plain": [
              "array(['bulbous', 'club', 'equal', 'rooted'], dtype=object)"
            ]
          },
          "metadata": {
            "tags": []
          },
          "execution_count": 5
        }
      ]
    },
    {
      "cell_type": "code",
      "metadata": {
        "id": "lT46jl9VTJDw",
        "colab_type": "code",
        "colab": {
          "base_uri": "https://localhost:8080/",
          "height": 118
        },
        "outputId": "c8256115-6f83-4251-e4d8-3106c7b06921"
      },
      "source": [
        "# put imputed data in our dataset\n",
        "for i in range(rows):\n",
        "  data['StalkRoot'][i] = data_imputed[i][0]\n",
        "data['StalkRoot'].unique()"
      ],
      "execution_count": 6,
      "outputs": [
        {
          "output_type": "stream",
          "text": [
            "/usr/local/lib/python3.6/dist-packages/ipykernel_launcher.py:3: SettingWithCopyWarning: \n",
            "A value is trying to be set on a copy of a slice from a DataFrame\n",
            "\n",
            "See the caveats in the documentation: https://pandas.pydata.org/pandas-docs/stable/user_guide/indexing.html#returning-a-view-versus-a-copy\n",
            "  This is separate from the ipykernel package so we can avoid doing imports until\n"
          ],
          "name": "stderr"
        },
        {
          "output_type": "execute_result",
          "data": {
            "text/plain": [
              "array(['equal', 'club', 'bulbous', 'rooted'], dtype=object)"
            ]
          },
          "metadata": {
            "tags": []
          },
          "execution_count": 6
        }
      ]
    },
    {
      "cell_type": "code",
      "metadata": {
        "id": "JvJ7ygc8TJGf",
        "colab_type": "code",
        "colab": {
          "base_uri": "https://localhost:8080/",
          "height": 403
        },
        "outputId": "e4d2ff6d-98fe-4c37-c6df-8fd98faf6a99"
      },
      "source": [
        "# now we`ll transform categorical columns to columns with values in [0, 1]\n",
        "object_columns = []\n",
        "\n",
        "# initially, find amount of unique values for each column\n",
        "# and add categorical columns to object_columns\n",
        "for column in data.columns:\n",
        "    dt = str(data[column].dtype)\n",
        "    amount_unique = len(pd.unique(data[column]))\n",
        "    print('{}: {}, {}'.format(column, amount_unique, dt))\n",
        "    if dt == 'object':\n",
        "        object_columns.append({'column': column, 'amount': amount_unique})"
      ],
      "execution_count": 7,
      "outputs": [
        {
          "output_type": "stream",
          "text": [
            "CapShape: 6, object\n",
            "CapSurface: 4, object\n",
            "CapColor: 10, object\n",
            "Bruises: 2, bool\n",
            "Odor: 9, object\n",
            "GillAttachment: 2, object\n",
            "GillSpacing: 2, object\n",
            "GillSize: 2, object\n",
            "GillColor: 12, object\n",
            "StalkShape: 2, object\n",
            "StalkRoot: 4, object\n",
            "StalkSurfaceAboveRing: 4, object\n",
            "StalkSurfaceBelowRing: 4, object\n",
            "StalkColorAboveRing: 9, object\n",
            "StalkColorBelowRing: 9, object\n",
            "VeilType: 1, object\n",
            "VeilColor: 4, object\n",
            "RingNumber: 3, int64\n",
            "RingType: 5, object\n",
            "SporePrintColor: 9, object\n",
            "Population: 6, object\n",
            "Habitat: 7, object\n",
            "Class: 2, object\n"
          ],
          "name": "stdout"
        }
      ]
    },
    {
      "cell_type": "code",
      "metadata": {
        "id": "N3848-VjTLbq",
        "colab_type": "code",
        "colab": {}
      },
      "source": [
        "from sklearn.preprocessing import OneHotEncoder\n",
        "ohe = OneHotEncoder()"
      ],
      "execution_count": 0,
      "outputs": []
    },
    {
      "cell_type": "code",
      "metadata": {
        "id": "cirHF-1WTNy7",
        "colab_type": "code",
        "colab": {}
      },
      "source": [
        "\"\"\"\n",
        "after oneHot encoding for single value we`ll have something like this [0.0, 1.0, 0.0, 0.0, ...]\n",
        "but we need to have just a number - so this function will normalize it with next formula:\n",
        "norm_val = (N - i) / N, where\n",
        "N - amount of unique values for our column\n",
        "i - index of 1.0 in values [0.0, 1.0, 0.0, 0.0, ...] before normalizing\n",
        "so for example if we`ll have 10 different values - then in normalized view it will variating\n",
        "from 0.1 (if index = 9) to 1.0 (if index = 0)\n",
        "\"\"\"\n",
        "def from_bytes_to_num(col_in_arr, uniquie_amount):\n",
        "    normalized_col = []\n",
        "    for value in col_in_arr:\n",
        "        normalized_value = (uniquie_amount - np.where(value == 1.0)[0][0]) / uniquie_amount\n",
        "        normalized_col.append(float(\"{0:.4f}\".format(normalized_value))) # digits after float point\n",
        "    return normalized_col\n",
        "\n",
        "\n",
        "normalized_data = []\n",
        "for col in object_columns:\n",
        "    uniquie_amount = col['amount']\n",
        "    col_name = col['column']\n",
        "\n",
        "    #encode with oneHot\n",
        "    column_after_encoding = ohe.fit_transform(data[[col_name]])\n",
        "\n",
        "    #fetch it to array\n",
        "    col_in_arr = column_after_encoding.toarray()\n",
        "\n",
        "    #normilizing column values\n",
        "    normalized_col = from_bytes_to_num(col_in_arr, uniquie_amount)\n",
        "\n",
        "    normalized_data.append({'column': col_name, 'data': normalized_col})"
      ],
      "execution_count": 0,
      "outputs": []
    },
    {
      "cell_type": "code",
      "metadata": {
        "id": "7xCAJOR_TPgR",
        "colab_type": "code",
        "colab": {
          "base_uri": "https://localhost:8080/",
          "height": 422
        },
        "outputId": "29a7eea2-892b-48f1-c7e3-b40d9a12a657"
      },
      "source": [
        "#set normalized values for general dataset\n",
        "for col in normalized_data:\n",
        "    col_in_dataFrame = pd.DataFrame(data={col['column']: col['data']})\n",
        "    data[col['column']] = col_in_dataFrame\n",
        "\n",
        "data"
      ],
      "execution_count": 10,
      "outputs": [
        {
          "output_type": "execute_result",
          "data": {
            "text/html": [
              "<div>\n",
              "<style scoped>\n",
              "    .dataframe tbody tr th:only-of-type {\n",
              "        vertical-align: middle;\n",
              "    }\n",
              "\n",
              "    .dataframe tbody tr th {\n",
              "        vertical-align: top;\n",
              "    }\n",
              "\n",
              "    .dataframe thead th {\n",
              "        text-align: right;\n",
              "    }\n",
              "</style>\n",
              "<table border=\"1\" class=\"dataframe\">\n",
              "  <thead>\n",
              "    <tr style=\"text-align: right;\">\n",
              "      <th></th>\n",
              "      <th>CapShape</th>\n",
              "      <th>CapSurface</th>\n",
              "      <th>CapColor</th>\n",
              "      <th>Bruises</th>\n",
              "      <th>Odor</th>\n",
              "      <th>GillAttachment</th>\n",
              "      <th>GillSpacing</th>\n",
              "      <th>GillSize</th>\n",
              "      <th>GillColor</th>\n",
              "      <th>StalkShape</th>\n",
              "      <th>StalkRoot</th>\n",
              "      <th>StalkSurfaceAboveRing</th>\n",
              "      <th>StalkSurfaceBelowRing</th>\n",
              "      <th>StalkColorAboveRing</th>\n",
              "      <th>StalkColorBelowRing</th>\n",
              "      <th>VeilType</th>\n",
              "      <th>VeilColor</th>\n",
              "      <th>RingNumber</th>\n",
              "      <th>RingType</th>\n",
              "      <th>SporePrintColor</th>\n",
              "      <th>Population</th>\n",
              "      <th>Habitat</th>\n",
              "      <th>Class</th>\n",
              "    </tr>\n",
              "  </thead>\n",
              "  <tbody>\n",
              "    <tr>\n",
              "      <th>0</th>\n",
              "      <td>0.6667</td>\n",
              "      <td>0.25</td>\n",
              "      <td>1.0</td>\n",
              "      <td>True</td>\n",
              "      <td>0.2222</td>\n",
              "      <td>0.5</td>\n",
              "      <td>1.0</td>\n",
              "      <td>0.5</td>\n",
              "      <td>1.0000</td>\n",
              "      <td>1.0</td>\n",
              "      <td>0.50</td>\n",
              "      <td>0.25</td>\n",
              "      <td>0.25</td>\n",
              "      <td>0.2222</td>\n",
              "      <td>0.2222</td>\n",
              "      <td>1.0</td>\n",
              "      <td>0.50</td>\n",
              "      <td>1</td>\n",
              "      <td>0.2</td>\n",
              "      <td>1.0000</td>\n",
              "      <td>0.5000</td>\n",
              "      <td>0.4286</td>\n",
              "      <td>0.5</td>\n",
              "    </tr>\n",
              "    <tr>\n",
              "      <th>1</th>\n",
              "      <td>0.6667</td>\n",
              "      <td>0.25</td>\n",
              "      <td>0.1</td>\n",
              "      <td>True</td>\n",
              "      <td>1.0000</td>\n",
              "      <td>0.5</td>\n",
              "      <td>1.0</td>\n",
              "      <td>1.0</td>\n",
              "      <td>1.0000</td>\n",
              "      <td>1.0</td>\n",
              "      <td>0.75</td>\n",
              "      <td>0.25</td>\n",
              "      <td>0.25</td>\n",
              "      <td>0.2222</td>\n",
              "      <td>0.2222</td>\n",
              "      <td>1.0</td>\n",
              "      <td>0.50</td>\n",
              "      <td>1</td>\n",
              "      <td>0.2</td>\n",
              "      <td>0.8889</td>\n",
              "      <td>0.6667</td>\n",
              "      <td>1.0000</td>\n",
              "      <td>1.0</td>\n",
              "    </tr>\n",
              "    <tr>\n",
              "      <th>2</th>\n",
              "      <td>1.0000</td>\n",
              "      <td>0.25</td>\n",
              "      <td>0.2</td>\n",
              "      <td>True</td>\n",
              "      <td>0.8889</td>\n",
              "      <td>0.5</td>\n",
              "      <td>1.0</td>\n",
              "      <td>1.0</td>\n",
              "      <td>0.9167</td>\n",
              "      <td>1.0</td>\n",
              "      <td>0.75</td>\n",
              "      <td>0.25</td>\n",
              "      <td>0.25</td>\n",
              "      <td>0.2222</td>\n",
              "      <td>0.2222</td>\n",
              "      <td>1.0</td>\n",
              "      <td>0.50</td>\n",
              "      <td>1</td>\n",
              "      <td>0.2</td>\n",
              "      <td>0.8889</td>\n",
              "      <td>0.6667</td>\n",
              "      <td>0.7143</td>\n",
              "      <td>1.0</td>\n",
              "    </tr>\n",
              "    <tr>\n",
              "      <th>3</th>\n",
              "      <td>0.6667</td>\n",
              "      <td>0.50</td>\n",
              "      <td>0.2</td>\n",
              "      <td>True</td>\n",
              "      <td>0.2222</td>\n",
              "      <td>0.5</td>\n",
              "      <td>1.0</td>\n",
              "      <td>0.5</td>\n",
              "      <td>0.9167</td>\n",
              "      <td>1.0</td>\n",
              "      <td>0.50</td>\n",
              "      <td>0.25</td>\n",
              "      <td>0.25</td>\n",
              "      <td>0.2222</td>\n",
              "      <td>0.2222</td>\n",
              "      <td>1.0</td>\n",
              "      <td>0.50</td>\n",
              "      <td>1</td>\n",
              "      <td>0.2</td>\n",
              "      <td>1.0000</td>\n",
              "      <td>0.5000</td>\n",
              "      <td>0.4286</td>\n",
              "      <td>0.5</td>\n",
              "    </tr>\n",
              "    <tr>\n",
              "      <th>4</th>\n",
              "      <td>0.6667</td>\n",
              "      <td>0.25</td>\n",
              "      <td>0.7</td>\n",
              "      <td>False</td>\n",
              "      <td>0.3333</td>\n",
              "      <td>0.5</td>\n",
              "      <td>0.5</td>\n",
              "      <td>1.0</td>\n",
              "      <td>1.0000</td>\n",
              "      <td>0.5</td>\n",
              "      <td>0.50</td>\n",
              "      <td>0.25</td>\n",
              "      <td>0.25</td>\n",
              "      <td>0.2222</td>\n",
              "      <td>0.2222</td>\n",
              "      <td>1.0</td>\n",
              "      <td>0.50</td>\n",
              "      <td>1</td>\n",
              "      <td>1.0</td>\n",
              "      <td>0.8889</td>\n",
              "      <td>1.0000</td>\n",
              "      <td>1.0000</td>\n",
              "      <td>1.0</td>\n",
              "    </tr>\n",
              "    <tr>\n",
              "      <th>...</th>\n",
              "      <td>...</td>\n",
              "      <td>...</td>\n",
              "      <td>...</td>\n",
              "      <td>...</td>\n",
              "      <td>...</td>\n",
              "      <td>...</td>\n",
              "      <td>...</td>\n",
              "      <td>...</td>\n",
              "      <td>...</td>\n",
              "      <td>...</td>\n",
              "      <td>...</td>\n",
              "      <td>...</td>\n",
              "      <td>...</td>\n",
              "      <td>...</td>\n",
              "      <td>...</td>\n",
              "      <td>...</td>\n",
              "      <td>...</td>\n",
              "      <td>...</td>\n",
              "      <td>...</td>\n",
              "      <td>...</td>\n",
              "      <td>...</td>\n",
              "      <td>...</td>\n",
              "      <td>...</td>\n",
              "    </tr>\n",
              "    <tr>\n",
              "      <th>8119</th>\n",
              "      <td>0.3333</td>\n",
              "      <td>0.25</td>\n",
              "      <td>1.0</td>\n",
              "      <td>False</td>\n",
              "      <td>0.3333</td>\n",
              "      <td>1.0</td>\n",
              "      <td>1.0</td>\n",
              "      <td>1.0</td>\n",
              "      <td>0.0833</td>\n",
              "      <td>1.0</td>\n",
              "      <td>1.00</td>\n",
              "      <td>0.25</td>\n",
              "      <td>0.25</td>\n",
              "      <td>0.5556</td>\n",
              "      <td>0.5556</td>\n",
              "      <td>1.0</td>\n",
              "      <td>0.75</td>\n",
              "      <td>1</td>\n",
              "      <td>0.2</td>\n",
              "      <td>0.7778</td>\n",
              "      <td>0.8333</td>\n",
              "      <td>0.8571</td>\n",
              "      <td>1.0</td>\n",
              "    </tr>\n",
              "    <tr>\n",
              "      <th>8120</th>\n",
              "      <td>0.6667</td>\n",
              "      <td>0.25</td>\n",
              "      <td>1.0</td>\n",
              "      <td>False</td>\n",
              "      <td>0.3333</td>\n",
              "      <td>1.0</td>\n",
              "      <td>1.0</td>\n",
              "      <td>1.0</td>\n",
              "      <td>0.0833</td>\n",
              "      <td>1.0</td>\n",
              "      <td>1.00</td>\n",
              "      <td>0.25</td>\n",
              "      <td>0.25</td>\n",
              "      <td>0.5556</td>\n",
              "      <td>0.5556</td>\n",
              "      <td>1.0</td>\n",
              "      <td>1.00</td>\n",
              "      <td>1</td>\n",
              "      <td>0.2</td>\n",
              "      <td>0.7778</td>\n",
              "      <td>0.3333</td>\n",
              "      <td>0.8571</td>\n",
              "      <td>1.0</td>\n",
              "    </tr>\n",
              "    <tr>\n",
              "      <th>8121</th>\n",
              "      <td>0.5000</td>\n",
              "      <td>0.25</td>\n",
              "      <td>1.0</td>\n",
              "      <td>False</td>\n",
              "      <td>0.3333</td>\n",
              "      <td>1.0</td>\n",
              "      <td>1.0</td>\n",
              "      <td>1.0</td>\n",
              "      <td>0.9167</td>\n",
              "      <td>1.0</td>\n",
              "      <td>1.00</td>\n",
              "      <td>0.25</td>\n",
              "      <td>0.25</td>\n",
              "      <td>0.5556</td>\n",
              "      <td>0.5556</td>\n",
              "      <td>1.0</td>\n",
              "      <td>0.75</td>\n",
              "      <td>1</td>\n",
              "      <td>0.2</td>\n",
              "      <td>0.7778</td>\n",
              "      <td>0.8333</td>\n",
              "      <td>0.8571</td>\n",
              "      <td>1.0</td>\n",
              "    </tr>\n",
              "    <tr>\n",
              "      <th>8122</th>\n",
              "      <td>0.3333</td>\n",
              "      <td>0.50</td>\n",
              "      <td>1.0</td>\n",
              "      <td>False</td>\n",
              "      <td>0.6667</td>\n",
              "      <td>0.5</td>\n",
              "      <td>1.0</td>\n",
              "      <td>0.5</td>\n",
              "      <td>0.8333</td>\n",
              "      <td>0.5</td>\n",
              "      <td>1.00</td>\n",
              "      <td>0.25</td>\n",
              "      <td>0.50</td>\n",
              "      <td>0.2222</td>\n",
              "      <td>0.2222</td>\n",
              "      <td>1.0</td>\n",
              "      <td>0.50</td>\n",
              "      <td>1</td>\n",
              "      <td>1.0</td>\n",
              "      <td>0.2222</td>\n",
              "      <td>0.3333</td>\n",
              "      <td>0.8571</td>\n",
              "      <td>0.5</td>\n",
              "    </tr>\n",
              "    <tr>\n",
              "      <th>8123</th>\n",
              "      <td>0.6667</td>\n",
              "      <td>0.25</td>\n",
              "      <td>1.0</td>\n",
              "      <td>False</td>\n",
              "      <td>0.3333</td>\n",
              "      <td>1.0</td>\n",
              "      <td>1.0</td>\n",
              "      <td>1.0</td>\n",
              "      <td>0.0833</td>\n",
              "      <td>1.0</td>\n",
              "      <td>1.00</td>\n",
              "      <td>0.25</td>\n",
              "      <td>0.25</td>\n",
              "      <td>0.5556</td>\n",
              "      <td>0.5556</td>\n",
              "      <td>1.0</td>\n",
              "      <td>0.75</td>\n",
              "      <td>1</td>\n",
              "      <td>0.2</td>\n",
              "      <td>0.4444</td>\n",
              "      <td>0.8333</td>\n",
              "      <td>0.8571</td>\n",
              "      <td>1.0</td>\n",
              "    </tr>\n",
              "  </tbody>\n",
              "</table>\n",
              "<p>8124 rows × 23 columns</p>\n",
              "</div>"
            ],
            "text/plain": [
              "      CapShape  CapSurface  CapColor  ...  Population  Habitat  Class\n",
              "0       0.6667        0.25       1.0  ...      0.5000   0.4286    0.5\n",
              "1       0.6667        0.25       0.1  ...      0.6667   1.0000    1.0\n",
              "2       1.0000        0.25       0.2  ...      0.6667   0.7143    1.0\n",
              "3       0.6667        0.50       0.2  ...      0.5000   0.4286    0.5\n",
              "4       0.6667        0.25       0.7  ...      1.0000   1.0000    1.0\n",
              "...        ...         ...       ...  ...         ...      ...    ...\n",
              "8119    0.3333        0.25       1.0  ...      0.8333   0.8571    1.0\n",
              "8120    0.6667        0.25       1.0  ...      0.3333   0.8571    1.0\n",
              "8121    0.5000        0.25       1.0  ...      0.8333   0.8571    1.0\n",
              "8122    0.3333        0.50       1.0  ...      0.3333   0.8571    0.5\n",
              "8123    0.6667        0.25       1.0  ...      0.8333   0.8571    1.0\n",
              "\n",
              "[8124 rows x 23 columns]"
            ]
          },
          "metadata": {
            "tags": []
          },
          "execution_count": 10
        }
      ]
    },
    {
      "cell_type": "markdown",
      "metadata": {
        "id": "Q9MFmDa_TRkL",
        "colab_type": "text"
      },
      "source": [
        "**Разделение данных**\n",
        "\n",
        "**Data splitting**"
      ]
    },
    {
      "cell_type": "code",
      "metadata": {
        "id": "kD1cTHiwTUcT",
        "colab_type": "code",
        "colab": {
          "base_uri": "https://localhost:8080/",
          "height": 269
        },
        "outputId": "ec3dbc33-7d57-44a3-9374-052d879d7dcb"
      },
      "source": [
        "from sklearn.preprocessing import StandardScaler\n",
        "from sklearn.model_selection import cross_val_score, train_test_split\n",
        "\n",
        "dcopy = data.copy()\n",
        "\n",
        "X = dcopy.drop(\"Class\", axis=1)\n",
        "y = dcopy[\"Class\"]\n",
        "print(X.head(), \"\\n\")\n",
        "print(y.head())"
      ],
      "execution_count": 11,
      "outputs": [
        {
          "output_type": "stream",
          "text": [
            "   CapShape  CapSurface  CapColor  ...  SporePrintColor  Population  Habitat\n",
            "0    0.6667        0.25       1.0  ...           1.0000      0.5000   0.4286\n",
            "1    0.6667        0.25       0.1  ...           0.8889      0.6667   1.0000\n",
            "2    1.0000        0.25       0.2  ...           0.8889      0.6667   0.7143\n",
            "3    0.6667        0.50       0.2  ...           1.0000      0.5000   0.4286\n",
            "4    0.6667        0.25       0.7  ...           0.8889      1.0000   1.0000\n",
            "\n",
            "[5 rows x 22 columns] \n",
            "\n",
            "0    0.5\n",
            "1    1.0\n",
            "2    1.0\n",
            "3    0.5\n",
            "4    1.0\n",
            "Name: Class, dtype: float64\n"
          ],
          "name": "stdout"
        }
      ]
    },
    {
      "cell_type": "code",
      "metadata": {
        "id": "lMWu8r8nTbb1",
        "colab_type": "code",
        "colab": {
          "base_uri": "https://localhost:8080/",
          "height": 84
        },
        "outputId": "72c28492-f33f-4993-8c20-ce40997851bc"
      },
      "source": [
        "# divide train and test selections\n",
        "X_train, X_test, y_train, y_test = train_test_split(X, y,\n",
        "                            test_size=0.25, random_state=1)\n",
        "print(X_train.shape)\n",
        "print(X_test.shape)\n",
        "print(y_train.shape)\n",
        "print(y_test.shape)"
      ],
      "execution_count": 12,
      "outputs": [
        {
          "output_type": "stream",
          "text": [
            "(6093, 22)\n",
            "(2031, 22)\n",
            "(6093,)\n",
            "(2031,)\n"
          ],
          "name": "stdout"
        }
      ]
    },
    {
      "cell_type": "markdown",
      "metadata": {
        "id": "AN010MviTphQ",
        "colab_type": "text"
      },
      "source": [
        "**Обучение моделей**\n",
        "\n",
        "**Model training**"
      ]
    },
    {
      "cell_type": "code",
      "metadata": {
        "id": "dRwGJ3ZATmP8",
        "colab_type": "code",
        "colab": {}
      },
      "source": [
        "from sklearn.neighbors import KNeighborsRegressor\n",
        "from sklearn.metrics import mean_absolute_error\n",
        "from sklearn.metrics import median_absolute_error, r2_score\n",
        "\n",
        "def test_model(model):\n",
        "    print(\"mean_absolute_error:\",\n",
        "          mean_absolute_error(y_test, model.predict(X_test)))\n",
        "    print(\"median_absolute_error:\",\n",
        "          median_absolute_error(y_test, model.predict(X_test)))\n",
        "    print(\"r2_score:\",\n",
        "          r2_score(y_test, model.predict(X_test)))"
      ],
      "execution_count": 0,
      "outputs": []
    },
    {
      "cell_type": "markdown",
      "metadata": {
        "id": "IrnNnersT796",
        "colab_type": "text"
      },
      "source": [
        "**Случайный лес**\n",
        "\n",
        "**Random forest**"
      ]
    },
    {
      "cell_type": "code",
      "metadata": {
        "id": "eNYURkPwT54H",
        "colab_type": "code",
        "colab": {
          "base_uri": "https://localhost:8080/",
          "height": 134
        },
        "outputId": "1ac441cf-42aa-4678-a371-00e916699867"
      },
      "source": [
        "from sklearn.ensemble import RandomForestRegressor\n",
        "\n",
        "ran_80 = RandomForestRegressor(n_estimators=80)\n",
        "ran_80.fit(X_train, y_train)"
      ],
      "execution_count": 29,
      "outputs": [
        {
          "output_type": "execute_result",
          "data": {
            "text/plain": [
              "RandomForestRegressor(bootstrap=True, ccp_alpha=0.0, criterion='mse',\n",
              "                      max_depth=None, max_features='auto', max_leaf_nodes=None,\n",
              "                      max_samples=None, min_impurity_decrease=0.0,\n",
              "                      min_impurity_split=None, min_samples_leaf=1,\n",
              "                      min_samples_split=2, min_weight_fraction_leaf=0.0,\n",
              "                      n_estimators=80, n_jobs=None, oob_score=False,\n",
              "                      random_state=None, verbose=0, warm_start=False)"
            ]
          },
          "metadata": {
            "tags": []
          },
          "execution_count": 29
        }
      ]
    },
    {
      "cell_type": "code",
      "metadata": {
        "id": "iBV8xReyUEYe",
        "colab_type": "code",
        "colab": {
          "base_uri": "https://localhost:8080/",
          "height": 67
        },
        "outputId": "8aca5b6e-89ca-4b1e-c3a1-a1bd187efc27"
      },
      "source": [
        "test_model(ran_80)"
      ],
      "execution_count": 30,
      "outputs": [
        {
          "output_type": "stream",
          "text": [
            "mean_absolute_error: 0.0\n",
            "median_absolute_error: 0.0\n",
            "r2_score: 1.0\n"
          ],
          "name": "stdout"
        }
      ]
    },
    {
      "cell_type": "markdown",
      "metadata": {
        "id": "EJYw7SADUKxP",
        "colab_type": "text"
      },
      "source": [
        "**Градиентный бустинг**\n",
        "\n",
        "**Gradient Boost**"
      ]
    },
    {
      "cell_type": "code",
      "metadata": {
        "id": "pBZwLDo7UHR9",
        "colab_type": "code",
        "colab": {
          "base_uri": "https://localhost:8080/",
          "height": 168
        },
        "outputId": "ca2c4f92-9d52-4783-f561-03eab00d9fde"
      },
      "source": [
        "from sklearn.ensemble import GradientBoostingRegressor\n",
        "\n",
        "gr_80 = GradientBoostingRegressor(n_estimators=80)\n",
        "gr_80.fit(X_train, y_train)"
      ],
      "execution_count": 31,
      "outputs": [
        {
          "output_type": "execute_result",
          "data": {
            "text/plain": [
              "GradientBoostingRegressor(alpha=0.9, ccp_alpha=0.0, criterion='friedman_mse',\n",
              "                          init=None, learning_rate=0.1, loss='ls', max_depth=3,\n",
              "                          max_features=None, max_leaf_nodes=None,\n",
              "                          min_impurity_decrease=0.0, min_impurity_split=None,\n",
              "                          min_samples_leaf=1, min_samples_split=2,\n",
              "                          min_weight_fraction_leaf=0.0, n_estimators=80,\n",
              "                          n_iter_no_change=None, presort='deprecated',\n",
              "                          random_state=None, subsample=1.0, tol=0.0001,\n",
              "                          validation_fraction=0.1, verbose=0, warm_start=False)"
            ]
          },
          "metadata": {
            "tags": []
          },
          "execution_count": 31
        }
      ]
    },
    {
      "cell_type": "code",
      "metadata": {
        "id": "AU_k9QXJURCL",
        "colab_type": "code",
        "colab": {
          "base_uri": "https://localhost:8080/",
          "height": 67
        },
        "outputId": "49f43ad6-8f01-4704-bd23-4c92c6dfae25"
      },
      "source": [
        "test_model(gr_80)"
      ],
      "execution_count": 32,
      "outputs": [
        {
          "output_type": "stream",
          "text": [
            "mean_absolute_error: 0.006802494393104271\n",
            "median_absolute_error: 0.0010510475336632519\n",
            "r2_score: 0.9900409523010036\n"
          ],
          "name": "stdout"
        }
      ]
    },
    {
      "cell_type": "markdown",
      "metadata": {
        "id": "79OOKt1AUXza",
        "colab_type": "text"
      },
      "source": [
        "**Подбор гиперпараметра n**\n",
        "\n",
        "**Hyperparameter n selection**"
      ]
    },
    {
      "cell_type": "markdown",
      "metadata": {
        "id": "nFEHX-g1UavH",
        "colab_type": "text"
      },
      "source": [
        "**Случайный лес**\n",
        "\n",
        "**Random forest**"
      ]
    },
    {
      "cell_type": "code",
      "metadata": {
        "id": "FxcT-YcaUSwW",
        "colab_type": "code",
        "colab": {
          "base_uri": "https://localhost:8080/",
          "height": 34
        },
        "outputId": "d12a6347-2ecb-47b6-b001-bbb75b6af87c"
      },
      "source": [
        "param_range = np.arange(50, 170, 10)\n",
        "tuned_parameters = [{'n_estimators': param_range}]\n",
        "tuned_parameters"
      ],
      "execution_count": 46,
      "outputs": [
        {
          "output_type": "execute_result",
          "data": {
            "text/plain": [
              "[{'n_estimators': array([ 50,  60,  70,  80,  90, 100, 110, 120, 130, 140, 150, 160])}]"
            ]
          },
          "metadata": {
            "tags": []
          },
          "execution_count": 46
        }
      ]
    },
    {
      "cell_type": "code",
      "metadata": {
        "id": "MpCVa8xBUeGk",
        "colab_type": "code",
        "colab": {
          "base_uri": "https://localhost:8080/",
          "height": 134
        },
        "outputId": "d84d8cd7-7f9b-4134-faad-9748668c750d"
      },
      "source": [
        "from sklearn.model_selection import GridSearchCV\n",
        "from sklearn.model_selection import ShuffleSplit\n",
        "\n",
        "gs = GridSearchCV(RandomForestRegressor(), tuned_parameters,\n",
        "                  cv=ShuffleSplit(n_splits=10), scoring=\"r2\",\n",
        "                  return_train_score=True, n_jobs=-1)\n",
        "gs.fit(X, y)\n",
        "gs.best_estimator_"
      ],
      "execution_count": 47,
      "outputs": [
        {
          "output_type": "execute_result",
          "data": {
            "text/plain": [
              "RandomForestRegressor(bootstrap=True, ccp_alpha=0.0, criterion='mse',\n",
              "                      max_depth=None, max_features='auto', max_leaf_nodes=None,\n",
              "                      max_samples=None, min_impurity_decrease=0.0,\n",
              "                      min_impurity_split=None, min_samples_leaf=1,\n",
              "                      min_samples_split=2, min_weight_fraction_leaf=0.0,\n",
              "                      n_estimators=80, n_jobs=None, oob_score=False,\n",
              "                      random_state=None, verbose=0, warm_start=False)"
            ]
          },
          "metadata": {
            "tags": []
          },
          "execution_count": 47
        }
      ]
    },
    {
      "cell_type": "code",
      "metadata": {
        "id": "EiWfaiCsUkkN",
        "colab_type": "code",
        "colab": {
          "base_uri": "https://localhost:8080/",
          "height": 276
        },
        "outputId": "9ddd3558-2fe1-499e-f3ff-d797640b71aa"
      },
      "source": [
        "import matplotlib.pyplot as plt\n",
        "%matplotlib inline\n",
        "\n",
        "plt.plot(param_range, gs.cv_results_[\"mean_train_score\"]);"
      ],
      "execution_count": 48,
      "outputs": [
        {
          "output_type": "display_data",
          "data": {
            "image/png": "[encoded data removed]",
            "text/plain": [
              "<Figure size 432x288 with 1 Axes>"
            ]
          },
          "metadata": {
            "tags": [],
            "needs_background": "light"
          }
        }
      ]
    },
    {
      "cell_type": "code",
      "metadata": {
        "id": "eofXCO9kUq4d",
        "colab_type": "code",
        "colab": {
          "base_uri": "https://localhost:8080/",
          "height": 276
        },
        "outputId": "687318ef-db1b-463c-bbb0-1bb611a0212a"
      },
      "source": [
        "plt.plot(param_range, gs.cv_results_[\"mean_test_score\"]);"
      ],
      "execution_count": 49,
      "outputs": [
        {
          "output_type": "display_data",
          "data": {
            "image/png": "[encoded data removed]",
            "text/plain": [
              "<Figure size 432x288 with 1 Axes>"
            ]
          },
          "metadata": {
            "tags": [],
            "needs_background": "light"
          }
        }
      ]
    },
    {
      "cell_type": "code",
      "metadata": {
        "id": "sa7C79mgUreF",
        "colab_type": "code",
        "colab": {
          "base_uri": "https://localhost:8080/",
          "height": 67
        },
        "outputId": "e39e2cd8-c320-4e8e-8f98-7a1ebd1513f2"
      },
      "source": [
        "reg = gs.best_estimator_\n",
        "reg.fit(X_train, y_train)\n",
        "test_model(reg)"
      ],
      "execution_count": 50,
      "outputs": [
        {
          "output_type": "stream",
          "text": [
            "mean_absolute_error: 6.154603643525363e-05\n",
            "median_absolute_error: 0.0\n",
            "r2_score: 0.9999753811019957\n"
          ],
          "name": "stdout"
        }
      ]
    },
    {
      "cell_type": "markdown",
      "metadata": {
        "id": "Wyqo8Ua-UvP8",
        "colab_type": "text"
      },
      "source": [
        "**Градиентный бустинг**\n",
        "\n",
        "**Gradient Boost**"
      ]
    },
    {
      "cell_type": "code",
      "metadata": {
        "id": "LLymyqq9UriC",
        "colab_type": "code",
        "colab": {
          "base_uri": "https://localhost:8080/",
          "height": 168
        },
        "outputId": "17b9b962-a91f-4537-b9c7-bd794dff24bb"
      },
      "source": [
        "gs = GridSearchCV(GradientBoostingRegressor(), tuned_parameters,\n",
        "                  cv=ShuffleSplit(n_splits=10), scoring=\"r2\",\n",
        "                  return_train_score=True, n_jobs=-1)\n",
        "gs.fit(X, y)\n",
        "gs.best_estimator_"
      ],
      "execution_count": 28,
      "outputs": [
        {
          "output_type": "execute_result",
          "data": {
            "text/plain": [
              "GradientBoostingRegressor(alpha=0.9, ccp_alpha=0.0, criterion='friedman_mse',\n",
              "                          init=None, learning_rate=0.1, loss='ls', max_depth=3,\n",
              "                          max_features=None, max_leaf_nodes=None,\n",
              "                          min_impurity_decrease=0.0, min_impurity_split=None,\n",
              "                          min_samples_leaf=1, min_samples_split=2,\n",
              "                          min_weight_fraction_leaf=0.0, n_estimators=200,\n",
              "                          n_iter_no_change=None, presort='deprecated',\n",
              "                          random_state=None, subsample=1.0, tol=0.0001,\n",
              "                          validation_fraction=0.1, verbose=0, warm_start=False)"
            ]
          },
          "metadata": {
            "tags": []
          },
          "execution_count": 28
        }
      ]
    },
    {
      "cell_type": "code",
      "metadata": {
        "id": "wx0EUvkuUrlj",
        "colab_type": "code",
        "colab": {
          "base_uri": "https://localhost:8080/",
          "height": 265
        },
        "outputId": "5e238897-e588-487b-fc8e-5591a09cac70"
      },
      "source": [
        "plt.plot(param_range, gs.cv_results_[\"mean_train_score\"]);"
      ],
      "execution_count": 33,
      "outputs": [
        {
          "output_type": "display_data",
          "data": {
            "image/png": "[encoded data removed]",
            "text/plain": [
              "<Figure size 432x288 with 1 Axes>"
            ]
          },
          "metadata": {
            "tags": [],
            "needs_background": "light"
          }
        }
      ]
    },
    {
      "cell_type": "code",
      "metadata": {
        "id": "mkdksMAUU3cD",
        "colab_type": "code",
        "colab": {
          "base_uri": "https://localhost:8080/",
          "height": 265
        },
        "outputId": "215faaf0-d5dd-424b-a291-2238e5bb34cb"
      },
      "source": [
        "plt.plot(param_range, gs.cv_results_[\"mean_test_score\"]);"
      ],
      "execution_count": 34,
      "outputs": [
        {
          "output_type": "display_data",
          "data": {
            "image/png": "[encoded data removed]",
            "text/plain": [
              "<Figure size 432x288 with 1 Axes>"
            ]
          },
          "metadata": {
            "tags": [],
            "needs_background": "light"
          }
        }
      ]
    },
    {
      "cell_type": "code",
      "metadata": {
        "id": "BQ5lW_iLU7t5",
        "colab_type": "code",
        "colab": {
          "base_uri": "https://localhost:8080/",
          "height": 67
        },
        "outputId": "7cd8b1bb-f9f0-4d7f-997b-e7f3bd7309e1"
      },
      "source": [
        "reg = gs.best_estimator_\n",
        "reg.fit(X_train, y_train)\n",
        "test_model(reg)"
      ],
      "execution_count": 35,
      "outputs": [
        {
          "output_type": "stream",
          "text": [
            "mean_absolute_error: 0.0028189626630988947\n",
            "median_absolute_error: 0.0005545827653701263\n",
            "r2_score: 0.9980449702667502\n"
          ],
          "name": "stdout"
        }
      ]
    },
    {
      "cell_type": "code",
      "metadata": {
        "id": "MB79H3bGWDr1",
        "colab_type": "code",
        "colab": {}
      },
      "source": [
        ""
      ],
      "execution_count": 0,
      "outputs": []
    }
  ]
}